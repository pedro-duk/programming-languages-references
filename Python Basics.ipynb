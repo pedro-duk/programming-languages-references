{
 "cells": [
  {
   "cell_type": "markdown",
   "id": "687c76cf",
   "metadata": {},
   "source": [
    "# Types\n",
    "\n",
    "- **Mutable**: Lists, Sets, Dicts. Can be modified when [passing by reference](#passing-as-reference);\n",
    "- **Immutable**: Strings, Numbers."
   ]
  },
  {
   "cell_type": "markdown",
   "id": "0b818e46-c957-4c4d-8826-a42eb9d0466a",
   "metadata": {},
   "source": [
    "# Number types"
   ]
  },
  {
   "cell_type": "code",
   "execution_count": 1,
   "id": "cea6c680-f4c5-426e-9285-24dcc04e6363",
   "metadata": {},
   "outputs": [],
   "source": [
    "num1 = 1         # Integer\n",
    "num2 = 1.0       # Floating point number\n",
    "\n",
    "# Can perform basic arithmethic with each"
   ]
  },
  {
   "cell_type": "code",
   "execution_count": 2,
   "id": "d1d56a8d-6a5e-4785-ad67-f148276f46df",
   "metadata": {},
   "outputs": [
    {
     "data": {
      "text/plain": [
       "2"
      ]
     },
     "execution_count": 2,
     "metadata": {},
     "output_type": "execute_result"
    }
   ],
   "source": [
    "1 + 1"
   ]
  },
  {
   "cell_type": "code",
   "execution_count": 3,
   "id": "cb8ab6b8-a4c5-4c0f-8626-d3be1aa5dfc2",
   "metadata": {},
   "outputs": [
    {
     "data": {
      "text/plain": [
       "3"
      ]
     },
     "execution_count": 3,
     "metadata": {},
     "output_type": "execute_result"
    }
   ],
   "source": [
    "1 * 3"
   ]
  },
  {
   "cell_type": "code",
   "execution_count": 4,
   "id": "f149fc03-77a5-496d-9075-fdf68135576f",
   "metadata": {},
   "outputs": [
    {
     "data": {
      "text/plain": [
       "0.5"
      ]
     },
     "execution_count": 4,
     "metadata": {},
     "output_type": "execute_result"
    }
   ],
   "source": [
    "1 / 2             # Converts to FP"
   ]
  },
  {
   "cell_type": "code",
   "execution_count": 5,
   "id": "3c9be5b1-d989-48cd-b1cc-50e9e4a3645a",
   "metadata": {},
   "outputs": [
    {
     "data": {
      "text/plain": [
       "1"
      ]
     },
     "execution_count": 5,
     "metadata": {},
     "output_type": "execute_result"
    }
   ],
   "source": [
    "5 % 2             # Module"
   ]
  },
  {
   "cell_type": "code",
   "execution_count": 6,
   "id": "6d598221-aef0-451a-9b68-083c965e454d",
   "metadata": {},
   "outputs": [
    {
     "data": {
      "text/plain": [
       "16"
      ]
     },
     "execution_count": 6,
     "metadata": {},
     "output_type": "execute_result"
    }
   ],
   "source": [
    "2 ** 4            # 2 to the power of 4"
   ]
  },
  {
   "cell_type": "code",
   "execution_count": 7,
   "id": "26b2949c-94e6-4d85-9a65-3715b4ef49c7",
   "metadata": {},
   "outputs": [
    {
     "data": {
      "text/plain": [
       "22"
      ]
     },
     "execution_count": 7,
     "metadata": {},
     "output_type": "execute_result"
    }
   ],
   "source": [
    "2 + 3 * 5 + 5     # Follows the order of operations, you can use parenthesis"
   ]
  },
  {
   "cell_type": "markdown",
   "id": "eac5bbab-f439-4682-86cd-f429d107ff94",
   "metadata": {},
   "source": [
    "## Variables"
   ]
  },
  {
   "cell_type": "code",
   "execution_count": 8,
   "id": "96d805a3-d60b-4483-98a0-84456450ac23",
   "metadata": {},
   "outputs": [
    {
     "data": {
      "text/plain": [
       "2"
      ]
     },
     "execution_count": 8,
     "metadata": {},
     "output_type": "execute_result"
    }
   ],
   "source": [
    "var = 2           # Assigns an object type of number to variable of name \"var\"\n",
    "                  # Variables shouldn't start with numbers or special symbols: 12var, $var etc\n",
    "                  # Prefer to use variables in lowercase with underscore separating words: name_of_var\n",
    "var"
   ]
  },
  {
   "cell_type": "code",
   "execution_count": 9,
   "id": "39c2559e-c9fa-4c31-a900-712a3f26e682",
   "metadata": {},
   "outputs": [
    {
     "data": {
      "text/plain": [
       "5"
      ]
     },
     "execution_count": 9,
     "metadata": {},
     "output_type": "execute_result"
    }
   ],
   "source": [
    "x = 2\n",
    "y = 3\n",
    "x + y"
   ]
  },
  {
   "cell_type": "code",
   "execution_count": 10,
   "id": "07a359be-3df5-45fd-b43c-c3a71606dd94",
   "metadata": {},
   "outputs": [
    {
     "data": {
      "text/plain": [
       "4"
      ]
     },
     "execution_count": 10,
     "metadata": {},
     "output_type": "execute_result"
    }
   ],
   "source": [
    "x = x + x          # Reassigning\n",
    "x"
   ]
  },
  {
   "cell_type": "markdown",
   "id": "4fbaf31d-a49b-408b-9f13-8bce8ef80920",
   "metadata": {},
   "source": [
    "# Strings"
   ]
  },
  {
   "cell_type": "code",
   "execution_count": 11,
   "id": "12a0c4b3-025d-41d7-adac-c9f6fb6668f0",
   "metadata": {},
   "outputs": [
    {
     "data": {
      "text/plain": [
       "'single quote'"
      ]
     },
     "execution_count": 11,
     "metadata": {},
     "output_type": "execute_result"
    }
   ],
   "source": [
    "'single quote'"
   ]
  },
  {
   "cell_type": "code",
   "execution_count": 12,
   "id": "274049b0-197f-4d43-b51b-0eb329b5576e",
   "metadata": {},
   "outputs": [
    {
     "data": {
      "text/plain": [
       "'double quote'"
      ]
     },
     "execution_count": 12,
     "metadata": {},
     "output_type": "execute_result"
    }
   ],
   "source": [
    "\"double quote\""
   ]
  },
  {
   "cell_type": "code",
   "execution_count": 13,
   "id": "3a440fcf-96c3-47ba-9cf7-2174f49973d1",
   "metadata": {},
   "outputs": [
    {
     "data": {
      "text/plain": [
       "\"Wrapping single 'quotes' inside double\""
      ]
     },
     "execution_count": 13,
     "metadata": {},
     "output_type": "execute_result"
    }
   ],
   "source": [
    "\"Wrapping single 'quotes' inside double\""
   ]
  },
  {
   "cell_type": "code",
   "execution_count": 14,
   "id": "42613c49-0960-47c8-bb17-430019f5f78f",
   "metadata": {},
   "outputs": [
    {
     "data": {
      "text/plain": [
       "'Wrapping double \"quotes\" inside single'"
      ]
     },
     "execution_count": 14,
     "metadata": {},
     "output_type": "execute_result"
    }
   ],
   "source": [
    "'Wrapping double \"quotes\" inside single'"
   ]
  },
  {
   "cell_type": "code",
   "execution_count": 15,
   "id": "f1af1ae3-c856-4b6b-81dc-c5f841718032",
   "metadata": {},
   "outputs": [],
   "source": [
    "x = 'hello'"
   ]
  },
  {
   "cell_type": "code",
   "execution_count": 16,
   "id": "331da978-6549-40ae-8907-05ac20cef57a",
   "metadata": {},
   "outputs": [
    {
     "data": {
      "text/plain": [
       "'hello'"
      ]
     },
     "execution_count": 16,
     "metadata": {},
     "output_type": "execute_result"
    }
   ],
   "source": [
    "x               # Prints full variable, including quotes"
   ]
  },
  {
   "cell_type": "code",
   "execution_count": 17,
   "id": "39881cb8-09c3-434f-b4e1-6d5375287fa1",
   "metadata": {},
   "outputs": [
    {
     "name": "stdout",
     "output_type": "stream",
     "text": [
      "hello\n"
     ]
    }
   ],
   "source": [
    "print(x)        # Prints actual value of string, no quotes"
   ]
  },
  {
   "cell_type": "code",
   "execution_count": 18,
   "id": "2bf6e8d1-3ac3-44b0-952d-cab34d08c7e6",
   "metadata": {},
   "outputs": [],
   "source": [
    "num = 12\n",
    "name = 'Pootis'"
   ]
  },
  {
   "cell_type": "code",
   "execution_count": 19,
   "id": "d7139684-092b-42fa-812a-9960c08783a0",
   "metadata": {},
   "outputs": [
    {
     "data": {
      "text/plain": [
       "'My number is 12 and my name is Pootis'"
      ]
     },
     "execution_count": 19,
     "metadata": {},
     "output_type": "execute_result"
    }
   ],
   "source": [
    "'My number is {} and my name is {}'.format(num, name) # Pass variable names in the order that you want to fill the brackets"
   ]
  },
  {
   "cell_type": "code",
   "execution_count": 20,
   "id": "ddcb20d5-05ea-4316-8c95-8a4cde56428c",
   "metadata": {},
   "outputs": [
    {
     "data": {
      "text/plain": [
       "'My number is 12 and my name is Pootis. Again: 12'"
      ]
     },
     "execution_count": 20,
     "metadata": {},
     "output_type": "execute_result"
    }
   ],
   "source": [
    "'My number is {one} and my name is {two}. Again: {one}'.format(one=num,two=name)\n",
    "# No need to worry about order and can reuse variables"
   ]
  },
  {
   "cell_type": "code",
   "execution_count": 21,
   "id": "7bbf4458-1ded-4626-9630-64be9a67b753",
   "metadata": {},
   "outputs": [
    {
     "data": {
      "text/plain": [
       "'concatenate strings with a sum operation!'"
      ]
     },
     "execution_count": 21,
     "metadata": {},
     "output_type": "execute_result"
    }
   ],
   "source": [
    "'concatenate strings with' + ' a sum operation!'"
   ]
  },
  {
   "cell_type": "markdown",
   "id": "04812046-8ea5-41bf-8e54-f3f08d42e6be",
   "metadata": {},
   "source": [
    "## Indexing strings"
   ]
  },
  {
   "cell_type": "code",
   "execution_count": 22,
   "id": "4234c24d-ea0e-4db4-a8d2-259958d133b9",
   "metadata": {},
   "outputs": [],
   "source": [
    "s = 'abcdefgh'        # s is a sequence of elements, each element is a letter"
   ]
  },
  {
   "cell_type": "code",
   "execution_count": 23,
   "id": "50a1aeed-bc79-4b06-866d-9b620a117aad",
   "metadata": {},
   "outputs": [
    {
     "data": {
      "text/plain": [
       "'b'"
      ]
     },
     "execution_count": 23,
     "metadata": {},
     "output_type": "execute_result"
    }
   ],
   "source": [
    "s[1]               # indexing starts at 0"
   ]
  },
  {
   "cell_type": "code",
   "execution_count": 24,
   "id": "63970ed7-330d-4e0d-9275-17b2b9631c35",
   "metadata": {},
   "outputs": [],
   "source": [
    "# s[10] # index out of range"
   ]
  },
  {
   "cell_type": "code",
   "execution_count": 25,
   "id": "709ef460-c28e-4618-adfe-e62fb18d8972",
   "metadata": {},
   "outputs": [
    {
     "data": {
      "text/plain": [
       "'g'"
      ]
     },
     "execution_count": 25,
     "metadata": {},
     "output_type": "execute_result"
    }
   ],
   "source": [
    "s[-2]"
   ]
  },
  {
   "cell_type": "code",
   "execution_count": 26,
   "id": "cd4d3ebd-13c1-4e7f-8c0c-19c05373b734",
   "metadata": {},
   "outputs": [
    {
     "data": {
      "text/plain": [
       "'bc'"
      ]
     },
     "execution_count": 26,
     "metadata": {},
     "output_type": "execute_result"
    }
   ],
   "source": [
    "s[1:3]               # Slice syntax, AKA colon notation. Start at index 1, up to (but not including) index 3"
   ]
  },
  {
   "cell_type": "code",
   "execution_count": 27,
   "id": "53dd6c2c-7ec6-481c-afd5-d686685c3012",
   "metadata": {},
   "outputs": [
    {
     "data": {
      "text/plain": [
       "'abc'"
      ]
     },
     "execution_count": 27,
     "metadata": {},
     "output_type": "execute_result"
    }
   ],
   "source": [
    "s[:3]                # Everything up to (but not including) index 3"
   ]
  },
  {
   "cell_type": "markdown",
   "id": "6c3c781d-d3c9-4e70-8d79-bbfadd49dbcc",
   "metadata": {},
   "source": [
    "## Useful methods"
   ]
  },
  {
   "cell_type": "code",
   "execution_count": 28,
   "id": "3ef4f772-8484-4fdc-a54e-559fe8fb64d7",
   "metadata": {},
   "outputs": [],
   "source": [
    "s = 'hello my name is Pootis'"
   ]
  },
  {
   "cell_type": "code",
   "execution_count": 29,
   "id": "4b8422d2-21b8-41d8-ad96-8938d668ab75",
   "metadata": {
    "jupyter": {
     "source_hidden": true
    }
   },
   "outputs": [
    {
     "data": {
      "text/plain": [
       "'hello my name is pootis'"
      ]
     },
     "execution_count": 29,
     "metadata": {},
     "output_type": "execute_result"
    }
   ],
   "source": [
    "s.lower() # press tab after the dot to view all methods in jupyter"
   ]
  },
  {
   "cell_type": "code",
   "execution_count": 30,
   "id": "b8da3a2f-d890-49dc-97d8-19510b22297c",
   "metadata": {},
   "outputs": [
    {
     "data": {
      "text/plain": [
       "['hello', 'my', 'name', 'is', 'Pootis']"
      ]
     },
     "execution_count": 30,
     "metadata": {},
     "output_type": "execute_result"
    }
   ],
   "source": [
    "s.split() # splits on whitespaces"
   ]
  },
  {
   "cell_type": "code",
   "execution_count": 31,
   "id": "980c6e89-9ca1-4991-945c-fd78c94145df",
   "metadata": {},
   "outputs": [
    {
     "data": {
      "text/plain": [
       "['hello ', 'y na', 'e is Pootis']"
      ]
     },
     "execution_count": 31,
     "metadata": {},
     "output_type": "execute_result"
    }
   ],
   "source": [
    "s.split(\"m\") #splits on given string\""
   ]
  },
  {
   "cell_type": "code",
   "execution_count": 1,
   "id": "916884ed",
   "metadata": {},
   "outputs": [
    {
     "data": {
      "text/plain": [
       "'bbtbtb'"
      ]
     },
     "execution_count": 1,
     "metadata": {},
     "output_type": "execute_result"
    }
   ],
   "source": [
    "\"batata\".replace('a', 'b')"
   ]
  },
  {
   "cell_type": "code",
   "execution_count": 4,
   "id": "47e192e9",
   "metadata": {},
   "outputs": [
    {
     "data": {
      "text/plain": [
       "'atatab'"
      ]
     },
     "execution_count": 4,
     "metadata": {},
     "output_type": "execute_result"
    }
   ],
   "source": [
    "\"\".join(reversed(\"batata\"))"
   ]
  },
  {
   "cell_type": "code",
   "execution_count": 5,
   "id": "cdd03f3e",
   "metadata": {},
   "outputs": [
    {
     "data": {
      "text/plain": [
       "6"
      ]
     },
     "execution_count": 5,
     "metadata": {},
     "output_type": "execute_result"
    }
   ],
   "source": [
    "len(\"batata\")"
   ]
  },
  {
   "cell_type": "markdown",
   "id": "0a36012d-df61-483d-a79c-4f8dec5921c6",
   "metadata": {},
   "source": [
    "# Lists"
   ]
  },
  {
   "cell_type": "code",
   "execution_count": 32,
   "id": "ec06d348-d3b2-4168-9ea0-df0703bed090",
   "metadata": {},
   "outputs": [
    {
     "data": {
      "text/plain": [
       "[1, 2, 3]"
      ]
     },
     "execution_count": 32,
     "metadata": {},
     "output_type": "execute_result"
    }
   ],
   "source": [
    "# Lists are sequence of elements in a set of square brackets separated by commas\n",
    "[1,2,3]"
   ]
  },
  {
   "cell_type": "code",
   "execution_count": 33,
   "id": "a3f39ddd-15a8-4335-863e-a4c4479ef305",
   "metadata": {},
   "outputs": [
    {
     "data": {
      "text/plain": [
       "['a', 'b', 3]"
      ]
     },
     "execution_count": 33,
     "metadata": {},
     "output_type": "execute_result"
    }
   ],
   "source": [
    "# Takes any data type\n",
    "['a','b',3]"
   ]
  },
  {
   "cell_type": "code",
   "execution_count": 34,
   "id": "31cc5bd8-5229-4957-8fb6-49d7fe4bcd49",
   "metadata": {},
   "outputs": [],
   "source": [
    "my_list = ['a', 'b', 'c']"
   ]
  },
  {
   "cell_type": "code",
   "execution_count": 35,
   "id": "2dc2f44c-b920-4930-8f9b-171441d845d1",
   "metadata": {},
   "outputs": [
    {
     "data": {
      "text/plain": [
       "['a', 'b', 'c', 'd']"
      ]
     },
     "execution_count": 35,
     "metadata": {},
     "output_type": "execute_result"
    }
   ],
   "source": [
    "my_list.append('d')\n",
    "my_list"
   ]
  },
  {
   "cell_type": "code",
   "execution_count": 36,
   "id": "99fbc3e3-5544-4000-a570-3c1b4d5c3c67",
   "metadata": {},
   "outputs": [
    {
     "data": {
      "text/plain": [
       "'d'"
      ]
     },
     "execution_count": 36,
     "metadata": {},
     "output_type": "execute_result"
    }
   ],
   "source": [
    "# Lists are sequence, just like strings\n",
    "my_list[3]"
   ]
  },
  {
   "cell_type": "code",
   "execution_count": 37,
   "id": "db42287f-aea5-4c77-a7a1-073c37873f7f",
   "metadata": {},
   "outputs": [
    {
     "data": {
      "text/plain": [
       "'NEW'"
      ]
     },
     "execution_count": 37,
     "metadata": {},
     "output_type": "execute_result"
    }
   ],
   "source": [
    "# Reassigning positions\n",
    "my_list = 'NEW'\n",
    "my_list"
   ]
  },
  {
   "cell_type": "code",
   "execution_count": 38,
   "id": "33c1d420-1c8e-4aee-84be-29db59057bef",
   "metadata": {},
   "outputs": [
    {
     "data": {
      "text/plain": [
       "[1, 2, [3, 4]]"
      ]
     },
     "execution_count": 38,
     "metadata": {},
     "output_type": "execute_result"
    }
   ],
   "source": [
    "# Nesting lists inside another\n",
    "nest = [1,2,[3,4]]\n",
    "nest"
   ]
  },
  {
   "cell_type": "code",
   "execution_count": 39,
   "id": "e86d2727-7c08-447e-8254-80a820eb74f2",
   "metadata": {},
   "outputs": [
    {
     "data": {
      "text/plain": [
       "[3, 4]"
      ]
     },
     "execution_count": 39,
     "metadata": {},
     "output_type": "execute_result"
    }
   ],
   "source": [
    "nest[2]"
   ]
  },
  {
   "cell_type": "code",
   "execution_count": 40,
   "id": "4473cdda-c26d-4b55-9b32-7706b58aa124",
   "metadata": {},
   "outputs": [
    {
     "data": {
      "text/plain": [
       "4"
      ]
     },
     "execution_count": 40,
     "metadata": {},
     "output_type": "execute_result"
    }
   ],
   "source": [
    "nest[2][1]"
   ]
  },
  {
   "cell_type": "code",
   "execution_count": 41,
   "id": "9c3960ac-9378-4074-8cc3-30247710dc55",
   "metadata": {},
   "outputs": [],
   "source": [
    "nest2 = [1,2,3,[4,5,['target']]]"
   ]
  },
  {
   "cell_type": "code",
   "execution_count": 42,
   "id": "cbf20f34-85c9-4d25-ab0d-c47686e7d067",
   "metadata": {},
   "outputs": [
    {
     "data": {
      "text/plain": [
       "'target'"
      ]
     },
     "execution_count": 42,
     "metadata": {},
     "output_type": "execute_result"
    }
   ],
   "source": [
    "nest2[3][2][0]"
   ]
  },
  {
   "cell_type": "markdown",
   "id": "613766e4-0ecd-4860-a80e-4ab65ac38a93",
   "metadata": {},
   "source": [
    "## Useful Methods"
   ]
  },
  {
   "cell_type": "code",
   "execution_count": 43,
   "id": "0d84a36d-cdce-46ea-8772-3ba400a7f80e",
   "metadata": {},
   "outputs": [
    {
     "data": {
      "text/plain": [
       "3"
      ]
     },
     "execution_count": 43,
     "metadata": {},
     "output_type": "execute_result"
    }
   ],
   "source": [
    "lst = [1,2,3]\n",
    "lst.pop()"
   ]
  },
  {
   "cell_type": "code",
   "execution_count": 44,
   "id": "847d822a-17bd-4f89-bc84-bc3aa1986c2e",
   "metadata": {},
   "outputs": [
    {
     "data": {
      "text/plain": [
       "[1, 2]"
      ]
     },
     "execution_count": 44,
     "metadata": {},
     "output_type": "execute_result"
    }
   ],
   "source": [
    "lst"
   ]
  },
  {
   "cell_type": "code",
   "execution_count": null,
   "id": "73c25087-1b82-4f46-bf15-288a2c4f3d98",
   "metadata": {},
   "outputs": [
    {
     "data": {
      "text/plain": [
       "2"
      ]
     },
     "execution_count": 45,
     "metadata": {},
     "output_type": "execute_result"
    }
   ],
   "source": [
    "lst = [1,2,3,4]\n",
    "lst.pop(1) # Returns the value"
   ]
  },
  {
   "cell_type": "code",
   "execution_count": 46,
   "id": "0fecc063-5f1c-43c5-9454-52a96755edf9",
   "metadata": {},
   "outputs": [
    {
     "data": {
      "text/plain": [
       "[1, 3, 4]"
      ]
     },
     "execution_count": 46,
     "metadata": {},
     "output_type": "execute_result"
    }
   ],
   "source": [
    "lst"
   ]
  },
  {
   "cell_type": "code",
   "execution_count": 6,
   "id": "c41d7eb0",
   "metadata": {},
   "outputs": [
    {
     "data": {
      "text/plain": [
       "2"
      ]
     },
     "execution_count": 6,
     "metadata": {},
     "output_type": "execute_result"
    }
   ],
   "source": [
    "lst = [1,2,3,4]\n",
    "lst.index(3)"
   ]
  },
  {
   "cell_type": "code",
   "execution_count": 7,
   "id": "7fde8261",
   "metadata": {},
   "outputs": [
    {
     "data": {
      "text/plain": [
       "[1, 2, 10, 3, 4]"
      ]
     },
     "execution_count": 7,
     "metadata": {},
     "output_type": "execute_result"
    }
   ],
   "source": [
    "lst = [1,2,3,4]\n",
    "lst.insert(2, 10)\n",
    "lst"
   ]
  },
  {
   "cell_type": "code",
   "execution_count": null,
   "id": "b8150a5f",
   "metadata": {},
   "outputs": [],
   "source": [
    "lst = [1,2,3,4]\n",
    "lst.remove(2) # Remove first ocurrence of mentioned element"
   ]
  },
  {
   "cell_type": "code",
   "execution_count": null,
   "id": "d4ebf700",
   "metadata": {},
   "outputs": [],
   "source": []
  },
  {
   "cell_type": "markdown",
   "id": "3895475e-3f45-44a7-bb37-8f104719f730",
   "metadata": {},
   "source": [
    "# Dictionaries"
   ]
  },
  {
   "cell_type": "code",
   "execution_count": null,
   "id": "a9a0e0c7-b210-4524-b207-c892068308bc",
   "metadata": {},
   "outputs": [
    {
     "data": {
      "text/plain": [
       "'value'"
      ]
     },
     "execution_count": 47,
     "metadata": {},
     "output_type": "execute_result"
    }
   ],
   "source": [
    "d1 = {'key1': 'value', 'key2': 123}   \n",
    "# Behaves like a hashtable\n",
    "# Holds elements thru key-value pairs\n",
    "\n",
    "d1['key1']   # Returns value associated with key"
   ]
  },
  {
   "cell_type": "code",
   "execution_count": 48,
   "id": "18c65e01-14d6-4f83-9638-609ca0000a11",
   "metadata": {},
   "outputs": [
    {
     "data": {
      "text/plain": [
       "'abcde'"
      ]
     },
     "execution_count": 48,
     "metadata": {},
     "output_type": "execute_result"
    }
   ],
   "source": [
    "# Keys can be any hashable data type (even floating numbers!)\n",
    "    # Keys cant be lists or dictionaries\n",
    "d2 = {1.2: 'abcde'}\n",
    "d2[1.2]"
   ]
  },
  {
   "cell_type": "code",
   "execution_count": 50,
   "id": "160e8f8f-c655-42d9-91e7-fe0be4419606",
   "metadata": {},
   "outputs": [],
   "source": [
    "# Exception if key doesn't exist\n",
    "# d1['unexistingkey']"
   ]
  },
  {
   "cell_type": "code",
   "execution_count": 51,
   "id": "e5ff0fca-9f08-40b5-b31a-81765e33fff3",
   "metadata": {},
   "outputs": [
    {
     "data": {
      "text/plain": [
       "2"
      ]
     },
     "execution_count": 51,
     "metadata": {},
     "output_type": "execute_result"
    }
   ],
   "source": [
    "# Values can be anything, even lists or dicts\n",
    "d2 = { 'k1': [1,2,3]}\n",
    "d2['k1'][1]"
   ]
  },
  {
   "cell_type": "code",
   "execution_count": 29,
   "id": "0194a6d8",
   "metadata": {},
   "outputs": [
    {
     "name": "stdout",
     "output_type": "stream",
     "text": [
      "{0: 'python'}\n",
      "{0: 'reassign'}\n"
     ]
    }
   ],
   "source": [
    "d3 = {} # Empty dict\n",
    "d3[0] = \"python\" # adding elements\n",
    "print(d3)\n",
    "\n",
    "d3[0] = \"reassign\"\n",
    "print(d3)"
   ]
  },
  {
   "cell_type": "code",
   "execution_count": 32,
   "id": "f652c70d",
   "metadata": {},
   "outputs": [
    {
     "name": "stdout",
     "output_type": "stream",
     "text": [
      "{1: 'a', 2: 'b', 3: 'c', 4: 'd'}\n",
      "{2: 'b', 3: 'c', 4: 'd'}\n",
      "{}\n"
     ]
    }
   ],
   "source": [
    "d4 = {1:'a',2:'b',3:'c',4:'d'} \n",
    "print(d4)\n",
    "\n",
    "del d4[1] # deleting keys\n",
    "print(d4)\n",
    "\n",
    "d4.clear() # emptying dictionary\n",
    "print(d4)\n",
    "\n",
    "del d4 # deleting whole object\n",
    "# print(d4) # error\n"
   ]
  },
  {
   "cell_type": "code",
   "execution_count": 33,
   "id": "bc245088",
   "metadata": {},
   "outputs": [
    {
     "name": "stdout",
     "output_type": "stream",
     "text": [
      "28\n"
     ]
    }
   ],
   "source": [
    "mylist=[1,7,5,6,4,5,2]\n",
    "mylist.remove(2)\n",
    "print(sum(mylist))"
   ]
  },
  {
   "cell_type": "markdown",
   "id": "44394766-dca7-473e-80a6-d43c1095783a",
   "metadata": {},
   "source": [
    "## Useful methods"
   ]
  },
  {
   "cell_type": "code",
   "execution_count": 52,
   "id": "5a03ca98-0959-4b7a-b77f-1c6ea7cd3b8b",
   "metadata": {},
   "outputs": [],
   "source": [
    "d = {'k1': 1, 'k2': 2}"
   ]
  },
  {
   "cell_type": "code",
   "execution_count": 53,
   "id": "200ab6d0-7096-4193-8194-393272a9c611",
   "metadata": {
    "scrolled": true
   },
   "outputs": [
    {
     "data": {
      "text/plain": [
       "['k1', 'k2']"
      ]
     },
     "execution_count": 53,
     "metadata": {},
     "output_type": "execute_result"
    }
   ],
   "source": [
    "list(d.keys())"
   ]
  },
  {
   "cell_type": "code",
   "execution_count": 54,
   "id": "6e7276c5-b978-4969-9b5b-aaebd732bcf4",
   "metadata": {
    "scrolled": true
   },
   "outputs": [
    {
     "data": {
      "text/plain": [
       "[1, 2]"
      ]
     },
     "execution_count": 54,
     "metadata": {},
     "output_type": "execute_result"
    }
   ],
   "source": [
    "list(d.values())"
   ]
  },
  {
   "cell_type": "code",
   "execution_count": 55,
   "id": "88ee3e48-078c-4f95-a784-e82cd912c9b4",
   "metadata": {},
   "outputs": [
    {
     "data": {
      "text/plain": [
       "[('k1', 1), ('k2', 2)]"
      ]
     },
     "execution_count": 55,
     "metadata": {},
     "output_type": "execute_result"
    }
   ],
   "source": [
    "list(d.items())"
   ]
  },
  {
   "cell_type": "markdown",
   "id": "0ffca3eb-5988-4a0b-987e-72e80fcb7504",
   "metadata": {},
   "source": [
    "# Booleans"
   ]
  },
  {
   "cell_type": "code",
   "execution_count": 56,
   "id": "c6b7d96c-94a2-4e2e-808d-512112cf24f5",
   "metadata": {},
   "outputs": [],
   "source": [
    "var1 = True\n",
    "var2 = False"
   ]
  },
  {
   "cell_type": "markdown",
   "id": "dc2450f5-a7f9-4112-b2ef-44fd21b0f858",
   "metadata": {},
   "source": [
    "# Tuples"
   ]
  },
  {
   "cell_type": "code",
   "execution_count": 57,
   "id": "c109b30f-af25-431f-b37e-c7fa15955eb6",
   "metadata": {},
   "outputs": [
    {
     "data": {
      "text/plain": [
       "2"
      ]
     },
     "execution_count": 57,
     "metadata": {},
     "output_type": "execute_result"
    }
   ],
   "source": [
    "# Tuple\n",
    "t = (1,2,3)\n",
    "t[1]"
   ]
  },
  {
   "cell_type": "code",
   "execution_count": 58,
   "id": "4ed3f41f-97b6-4050-a955-970247fe9b5a",
   "metadata": {},
   "outputs": [
    {
     "name": "stdout",
     "output_type": "stream",
     "text": [
      "2\n",
      "4\n"
     ]
    }
   ],
   "source": [
    "# Lists can be reassigned or be added new data, tuples are immutable\n",
    "list1 = [1,2,3]\n",
    "print(list1[1])\n",
    "list1[1] = 4\n",
    "print(list1[1])"
   ]
  },
  {
   "cell_type": "code",
   "execution_count": 59,
   "id": "8712f23e-a170-4c6b-b085-fa14eac3ff15",
   "metadata": {},
   "outputs": [],
   "source": [
    "tup1 = (1,2,3)\n",
    "# tup1[1] = 2 # tuples cannot be reassigned!"
   ]
  },
  {
   "cell_type": "code",
   "execution_count": 13,
   "id": "6bfc43dd",
   "metadata": {},
   "outputs": [
    {
     "data": {
      "text/plain": [
       "(1, 2, 3, 4)"
      ]
     },
     "execution_count": 13,
     "metadata": {},
     "output_type": "execute_result"
    }
   ],
   "source": [
    "# But you can concatenate tuples:\n",
    "(1, 2) + (3, 4)"
   ]
  },
  {
   "cell_type": "code",
   "execution_count": 15,
   "id": "813417b4",
   "metadata": {},
   "outputs": [
    {
     "name": "stdout",
     "output_type": "stream",
     "text": [
      "2\n",
      "(2, 3)\n"
     ]
    }
   ],
   "source": [
    "# You can access them as lists:\n",
    "tup1 = (1,2,3,4)\n",
    "print(tup1[1])\n",
    "print(tup1[1:3])"
   ]
  },
  {
   "cell_type": "markdown",
   "id": "f89e88e1-19e2-49e6-8664-0c75a073fc3e",
   "metadata": {},
   "source": [
    "## Tuple Unpacking"
   ]
  },
  {
   "cell_type": "code",
   "execution_count": 60,
   "id": "084051da-454b-4212-bfb6-6708422b26ed",
   "metadata": {},
   "outputs": [],
   "source": [
    "x = [(1,2),(3,4),(5,6)] # this is really common"
   ]
  },
  {
   "cell_type": "code",
   "execution_count": 61,
   "id": "926e79ab-24d2-4d77-8993-d645b70ffc79",
   "metadata": {},
   "outputs": [
    {
     "data": {
      "text/plain": [
       "(1, 2)"
      ]
     },
     "execution_count": 61,
     "metadata": {},
     "output_type": "execute_result"
    }
   ],
   "source": [
    "x[0]"
   ]
  },
  {
   "cell_type": "code",
   "execution_count": 62,
   "id": "c50fd662-5013-4616-b7c2-92c33a57953d",
   "metadata": {},
   "outputs": [
    {
     "name": "stdout",
     "output_type": "stream",
     "text": [
      "1\n",
      "3\n",
      "5\n"
     ]
    }
   ],
   "source": [
    "for a, b in x:\n",
    "    print(a)"
   ]
  },
  {
   "cell_type": "markdown",
   "id": "b8042ae8-e204-4d4e-8b5d-3638386e6b95",
   "metadata": {},
   "source": [
    "# Sets"
   ]
  },
  {
   "cell_type": "code",
   "execution_count": 63,
   "id": "1143e545-8c11-4cae-b60b-80e0f2006920",
   "metadata": {},
   "outputs": [],
   "source": [
    "var = {1, 1, 1, 2, 3} # Collection of unique elements"
   ]
  },
  {
   "cell_type": "code",
   "execution_count": 16,
   "id": "3b2e79be",
   "metadata": {},
   "outputs": [
    {
     "data": {
      "text/plain": [
       "set()"
      ]
     },
     "execution_count": 16,
     "metadata": {},
     "output_type": "execute_result"
    }
   ],
   "source": [
    "set() # Creates empty set"
   ]
  },
  {
   "cell_type": "code",
   "execution_count": 64,
   "id": "1a88b7b6-e77e-4d99-9439-55cf00f8cb6f",
   "metadata": {},
   "outputs": [
    {
     "data": {
      "text/plain": [
       "{1, 2, 3, 4}"
      ]
     },
     "execution_count": 64,
     "metadata": {},
     "output_type": "execute_result"
    }
   ],
   "source": [
    "var.add(4)\n",
    "var"
   ]
  },
  {
   "cell_type": "code",
   "execution_count": 18,
   "id": "003822e8-60e8-4917-a928-409837150c65",
   "metadata": {},
   "outputs": [],
   "source": [
    "arr = [1,2,2,3] \n",
    "coolset = set(arr) # convert to set"
   ]
  },
  {
   "cell_type": "code",
   "execution_count": 22,
   "id": "80c2de01",
   "metadata": {},
   "outputs": [
    {
     "data": {
      "text/plain": [
       "{1, 2, 3, 5, 6, 7}"
      ]
     },
     "execution_count": 22,
     "metadata": {},
     "output_type": "execute_result"
    }
   ],
   "source": [
    "coolset.update([5,6,7]) # Add new numbers to set\n",
    "# coolset.add([4,5,6]) # If you add it like this it'll just try add a list\n",
    "coolset"
   ]
  },
  {
   "cell_type": "code",
   "execution_count": 23,
   "id": "9443f171",
   "metadata": {},
   "outputs": [
    {
     "name": "stdout",
     "output_type": "stream",
     "text": [
      "0\n",
      "2\n",
      "4\n",
      "6\n",
      "8\n"
     ]
    }
   ],
   "source": [
    "# you can't access items in a set via the index, but you can always loop in the set:\n",
    "a = {0,2,4,6,8}\n",
    "for i in a:\n",
    "    print (i)"
   ]
  },
  {
   "cell_type": "code",
   "execution_count": 34,
   "id": "3d743892",
   "metadata": {},
   "outputs": [
    {
     "data": {
      "text/plain": [
       "{0, 4, 8}"
      ]
     },
     "execution_count": 34,
     "metadata": {},
     "output_type": "execute_result"
    }
   ],
   "source": [
    "# To remove elements, use discard and remove\n",
    "# Discard doesn't throw errors if item is not available\n",
    "# Remove throws errors if item is not available\n",
    "\n",
    "a = {0,2,4,6,8}\n",
    "a.discard(2)\n",
    "a.remove(6)\n",
    "a"
   ]
  },
  {
   "cell_type": "markdown",
   "id": "ef0b0ee5-5379-47d3-a4f5-e8cfe5b7f5f9",
   "metadata": {},
   "source": [
    "# Comparison operators"
   ]
  },
  {
   "cell_type": "code",
   "execution_count": 66,
   "id": "3ed76f15-4863-4e4b-aafb-2a9c76130c9c",
   "metadata": {},
   "outputs": [
    {
     "data": {
      "text/plain": [
       "False"
      ]
     },
     "execution_count": 66,
     "metadata": {},
     "output_type": "execute_result"
    }
   ],
   "source": [
    "1 > 2"
   ]
  },
  {
   "cell_type": "code",
   "execution_count": 67,
   "id": "64371955-9099-4142-a907-905ab48f7b2b",
   "metadata": {},
   "outputs": [
    {
     "data": {
      "text/plain": [
       "True"
      ]
     },
     "execution_count": 67,
     "metadata": {},
     "output_type": "execute_result"
    }
   ],
   "source": [
    "3 >= 3"
   ]
  },
  {
   "cell_type": "code",
   "execution_count": 68,
   "id": "6b800d8a-a463-429a-bb47-3bd1d61e4f05",
   "metadata": {},
   "outputs": [
    {
     "data": {
      "text/plain": [
       "False"
      ]
     },
     "execution_count": 68,
     "metadata": {},
     "output_type": "execute_result"
    }
   ],
   "source": [
    "2 == 4"
   ]
  },
  {
   "cell_type": "code",
   "execution_count": 69,
   "id": "5275f26e-c411-441c-8ff4-589675bf5929",
   "metadata": {},
   "outputs": [
    {
     "data": {
      "text/plain": [
       "True"
      ]
     },
     "execution_count": 69,
     "metadata": {},
     "output_type": "execute_result"
    }
   ],
   "source": [
    "1 != 2"
   ]
  },
  {
   "cell_type": "code",
   "execution_count": 70,
   "id": "f34ff044-2a9a-4250-86e8-33ae3712f195",
   "metadata": {},
   "outputs": [
    {
     "data": {
      "text/plain": [
       "True"
      ]
     },
     "execution_count": 70,
     "metadata": {},
     "output_type": "execute_result"
    }
   ],
   "source": [
    "'hi' == 'hi' # strings are objects, equality compares content"
   ]
  },
  {
   "cell_type": "code",
   "execution_count": 71,
   "id": "b8a24b63-92ec-4f75-b991-f235946bcda8",
   "metadata": {},
   "outputs": [
    {
     "data": {
      "text/plain": [
       "True"
      ]
     },
     "execution_count": 71,
     "metadata": {},
     "output_type": "execute_result"
    }
   ],
   "source": [
    "1 < 2 and 3 > 4 or 1 == 1 # order of operations: and comes first"
   ]
  },
  {
   "cell_type": "markdown",
   "id": "b5ac0425-d3e8-41ac-9bd4-c1ddc130ab5b",
   "metadata": {},
   "source": [
    "# Conditional statements"
   ]
  },
  {
   "cell_type": "code",
   "execution_count": 72,
   "id": "e241d7c6-529f-48ba-81d2-bada9d636d8a",
   "metadata": {},
   "outputs": [
    {
     "name": "stdout",
     "output_type": "stream",
     "text": [
      "hell yeah\n"
     ]
    }
   ],
   "source": [
    "if False:\n",
    "    print('yep') # blocks are defined by indentation\n",
    "elif True:\n",
    "    print('hell yeah')\n",
    "elif True:\n",
    "    print('hell yeahhhhh') # only executes first true function\n",
    "else:\n",
    "    print('nah')"
   ]
  },
  {
   "cell_type": "markdown",
   "id": "9d6d9d70-e1cb-41d7-becc-b616eee73862",
   "metadata": {},
   "source": [
    "# Loops"
   ]
  },
  {
   "cell_type": "markdown",
   "id": "c95d7623",
   "metadata": {},
   "source": [
    "## While Loop"
   ]
  },
  {
   "cell_type": "code",
   "execution_count": 41,
   "id": "2c19a23c-52c0-4d4a-b915-e198836478a9",
   "metadata": {},
   "outputs": [
    {
     "name": "stdout",
     "output_type": "stream",
     "text": [
      "i is 1\n",
      "i is 2\n",
      "i is 3\n",
      "i is 4\n",
      "nuh uh\n"
     ]
    }
   ],
   "source": [
    "i = 1\n",
    "\n",
    "while i < 5:\n",
    "    print('i is {}'.format(i))\n",
    "    i += 1\n",
    "else:\n",
    "    print('nuh uh') # executes when condition isn't met"
   ]
  },
  {
   "cell_type": "markdown",
   "id": "bc1802b8",
   "metadata": {},
   "source": [
    "## For Loop"
   ]
  },
  {
   "cell_type": "code",
   "execution_count": 38,
   "id": "64e581e2-e921-459d-8141-08eae7a5dffc",
   "metadata": {},
   "outputs": [
    {
     "name": "stdout",
     "output_type": "stream",
     "text": [
      "1\n",
      "2\n",
      "3\n",
      "4\n",
      "5\n"
     ]
    }
   ],
   "source": [
    "seq = [1,2,3,4,5]\n",
    "\n",
    "for item in seq:\n",
    "    print(item)"
   ]
  },
  {
   "cell_type": "code",
   "execution_count": 39,
   "id": "3a768ae7-3a0d-480d-bef3-6d47d53eb55b",
   "metadata": {},
   "outputs": [
    {
     "name": "stdout",
     "output_type": "stream",
     "text": [
      "0\n",
      "1\n",
      "2\n",
      "3\n",
      "4\n"
     ]
    }
   ],
   "source": [
    "for x in range(5): # range: generator of numerical values. quick way to execute something some ammount of times\n",
    "    print(x)"
   ]
  },
  {
   "cell_type": "code",
   "execution_count": 35,
   "id": "12cccc90",
   "metadata": {},
   "outputs": [
    {
     "name": "stdout",
     "output_type": "stream",
     "text": [
      "1\n",
      "3\n",
      "5\n",
      "7\n",
      "9\n"
     ]
    }
   ],
   "source": [
    "for x in range(1, 10, 2): # having more steps in range\n",
    "    print(x)"
   ]
  },
  {
   "cell_type": "code",
   "execution_count": 36,
   "id": "bbbff257",
   "metadata": {},
   "outputs": [
    {
     "name": "stdout",
     "output_type": "stream",
     "text": [
      "0\n",
      "1\n",
      "2\n",
      "3\n",
      "4\n",
      "finished\n"
     ]
    }
   ],
   "source": [
    "for x in range(5): # else statement executes after loop ends\n",
    "    print(x)\n",
    "else:\n",
    "    print(\"finished\")"
   ]
  },
  {
   "cell_type": "markdown",
   "id": "b1faba5c",
   "metadata": {},
   "source": [
    "## Break, Continue, Pass"
   ]
  },
  {
   "cell_type": "markdown",
   "id": "2051ddf5",
   "metadata": {},
   "source": [
    "Used for Loop Control."
   ]
  },
  {
   "cell_type": "code",
   "execution_count": 42,
   "id": "64072a48",
   "metadata": {},
   "outputs": [
    {
     "name": "stdout",
     "output_type": "stream",
     "text": [
      "P\n",
      "y\n",
      "t\n",
      "h\n"
     ]
    }
   ],
   "source": [
    "for char in \"Python\":\n",
    "    if(char == 'o'): break\n",
    "    print(char)"
   ]
  },
  {
   "cell_type": "code",
   "execution_count": 43,
   "id": "271d16ba",
   "metadata": {},
   "outputs": [
    {
     "name": "stdout",
     "output_type": "stream",
     "text": [
      "P\n",
      "y\n",
      "t\n",
      "h\n",
      "n\n"
     ]
    }
   ],
   "source": [
    "for char in \"Python\":\n",
    "    if(char == 'o'): continue\n",
    "    print(char)"
   ]
  },
  {
   "cell_type": "code",
   "execution_count": 46,
   "id": "f800aa1f",
   "metadata": {},
   "outputs": [
    {
     "name": "stdout",
     "output_type": "stream",
     "text": [
      "n\n"
     ]
    }
   ],
   "source": [
    "for char in \"Python\":\n",
    "    pass # null statement that acts as a placeholder. Interpreter performs a no-op.\n",
    "\n",
    "print(char)"
   ]
  },
  {
   "cell_type": "code",
   "execution_count": 49,
   "id": "7186f49c",
   "metadata": {},
   "outputs": [
    {
     "name": "stdout",
     "output_type": "stream",
     "text": [
      "2, 1, 0, -1, -2, -3, -4, -5, -6, "
     ]
    }
   ],
   "source": [
    "for num in range(2,-7,-1):\n",
    "    print(num, end=', ')"
   ]
  },
  {
   "cell_type": "markdown",
   "id": "9bb89765-8799-4165-ba00-622b2aecbf49",
   "metadata": {},
   "source": [
    "# List Comprehension"
   ]
  },
  {
   "cell_type": "code",
   "execution_count": 77,
   "id": "c5c86f94-dbe2-4dc7-9877-5b1676852d1d",
   "metadata": {},
   "outputs": [
    {
     "data": {
      "text/plain": [
       "[1, 4, 9, 16]"
      ]
     },
     "execution_count": 77,
     "metadata": {},
     "output_type": "execute_result"
    }
   ],
   "source": [
    "x = [1,2,3,4]\n",
    "out = []\n",
    "\n",
    "for num in x:\n",
    "    out.append(num**2) \n",
    "\n",
    "out"
   ]
  },
  {
   "cell_type": "code",
   "execution_count": 78,
   "id": "a4f9f619-1557-44e5-b9d7-d85178896d0c",
   "metadata": {},
   "outputs": [
    {
     "data": {
      "text/plain": [
       "[1, 4, 9, 16]"
      ]
     },
     "execution_count": 78,
     "metadata": {},
     "output_type": "execute_result"
    }
   ],
   "source": [
    "# The operation of making a list out of another list is so common in python that it developed list comprehension:\n",
    "y = [1,2,3,4]\n",
    "out = [num**2 for num in y] \n",
    "out"
   ]
  },
  {
   "cell_type": "code",
   "execution_count": 81,
   "id": "db946b0f",
   "metadata": {},
   "outputs": [
    {
     "data": {
      "text/plain": [
       "[2, 4]"
      ]
     },
     "execution_count": 81,
     "metadata": {},
     "output_type": "execute_result"
    }
   ],
   "source": [
    "# You can also use list comprehension to filter specific items with if/else ternary\n",
    "y = [1,2,3,4]\n",
    "out = [num for num in y if num % 2 == 0] \n",
    "out"
   ]
  },
  {
   "cell_type": "markdown",
   "id": "d8534c9e-e13a-444e-a697-e5a359c77031",
   "metadata": {},
   "source": [
    "# Functions"
   ]
  },
  {
   "cell_type": "code",
   "execution_count": 82,
   "id": "b8b9d779-751f-4a6f-b0be-f6c3c787a746",
   "metadata": {},
   "outputs": [
    {
     "name": "stdout",
     "output_type": "stream",
     "text": [
      "Hello Jose\n"
     ]
    }
   ],
   "source": [
    "def my_func(name): # start with lowercase letters\n",
    "    print('Hello ' + name)\n",
    "\n",
    "my_func('Jose')"
   ]
  },
  {
   "cell_type": "code",
   "execution_count": 83,
   "id": "decd3dab-fa1d-45c8-a6b3-f45e969e98e0",
   "metadata": {},
   "outputs": [
    {
     "name": "stdout",
     "output_type": "stream",
     "text": [
      "Hello Default name\n"
     ]
    }
   ],
   "source": [
    "def my_func_default(name='Default name'):\n",
    "    print('Hello ' + name)\n",
    "\n",
    "my_func_default()"
   ]
  },
  {
   "cell_type": "code",
   "execution_count": 84,
   "id": "dc526cca-df81-4202-b5bf-60e78b3a004e",
   "metadata": {},
   "outputs": [
    {
     "data": {
      "text/plain": [
       "<function __main__.my_func_default(name='Default name')>"
      ]
     },
     "execution_count": 84,
     "metadata": {},
     "output_type": "execute_result"
    }
   ],
   "source": [
    "my_func_default # doesnt execute function, just a default output"
   ]
  },
  {
   "cell_type": "code",
   "execution_count": 85,
   "id": "4819ec31-8d2c-42bd-8259-13d7cc8f03eb",
   "metadata": {},
   "outputs": [
    {
     "name": "stdout",
     "output_type": "stream",
     "text": [
      "4\n"
     ]
    }
   ],
   "source": [
    "def square(num):\n",
    "    \"\"\"\n",
    "    This is a documentation string!\n",
    "    can go multiple lines :D\n",
    "    \"\"\"\n",
    "    return num ** 2\n",
    "\n",
    "print(square(2))"
   ]
  },
  {
   "cell_type": "markdown",
   "id": "122cefda",
   "metadata": {},
   "source": [
    "## Passing as Reference"
   ]
  },
  {
   "cell_type": "markdown",
   "id": "5f2e3d48",
   "metadata": {},
   "source": [
    "- All types in python are passed as reference. But some are not mutable, like numbers or strings, so we cannot change their content;\n",
    "- [Cool Explanation](https://stackoverflow.com/questions/986006/how-do-i-pass-a-variable-by-reference)."
   ]
  },
  {
   "cell_type": "code",
   "execution_count": 55,
   "id": "ac68485c",
   "metadata": {},
   "outputs": [
    {
     "name": "stdout",
     "output_type": "stream",
     "text": [
      "3\n"
     ]
    }
   ],
   "source": [
    "# Cannot change the content of a number inside of a function.\n",
    "\n",
    "def modifynum(num):\n",
    "    num = num * 2\n",
    "\n",
    "num1 = 3\n",
    "modifynum(num1)\n",
    "print(num1)"
   ]
  },
  {
   "cell_type": "code",
   "execution_count": 56,
   "id": "c81aae4a",
   "metadata": {},
   "outputs": [
    {
     "name": "stdout",
     "output_type": "stream",
     "text": [
      "[10, 20, 30]\n"
     ]
    }
   ],
   "source": [
    "# We can change lists tho!\n",
    "\n",
    "def modifylist(list):\n",
    "    list.append(30)\n",
    "\n",
    "list1 = [10, 20]\n",
    "modifylist(list1)\n",
    "print(list1)"
   ]
  },
  {
   "cell_type": "code",
   "execution_count": 86,
   "id": "52fc5d60-f829-4a99-9fb3-5add7765fdae",
   "metadata": {},
   "outputs": [
    {
     "data": {
      "text/plain": [
       "<function __main__.square(num)>"
      ]
     },
     "execution_count": 86,
     "metadata": {},
     "output_type": "execute_result"
    }
   ],
   "source": [
    "square # Press shift-tab in jupyter notebook to bring up the documentation string"
   ]
  },
  {
   "cell_type": "markdown",
   "id": "55feeaae",
   "metadata": {},
   "source": [
    "## Arguments"
   ]
  },
  {
   "cell_type": "code",
   "execution_count": 61,
   "id": "7fff10e3",
   "metadata": {},
   "outputs": [
    {
     "name": "stdout",
     "output_type": "stream",
     "text": [
      "10 7\n",
      "1 2\n"
     ]
    }
   ],
   "source": [
    "# Default Arguments\n",
    "def f1(a,b=7): \n",
    "    print(a, b)\n",
    "\n",
    "f1(10)\n",
    "f1(1,2)"
   ]
  },
  {
   "cell_type": "code",
   "execution_count": null,
   "id": "0b345d78",
   "metadata": {},
   "outputs": [
    {
     "name": "stdout",
     "output_type": "stream",
     "text": [
      "4 3\n",
      "4 3\n"
     ]
    }
   ],
   "source": [
    "# Named Arguments: You can change the order of passing arguments, values are assigned based on name.\n",
    "def f1(a,b): \n",
    "    print(a, b)\n",
    "\n",
    "f1(a=4, b=3)\n",
    "f1(b=3, a=4)"
   ]
  },
  {
   "cell_type": "code",
   "execution_count": 64,
   "id": "45b0910d",
   "metadata": {},
   "outputs": [
    {
     "name": "stdout",
     "output_type": "stream",
     "text": [
      "{'firstname': 'bebe', 'lastname': 'awa'}\n"
     ]
    }
   ],
   "source": [
    "# Arbitrary keyword: variable number of keyword arguments\n",
    "# Argument stored in dictionary format\n",
    "\n",
    "def func(**var):\n",
    "    print(var)\n",
    "\n",
    "func(firstname = \"bebe\", lastname = \"awa\")"
   ]
  },
  {
   "cell_type": "code",
   "execution_count": 65,
   "id": "4511fa9f",
   "metadata": {},
   "outputs": [
    {
     "data": {
      "text/plain": [
       "'b'"
      ]
     },
     "execution_count": 65,
     "metadata": {},
     "output_type": "execute_result"
    }
   ],
   "source": [
    "# Required Arguments: If not passed, will throw an error. Values are assigned based on position.\n",
    "\n",
    "def func(a,b):\n",
    "    if(a>b): return a\n",
    "    return b\n",
    "\n",
    "func('a', 'b')"
   ]
  },
  {
   "cell_type": "code",
   "execution_count": null,
   "id": "292d8380",
   "metadata": {},
   "outputs": [
    {
     "name": "stdout",
     "output_type": "stream",
     "text": [
      "a\n",
      "b\n",
      "c\n"
     ]
    }
   ],
   "source": [
    "# Variable-length Arguments: Number of arguments is more than the defined function arguments\n",
    "\n",
    "def func(a, *b):\n",
    "    print(a)\n",
    "    \n",
    "    for i in b:\n",
    "        print(i)\n",
    "\n",
    "func('a', 'b', 'c')"
   ]
  },
  {
   "cell_type": "markdown",
   "id": "b453e8de",
   "metadata": {},
   "source": [
    "## Scope\n",
    "\n",
    "- Scope: portion of the program where a variable is recognized\n",
    "- Local: access within the method or block (function variables are local)\n",
    "- Global: defined outside of functions or blocks, accessed throughout the lifetime of the program\n",
    "- Lifetime: period in which the variable exists in-memory"
   ]
  },
  {
   "cell_type": "code",
   "execution_count": 70,
   "id": "50e86eae",
   "metadata": {},
   "outputs": [
    {
     "name": "stdout",
     "output_type": "stream",
     "text": [
      "inside func 10\n",
      "outside func 20\n"
     ]
    }
   ],
   "source": [
    "def f1():\n",
    "    x = 10\n",
    "    print('inside func', x)\n",
    "x = 20\n",
    "f1()\n",
    "print('outside func', x)"
   ]
  },
  {
   "cell_type": "markdown",
   "id": "f6166e66-43aa-4d71-935c-7c58521fc783",
   "metadata": {},
   "source": [
    "# Lambda Expressions / Functions\n",
    "\n",
    "- Anonymous functions, defined using the lambda.\n",
    "- Cannot contain multiple expressions, return only one value."
   ]
  },
  {
   "cell_type": "code",
   "execution_count": 72,
   "id": "985fed7e",
   "metadata": {},
   "outputs": [
    {
     "data": {
      "text/plain": [
       "3"
      ]
     },
     "execution_count": 72,
     "metadata": {},
     "output_type": "execute_result"
    }
   ],
   "source": [
    "def add(a,b):\n",
    "    return a + b\n",
    "add(1,2)"
   ]
  },
  {
   "cell_type": "code",
   "execution_count": 71,
   "id": "10dcf225",
   "metadata": {},
   "outputs": [
    {
     "data": {
      "text/plain": [
       "3"
      ]
     },
     "execution_count": 71,
     "metadata": {},
     "output_type": "execute_result"
    }
   ],
   "source": [
    "add = lambda a,b:a+b\n",
    "add(1,2)"
   ]
  },
  {
   "cell_type": "markdown",
   "id": "9adc1ffc-d2c6-4261-9e3f-449d8bdcf703",
   "metadata": {},
   "source": [
    "## Lambda with Map"
   ]
  },
  {
   "cell_type": "code",
   "execution_count": null,
   "id": "f76692ad",
   "metadata": {},
   "outputs": [
    {
     "data": {
      "text/plain": [
       "[24, 21, 3, 6, 27, 21]"
      ]
     },
     "execution_count": 76,
     "metadata": {},
     "output_type": "execute_result"
    }
   ],
   "source": [
    "# map() is used to apply a given function to every item of an iterable,\n",
    "# such as a list or tuple, and returns a map object (which is an iterator).\n",
    "\n",
    "list1 = [8,7,1,2,9,7]\n",
    "list2 = list(map(lambda a: a*3, list1))\n",
    "list2"
   ]
  },
  {
   "cell_type": "code",
   "execution_count": 77,
   "id": "88cda8ec-07ab-4372-8b65-48fcac63d533",
   "metadata": {},
   "outputs": [
    {
     "data": {
      "text/plain": [
       "<map at 0x1b66f63ab60>"
      ]
     },
     "execution_count": 77,
     "metadata": {},
     "output_type": "execute_result"
    }
   ],
   "source": [
    "def times2(var):\n",
    "    return var*2\n",
    "\n",
    "seq = [1,2,3,4,5]\n",
    "\n",
    "map(times2, seq)"
   ]
  },
  {
   "cell_type": "code",
   "execution_count": 78,
   "id": "a1204c14-7165-432e-9c0c-8b0301d88fd3",
   "metadata": {},
   "outputs": [
    {
     "data": {
      "text/plain": [
       "[2, 4, 6, 8, 10]"
      ]
     },
     "execution_count": 78,
     "metadata": {},
     "output_type": "execute_result"
    }
   ],
   "source": [
    "# To execute the map and cast the result as a list:\n",
    "list(map(times2, seq))"
   ]
  },
  {
   "cell_type": "code",
   "execution_count": 89,
   "id": "f987ae65-50f3-40b2-9bb3-46296e1a8775",
   "metadata": {},
   "outputs": [
    {
     "data": {
      "text/plain": [
       "9"
      ]
     },
     "execution_count": 89,
     "metadata": {},
     "output_type": "execute_result"
    }
   ],
   "source": [
    "# Use lambda expressions (anonymous functions) to make it slicker\n",
    "t = lambda var:var * 3\n",
    "t(3)"
   ]
  },
  {
   "cell_type": "code",
   "execution_count": 90,
   "id": "0fc24948-1fc9-4d8c-a6fe-78af4fe6dbf5",
   "metadata": {},
   "outputs": [
    {
     "data": {
      "text/plain": [
       "[3, 6, 9, 12, 15]"
      ]
     },
     "execution_count": 90,
     "metadata": {},
     "output_type": "execute_result"
    }
   ],
   "source": [
    "# we dont normally assign it to anything, we just use it directly:\n",
    "list(map(lambda num: num*3, seq))"
   ]
  },
  {
   "cell_type": "markdown",
   "id": "d84100d4-eadf-4da4-b39e-16a888438155",
   "metadata": {},
   "source": [
    "## Lambda with Filter"
   ]
  },
  {
   "cell_type": "code",
   "execution_count": 79,
   "id": "b33c938a",
   "metadata": {},
   "outputs": [
    {
     "data": {
      "text/plain": [
       "[0, 2, 8, 34]"
      ]
     },
     "execution_count": 79,
     "metadata": {},
     "output_type": "execute_result"
    }
   ],
   "source": [
    "# Filter returns iterator where items are filtered through a function\n",
    "\n",
    "fibonacci = [0,1,1,2,3,5,8,13,21,34]\n",
    "even = list(filter(lambda x: x % 2 == 0, fibonacci))\n",
    "even"
   ]
  },
  {
   "cell_type": "code",
   "execution_count": 91,
   "id": "3d1d8ee5-6243-4701-bd99-6ac33a81268c",
   "metadata": {},
   "outputs": [
    {
     "data": {
      "text/plain": [
       "[1, 2, 4, 5, 7, 8]"
      ]
     },
     "execution_count": 91,
     "metadata": {},
     "output_type": "execute_result"
    }
   ],
   "source": [
    "seq = [1,2,3,4,5,6,7,8,9]\n",
    "list(filter(lambda num: num%3, seq)) # 0 evaluated as false"
   ]
  },
  {
   "cell_type": "markdown",
   "id": "0814827b",
   "metadata": {},
   "source": [
    "## Lambda with Reduce"
   ]
  },
  {
   "cell_type": "code",
   "execution_count": 80,
   "id": "a57f4648",
   "metadata": {},
   "outputs": [
    {
     "data": {
      "text/plain": [
       "197"
      ]
     },
     "execution_count": 80,
     "metadata": {},
     "output_type": "execute_result"
    }
   ],
   "source": [
    "# Reduce applies a particular function to all list elements\n",
    "\n",
    "import functools\n",
    "functools.reduce(lambda x, y: x + y, [26, 71, 67, 33])"
   ]
  },
  {
   "cell_type": "markdown",
   "id": "e57df7ed-e415-4efa-b7a5-8b8e111f958f",
   "metadata": {},
   "source": [
    "# Other stuff"
   ]
  },
  {
   "cell_type": "markdown",
   "id": "288b4a7b",
   "metadata": {},
   "source": [
    "## Decorators\n",
    "- Function that takes a function as argument, and returns a function;\n",
    "- Called before the definition of a function;"
   ]
  },
  {
   "cell_type": "code",
   "execution_count": 81,
   "id": "27edffea",
   "metadata": {},
   "outputs": [
    {
     "name": "stdout",
     "output_type": "stream",
     "text": [
      "hello welcome to \n",
      "ohio!\n"
     ]
    }
   ],
   "source": [
    "def outer(func):\n",
    "    def inner():\n",
    "        print(\"hello welcome to \")\n",
    "        func()\n",
    "\n",
    "    return inner\n",
    "\n",
    "\n",
    "@outer\n",
    "def name():\n",
    "    print(\"ohio!\")\n",
    "\n",
    "name()"
   ]
  },
  {
   "cell_type": "markdown",
   "id": "cf41e5b3",
   "metadata": {},
   "source": [
    "## Closure\n",
    "- Inner function is enclosed within the outer function;\n",
    "- Can access variable present in the outer function scope."
   ]
  },
  {
   "cell_type": "code",
   "execution_count": 84,
   "id": "3a115b96",
   "metadata": {},
   "outputs": [
    {
     "name": "stdout",
     "output_type": "stream",
     "text": [
      "heyo!\n"
     ]
    }
   ],
   "source": [
    "def outer(text):\n",
    "    def inner():\n",
    "        print(text) # Can access the variable text\n",
    "    inner()\n",
    "\n",
    "outer(\"heyo!\")"
   ]
  },
  {
   "cell_type": "markdown",
   "id": "d9df5d48",
   "metadata": {},
   "source": [
    "## Generators\n",
    "- Returns a traversal object;\n",
    "- Traverse all the items at once!\n",
    "- Also used to create iterators;\n",
    "- Syntax is similar to list comprehension;\n",
    "- Requires at least one 'yield' object."
   ]
  },
  {
   "cell_type": "code",
   "execution_count": 87,
   "id": "2df5d89f",
   "metadata": {},
   "outputs": [
    {
     "data": {
      "text/plain": [
       "<generator object my_generator at 0x000001B66F2B6B00>"
      ]
     },
     "execution_count": 87,
     "metadata": {},
     "output_type": "execute_result"
    }
   ],
   "source": [
    "def my_generator(n):\n",
    "    yield n\n",
    "\n",
    "my_generator(4)\n"
   ]
  },
  {
   "cell_type": "code",
   "execution_count": 88,
   "id": "9b7c5c11",
   "metadata": {},
   "outputs": [
    {
     "name": "stdout",
     "output_type": "stream",
     "text": [
      "4\n"
     ]
    }
   ],
   "source": [
    "def my_generator(n):\n",
    "    yield n\n",
    "\n",
    "for i in my_generator(4):\n",
    "    print(i)"
   ]
  },
  {
   "cell_type": "code",
   "execution_count": null,
   "id": "5374934e",
   "metadata": {},
   "outputs": [
    {
     "name": "stdout",
     "output_type": "stream",
     "text": [
      "1\n",
      "9\n",
      "25\n",
      "49\n",
      "81\n"
     ]
    }
   ],
   "source": [
    "def my_generator(n):\n",
    "    for i in range(1, n, 2): # Creates an iterator with range\n",
    "        yield i**2 \n",
    "\n",
    "for i in my_generator(10):\n",
    "    print(i)"
   ]
  },
  {
   "cell_type": "markdown",
   "id": "ebeb037f",
   "metadata": {},
   "source": []
  },
  {
   "cell_type": "markdown",
   "id": "ecb447b5",
   "metadata": {},
   "source": [
    "## Iterators\n",
    "- Iterate over iterable objects by returning one object at a time;\n",
    "- Initialized with iter()\n",
    "- Used next() for iteration\n"
   ]
  },
  {
   "cell_type": "code",
   "execution_count": 90,
   "id": "3dd19406",
   "metadata": {},
   "outputs": [
    {
     "name": "stdout",
     "output_type": "stream",
     "text": [
      "a\n",
      "b\n",
      "c\n"
     ]
    }
   ],
   "source": [
    "myvalue = ('a', 'b', 'c')\n",
    "myiter = iter(myvalue)\n",
    "\n",
    "print(next(myiter))\n",
    "print(next(myiter))\n",
    "print(next(myiter))"
   ]
  },
  {
   "cell_type": "markdown",
   "id": "0e2d681b",
   "metadata": {},
   "source": [
    "### Generators X Iterators\n",
    "\n",
    "| Generator | Iterator |\n",
    "|-----------|----------|\n",
    "| Implemented using function | Implemented using class|\n",
    "| Uses yield keyword | uses iter and next functions |\n",
    "| Used in loops to generate iterator by returning all values in loop | Iterator or convert other objects into iterators |\n",
    "| All the local variables vefore yield function are stored | Local variables not used |\n",
    "| Every generator is a iterator | Not every iterator is a generator |\n",
    "| Less memory-efficient | More memory-efficient |"
   ]
  },
  {
   "cell_type": "markdown",
   "id": "db82dc6a-008c-4934-a8af-4a42290f3054",
   "metadata": {},
   "source": [
    "## Operators"
   ]
  },
  {
   "cell_type": "markdown",
   "id": "99d06b3b",
   "metadata": {},
   "source": []
  },
  {
   "cell_type": "code",
   "execution_count": 93,
   "id": "bcf4829b-9c0a-457d-b6a9-ddb4c57aed27",
   "metadata": {},
   "outputs": [
    {
     "data": {
      "text/plain": [
       "True"
      ]
     },
     "execution_count": 93,
     "metadata": {},
     "output_type": "execute_result"
    }
   ],
   "source": [
    "'x' in ['x', 'y', 'z']"
   ]
  },
  {
   "cell_type": "code",
   "execution_count": null,
   "id": "eb700e56-62ae-463d-8cc6-869002a3f325",
   "metadata": {},
   "outputs": [],
   "source": []
  }
 ],
 "metadata": {
  "kernelspec": {
   "display_name": "Python 3",
   "language": "python",
   "name": "python3"
  },
  "language_info": {
   "codemirror_mode": {
    "name": "ipython",
    "version": 3
   },
   "file_extension": ".py",
   "mimetype": "text/x-python",
   "name": "python",
   "nbconvert_exporter": "python",
   "pygments_lexer": "ipython3",
   "version": "3.12.0"
  }
 },
 "nbformat": 4,
 "nbformat_minor": 5
}

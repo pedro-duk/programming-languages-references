{
 "cells": [
  {
   "cell_type": "markdown",
   "id": "687c76cf",
   "metadata": {},
   "source": [
    "# Types\n",
    "\n",
    "- **Mutable**: Lists, Sets, Dicts. Can be modified when [passing by reference](#passing-as-reference);\n",
    "- **Immutable**: Strings, Numbers."
   ]
  },
  {
   "cell_type": "markdown",
   "id": "0b818e46-c957-4c4d-8826-a42eb9d0466a",
   "metadata": {},
   "source": [
    "# Number types"
   ]
  },
  {
   "cell_type": "code",
   "execution_count": null,
   "id": "cea6c680-f4c5-426e-9285-24dcc04e6363",
   "metadata": {},
   "outputs": [],
   "source": [
    "num1 = 1  # Integer\n",
    "num2 = 1.0  # Floating point number\n",
    "\n",
    "# Can perform basic arithmethic with each"
   ]
  },
  {
   "cell_type": "code",
   "execution_count": 2,
   "id": "d1d56a8d-6a5e-4785-ad67-f148276f46df",
   "metadata": {},
   "outputs": [
    {
     "data": {
      "text/plain": [
       "2"
      ]
     },
     "execution_count": 2,
     "metadata": {},
     "output_type": "execute_result"
    }
   ],
   "source": [
    "1 + 1"
   ]
  },
  {
   "cell_type": "code",
   "execution_count": 3,
   "id": "cb8ab6b8-a4c5-4c0f-8626-d3be1aa5dfc2",
   "metadata": {},
   "outputs": [
    {
     "data": {
      "text/plain": [
       "3"
      ]
     },
     "execution_count": 3,
     "metadata": {},
     "output_type": "execute_result"
    }
   ],
   "source": [
    "1 * 3"
   ]
  },
  {
   "cell_type": "code",
   "execution_count": null,
   "id": "f149fc03-77a5-496d-9075-fdf68135576f",
   "metadata": {},
   "outputs": [
    {
     "data": {
      "text/plain": [
       "0.5"
      ]
     },
     "execution_count": 4,
     "metadata": {},
     "output_type": "execute_result"
    }
   ],
   "source": [
    "1 / 2  # Converts to FP"
   ]
  },
  {
   "cell_type": "code",
   "execution_count": null,
   "id": "3c9be5b1-d989-48cd-b1cc-50e9e4a3645a",
   "metadata": {},
   "outputs": [
    {
     "data": {
      "text/plain": [
       "1"
      ]
     },
     "execution_count": 5,
     "metadata": {},
     "output_type": "execute_result"
    }
   ],
   "source": [
    "5 % 2  # Module"
   ]
  },
  {
   "cell_type": "code",
   "execution_count": null,
   "id": "6d598221-aef0-451a-9b68-083c965e454d",
   "metadata": {},
   "outputs": [
    {
     "data": {
      "text/plain": [
       "16"
      ]
     },
     "execution_count": 6,
     "metadata": {},
     "output_type": "execute_result"
    }
   ],
   "source": [
    "2**4  # 2 to the power of 4"
   ]
  },
  {
   "cell_type": "code",
   "execution_count": null,
   "id": "26b2949c-94e6-4d85-9a65-3715b4ef49c7",
   "metadata": {},
   "outputs": [
    {
     "data": {
      "text/plain": [
       "22"
      ]
     },
     "execution_count": 7,
     "metadata": {},
     "output_type": "execute_result"
    }
   ],
   "source": [
    "2 + 3 * 5 + 5  # Follows the order of operations, you can use parenthesis"
   ]
  },
  {
   "cell_type": "markdown",
   "id": "eac5bbab-f439-4682-86cd-f429d107ff94",
   "metadata": {},
   "source": [
    "## Variables"
   ]
  },
  {
   "cell_type": "code",
   "execution_count": null,
   "id": "96d805a3-d60b-4483-98a0-84456450ac23",
   "metadata": {},
   "outputs": [
    {
     "data": {
      "text/plain": [
       "2"
      ]
     },
     "execution_count": 8,
     "metadata": {},
     "output_type": "execute_result"
    }
   ],
   "source": [
    "var = 2  # Assigns an object type of number to variable of name \"var\"\n",
    "# Variables shouldn't start with numbers or special symbols: 12var, $var etc\n",
    "# Prefer to use variables in lowercase with underscore separating words: name_of_var\n",
    "var"
   ]
  },
  {
   "cell_type": "code",
   "execution_count": 9,
   "id": "39c2559e-c9fa-4c31-a900-712a3f26e682",
   "metadata": {},
   "outputs": [
    {
     "data": {
      "text/plain": [
       "5"
      ]
     },
     "execution_count": 9,
     "metadata": {},
     "output_type": "execute_result"
    }
   ],
   "source": [
    "x = 2\n",
    "y = 3\n",
    "x + y"
   ]
  },
  {
   "cell_type": "code",
   "execution_count": null,
   "id": "07a359be-3df5-45fd-b43c-c3a71606dd94",
   "metadata": {},
   "outputs": [
    {
     "data": {
      "text/plain": [
       "4"
      ]
     },
     "execution_count": 10,
     "metadata": {},
     "output_type": "execute_result"
    }
   ],
   "source": [
    "x = x + x  # Reassigning\n",
    "x"
   ]
  },
  {
   "cell_type": "markdown",
   "id": "4fbaf31d-a49b-408b-9f13-8bce8ef80920",
   "metadata": {},
   "source": [
    "# Strings"
   ]
  },
  {
   "cell_type": "code",
   "execution_count": null,
   "id": "12a0c4b3-025d-41d7-adac-c9f6fb6668f0",
   "metadata": {},
   "outputs": [
    {
     "data": {
      "text/plain": [
       "'single quote'"
      ]
     },
     "execution_count": 11,
     "metadata": {},
     "output_type": "execute_result"
    }
   ],
   "source": [
    "\"single quote\""
   ]
  },
  {
   "cell_type": "code",
   "execution_count": 12,
   "id": "274049b0-197f-4d43-b51b-0eb329b5576e",
   "metadata": {},
   "outputs": [
    {
     "data": {
      "text/plain": [
       "'double quote'"
      ]
     },
     "execution_count": 12,
     "metadata": {},
     "output_type": "execute_result"
    }
   ],
   "source": [
    "\"double quote\""
   ]
  },
  {
   "cell_type": "code",
   "execution_count": 13,
   "id": "3a440fcf-96c3-47ba-9cf7-2174f49973d1",
   "metadata": {},
   "outputs": [
    {
     "data": {
      "text/plain": [
       "\"Wrapping single 'quotes' inside double\""
      ]
     },
     "execution_count": 13,
     "metadata": {},
     "output_type": "execute_result"
    }
   ],
   "source": [
    "\"Wrapping single 'quotes' inside double\""
   ]
  },
  {
   "cell_type": "code",
   "execution_count": 14,
   "id": "42613c49-0960-47c8-bb17-430019f5f78f",
   "metadata": {},
   "outputs": [
    {
     "data": {
      "text/plain": [
       "'Wrapping double \"quotes\" inside single'"
      ]
     },
     "execution_count": 14,
     "metadata": {},
     "output_type": "execute_result"
    }
   ],
   "source": [
    "'Wrapping double \"quotes\" inside single'"
   ]
  },
  {
   "cell_type": "code",
   "execution_count": null,
   "id": "f1af1ae3-c856-4b6b-81dc-c5f841718032",
   "metadata": {},
   "outputs": [],
   "source": [
    "x = \"hello\""
   ]
  },
  {
   "cell_type": "code",
   "execution_count": null,
   "id": "331da978-6549-40ae-8907-05ac20cef57a",
   "metadata": {},
   "outputs": [
    {
     "data": {
      "text/plain": [
       "'hello'"
      ]
     },
     "execution_count": 16,
     "metadata": {},
     "output_type": "execute_result"
    }
   ],
   "source": [
    "x  # Prints full variable, including quotes"
   ]
  },
  {
   "cell_type": "code",
   "execution_count": null,
   "id": "39881cb8-09c3-434f-b4e1-6d5375287fa1",
   "metadata": {},
   "outputs": [
    {
     "name": "stdout",
     "output_type": "stream",
     "text": [
      "hello\n"
     ]
    }
   ],
   "source": [
    "print(x)  # Prints actual value of string, no quotes"
   ]
  },
  {
   "cell_type": "code",
   "execution_count": null,
   "id": "2bf6e8d1-3ac3-44b0-952d-cab34d08c7e6",
   "metadata": {},
   "outputs": [],
   "source": [
    "num = 12\n",
    "name = \"Pootis\""
   ]
  },
  {
   "cell_type": "code",
   "execution_count": null,
   "id": "d7139684-092b-42fa-812a-9960c08783a0",
   "metadata": {},
   "outputs": [
    {
     "data": {
      "text/plain": [
       "'My number is 12 and my name is Pootis'"
      ]
     },
     "execution_count": 19,
     "metadata": {},
     "output_type": "execute_result"
    }
   ],
   "source": [
    "\"My number is {} and my name is {}\".format(\n",
    "    num, name\n",
    ")  # Pass variable names in the order that you want to fill the brackets"
   ]
  },
  {
   "cell_type": "code",
   "execution_count": null,
   "id": "ddcb20d5-05ea-4316-8c95-8a4cde56428c",
   "metadata": {},
   "outputs": [
    {
     "data": {
      "text/plain": [
       "'My number is 12 and my name is Pootis. Again: 12'"
      ]
     },
     "execution_count": 20,
     "metadata": {},
     "output_type": "execute_result"
    }
   ],
   "source": [
    "\"My number is {one} and my name is {two}. Again: {one}\".format(one=num, two=name)\n",
    "# No need to worry about order and can reuse variables"
   ]
  },
  {
   "cell_type": "code",
   "execution_count": null,
   "id": "7bbf4458-1ded-4626-9630-64be9a67b753",
   "metadata": {},
   "outputs": [
    {
     "data": {
      "text/plain": [
       "'concatenate strings with a sum operation!'"
      ]
     },
     "execution_count": 21,
     "metadata": {},
     "output_type": "execute_result"
    }
   ],
   "source": [
    "\"concatenate strings with\" + \" a sum operation!\""
   ]
  },
  {
   "cell_type": "markdown",
   "id": "04812046-8ea5-41bf-8e54-f3f08d42e6be",
   "metadata": {},
   "source": [
    "## Indexing strings"
   ]
  },
  {
   "cell_type": "code",
   "execution_count": null,
   "id": "4234c24d-ea0e-4db4-a8d2-259958d133b9",
   "metadata": {},
   "outputs": [],
   "source": [
    "s = \"abcdefgh\"  # s is a sequence of elements, each element is a letter"
   ]
  },
  {
   "cell_type": "code",
   "execution_count": null,
   "id": "50a1aeed-bc79-4b06-866d-9b620a117aad",
   "metadata": {},
   "outputs": [
    {
     "data": {
      "text/plain": [
       "'b'"
      ]
     },
     "execution_count": 23,
     "metadata": {},
     "output_type": "execute_result"
    }
   ],
   "source": [
    "s[1]  # indexing starts at 0"
   ]
  },
  {
   "cell_type": "code",
   "execution_count": 24,
   "id": "63970ed7-330d-4e0d-9275-17b2b9631c35",
   "metadata": {},
   "outputs": [],
   "source": [
    "# s[10] # index out of range"
   ]
  },
  {
   "cell_type": "code",
   "execution_count": 25,
   "id": "709ef460-c28e-4618-adfe-e62fb18d8972",
   "metadata": {},
   "outputs": [
    {
     "data": {
      "text/plain": [
       "'g'"
      ]
     },
     "execution_count": 25,
     "metadata": {},
     "output_type": "execute_result"
    }
   ],
   "source": [
    "s[-2]"
   ]
  },
  {
   "cell_type": "code",
   "execution_count": null,
   "id": "cd4d3ebd-13c1-4e7f-8c0c-19c05373b734",
   "metadata": {},
   "outputs": [
    {
     "data": {
      "text/plain": [
       "'bc'"
      ]
     },
     "execution_count": 26,
     "metadata": {},
     "output_type": "execute_result"
    }
   ],
   "source": [
    "s[\n",
    "    1:3\n",
    "]  # Slice syntax, AKA colon notation. Start at index 1, up to (but not including) index 3"
   ]
  },
  {
   "cell_type": "code",
   "execution_count": null,
   "id": "53dd6c2c-7ec6-481c-afd5-d686685c3012",
   "metadata": {},
   "outputs": [
    {
     "data": {
      "text/plain": [
       "'abc'"
      ]
     },
     "execution_count": 27,
     "metadata": {},
     "output_type": "execute_result"
    }
   ],
   "source": [
    "s[:3]  # Everything up to (but not including) index 3"
   ]
  },
  {
   "cell_type": "markdown",
   "id": "6c3c781d-d3c9-4e70-8d79-bbfadd49dbcc",
   "metadata": {},
   "source": [
    "## Useful methods"
   ]
  },
  {
   "cell_type": "code",
   "execution_count": null,
   "id": "3ef4f772-8484-4fdc-a54e-559fe8fb64d7",
   "metadata": {},
   "outputs": [],
   "source": [
    "s = \"hello my name is Pootis\""
   ]
  },
  {
   "cell_type": "code",
   "execution_count": null,
   "id": "4b8422d2-21b8-41d8-ad96-8938d668ab75",
   "metadata": {
    "jupyter": {
     "source_hidden": true
    }
   },
   "outputs": [
    {
     "data": {
      "text/plain": [
       "'hello my name is pootis'"
      ]
     },
     "execution_count": 29,
     "metadata": {},
     "output_type": "execute_result"
    }
   ],
   "source": [
    "s.lower()  # press tab after the dot to view all methods in jupyter"
   ]
  },
  {
   "cell_type": "code",
   "execution_count": null,
   "id": "b8da3a2f-d890-49dc-97d8-19510b22297c",
   "metadata": {},
   "outputs": [
    {
     "data": {
      "text/plain": [
       "['hello', 'my', 'name', 'is', 'Pootis']"
      ]
     },
     "execution_count": 30,
     "metadata": {},
     "output_type": "execute_result"
    }
   ],
   "source": [
    "s.split()  # splits on whitespaces"
   ]
  },
  {
   "cell_type": "code",
   "execution_count": null,
   "id": "980c6e89-9ca1-4991-945c-fd78c94145df",
   "metadata": {},
   "outputs": [
    {
     "data": {
      "text/plain": [
       "['hello ', 'y na', 'e is Pootis']"
      ]
     },
     "execution_count": 31,
     "metadata": {},
     "output_type": "execute_result"
    }
   ],
   "source": [
    "s.split(\"m\")  # splits on given string\""
   ]
  },
  {
   "cell_type": "code",
   "execution_count": null,
   "id": "916884ed",
   "metadata": {},
   "outputs": [
    {
     "data": {
      "text/plain": [
       "'bbtbtb'"
      ]
     },
     "execution_count": 1,
     "metadata": {},
     "output_type": "execute_result"
    }
   ],
   "source": [
    "\"batata\".replace(\"a\", \"b\")"
   ]
  },
  {
   "cell_type": "code",
   "execution_count": 4,
   "id": "47e192e9",
   "metadata": {},
   "outputs": [
    {
     "data": {
      "text/plain": [
       "'atatab'"
      ]
     },
     "execution_count": 4,
     "metadata": {},
     "output_type": "execute_result"
    }
   ],
   "source": [
    "\"\".join(reversed(\"batata\"))"
   ]
  },
  {
   "cell_type": "code",
   "execution_count": 5,
   "id": "cdd03f3e",
   "metadata": {},
   "outputs": [
    {
     "data": {
      "text/plain": [
       "6"
      ]
     },
     "execution_count": 5,
     "metadata": {},
     "output_type": "execute_result"
    }
   ],
   "source": [
    "len(\"batata\")"
   ]
  },
  {
   "cell_type": "markdown",
   "id": "0a36012d-df61-483d-a79c-4f8dec5921c6",
   "metadata": {},
   "source": [
    "# Lists"
   ]
  },
  {
   "cell_type": "code",
   "execution_count": null,
   "id": "ec06d348-d3b2-4168-9ea0-df0703bed090",
   "metadata": {},
   "outputs": [
    {
     "data": {
      "text/plain": [
       "[1, 2, 3]"
      ]
     },
     "execution_count": 32,
     "metadata": {},
     "output_type": "execute_result"
    }
   ],
   "source": [
    "# Lists are sequence of elements in a set of square brackets separated by commas\n",
    "[1, 2, 3]"
   ]
  },
  {
   "cell_type": "code",
   "execution_count": null,
   "id": "a3f39ddd-15a8-4335-863e-a4c4479ef305",
   "metadata": {},
   "outputs": [
    {
     "data": {
      "text/plain": [
       "['a', 'b', 3]"
      ]
     },
     "execution_count": 33,
     "metadata": {},
     "output_type": "execute_result"
    }
   ],
   "source": [
    "# Takes any data type\n",
    "[\"a\", \"b\", 3]"
   ]
  },
  {
   "cell_type": "code",
   "execution_count": null,
   "id": "99fbc3e3-5544-4000-a570-3c1b4d5c3c67",
   "metadata": {},
   "outputs": [
    {
     "data": {
      "text/plain": [
       "'d'"
      ]
     },
     "execution_count": 34,
     "metadata": {},
     "output_type": "execute_result"
    }
   ],
   "source": [
    "# Lists are sequence, just like strings\n",
    "my_list = [\"a\", \"b\", \"c\", \"d\"]\n",
    "my_list[3]"
   ]
  },
  {
   "cell_type": "markdown",
   "id": "e6dd1f14",
   "metadata": {},
   "source": [
    "## Adding Elements"
   ]
  },
  {
   "cell_type": "code",
   "execution_count": null,
   "id": "2dc2f44c-b920-4930-8f9b-171441d845d1",
   "metadata": {},
   "outputs": [
    {
     "data": {
      "text/plain": [
       "['a', 'b', 'c', 'd', 'd']"
      ]
     },
     "execution_count": 35,
     "metadata": {},
     "output_type": "execute_result"
    }
   ],
   "source": [
    "my_list.append(\"e\")  # Append can be used to add elements\n",
    "my_list"
   ]
  },
  {
   "cell_type": "code",
   "execution_count": null,
   "id": "7fde8261",
   "metadata": {},
   "outputs": [
    {
     "data": {
      "text/plain": [
       "[1, 2, 10, 3, 4]"
      ]
     },
     "execution_count": 36,
     "metadata": {},
     "output_type": "execute_result"
    }
   ],
   "source": [
    "lst = [1, 2, 3, 4]\n",
    "lst.insert(2, 10)  # Insert at position\n",
    "lst"
   ]
  },
  {
   "cell_type": "code",
   "execution_count": null,
   "id": "b59caa7d",
   "metadata": {},
   "outputs": [
    {
     "data": {
      "text/plain": [
       "[1, 2, 3, 4, 5, 6]"
      ]
     },
     "execution_count": 2,
     "metadata": {},
     "output_type": "execute_result"
    }
   ],
   "source": [
    "lst1 = [1, 2, 3]\n",
    "lst2 = [4, 5, 6]\n",
    "lst1.extend(lst2)  # Append elements from another list\n",
    "lst1"
   ]
  },
  {
   "cell_type": "markdown",
   "id": "2ae1fdae",
   "metadata": {},
   "source": [
    "## Nested Lists"
   ]
  },
  {
   "cell_type": "code",
   "execution_count": null,
   "id": "33c1d420-1c8e-4aee-84be-29db59057bef",
   "metadata": {},
   "outputs": [
    {
     "data": {
      "text/plain": [
       "[1, 2, [3, 4]]"
      ]
     },
     "execution_count": 38,
     "metadata": {},
     "output_type": "execute_result"
    }
   ],
   "source": [
    "# Nesting lists inside another\n",
    "nest = [1, 2, [3, 4]]\n",
    "nest"
   ]
  },
  {
   "cell_type": "code",
   "execution_count": 39,
   "id": "e86d2727-7c08-447e-8254-80a820eb74f2",
   "metadata": {},
   "outputs": [
    {
     "data": {
      "text/plain": [
       "[3, 4]"
      ]
     },
     "execution_count": 39,
     "metadata": {},
     "output_type": "execute_result"
    }
   ],
   "source": [
    "nest[2]"
   ]
  },
  {
   "cell_type": "code",
   "execution_count": 40,
   "id": "4473cdda-c26d-4b55-9b32-7706b58aa124",
   "metadata": {},
   "outputs": [
    {
     "data": {
      "text/plain": [
       "4"
      ]
     },
     "execution_count": 40,
     "metadata": {},
     "output_type": "execute_result"
    }
   ],
   "source": [
    "nest[2][1]"
   ]
  },
  {
   "cell_type": "code",
   "execution_count": null,
   "id": "9c3960ac-9378-4074-8cc3-30247710dc55",
   "metadata": {},
   "outputs": [],
   "source": [
    "nest2 = [1, 2, 3, [4, 5, [\"target\"]]]"
   ]
  },
  {
   "cell_type": "code",
   "execution_count": 42,
   "id": "cbf20f34-85c9-4d25-ab0d-c47686e7d067",
   "metadata": {},
   "outputs": [
    {
     "data": {
      "text/plain": [
       "'target'"
      ]
     },
     "execution_count": 42,
     "metadata": {},
     "output_type": "execute_result"
    }
   ],
   "source": [
    "nest2[3][2][0]"
   ]
  },
  {
   "cell_type": "markdown",
   "id": "447fd8a9",
   "metadata": {},
   "source": [
    "## Slicing a list"
   ]
  },
  {
   "cell_type": "code",
   "execution_count": null,
   "id": "16eefd03",
   "metadata": {},
   "outputs": [
    {
     "name": "stdout",
     "output_type": "stream",
     "text": [
      "1:4 \t=  [1, 2, 3]\n",
      ":3 \t=  [0, 1, 2]\n",
      "3: \t=  [3, 4, 5, 6, 7, 8, 9]\n",
      ": \t=  [0, 1, 2, 3, 4, 5, 6, 7, 8, 9]\n",
      "\n",
      "1:8:2 \t=  [1, 3, 5, 7]\n",
      "1:8: \t=  [1, 2, 3, 4, 5, 6, 7]\n",
      ":: \t=  [0, 1, 2, 3, 4, 5, 6, 7, 8, 9]\n",
      "::2 \t=  [0, 2, 4, 6, 8]\n",
      "8:1:-2 \t=  [8, 6, 4, 2]\n",
      "\n",
      "1:6 \t=  [1, 2, 3, 4, 5]\n",
      "6:1 \t=  []\n",
      "6:1:-1 \t=  [6, 5, 4, 3, 2]\n"
     ]
    }
   ],
   "source": [
    "# Syntax: ListName[Start:Stop:Step]\n",
    "# Default step is 1\n",
    "\n",
    "lst = [0, 1, 2, 3, 4, 5, 6, 7, 8, 9]\n",
    "print(\"1:4 \\t= \", lst[1:4])\n",
    "print(\":3 \\t= \", lst[:3])\n",
    "print(\"3: \\t= \", lst[3:])\n",
    "print(\": \\t= \", lst[:])\n",
    "\n",
    "print()\n",
    "print(\"1:8:2 \\t= \", lst[1:8:2])\n",
    "print(\"1:8: \\t= \", lst[1:8:])\n",
    "print(\":: \\t= \", lst[::])\n",
    "print(\"::2 \\t= \", lst[::2])\n",
    "print(\"8:1:-2 \\t= \", lst[8:1:-2])\n",
    "\n",
    "print()\n",
    "print(\"1:6 \\t= \", lst[1:6])\n",
    "print(\"6:1 \\t= \", lst[6:1])\n",
    "print(\"6:1:-1 \\t= \", lst[6:1:-1])"
   ]
  },
  {
   "cell_type": "markdown",
   "id": "368eab9d",
   "metadata": {},
   "source": [
    "## Creating Copies\n",
    "- **Shallow list**: Creates a new object and stores the references which are identified in the original elements."
   ]
  },
  {
   "cell_type": "code",
   "execution_count": 22,
   "id": "bb54d03c",
   "metadata": {},
   "outputs": [
    {
     "name": "stdout",
     "output_type": "stream",
     "text": [
      "[[1, 2], [3, 4], [5, 16]]\n",
      "[[1, 2], [13, 14], [5, 16]]\n"
     ]
    }
   ],
   "source": [
    "import copy\n",
    "\n",
    "oldlist = [[1, 2], [3, 4], [5, 6]]\n",
    "newlist = copy.copy(oldlist)\n",
    "\n",
    "newlist[2][1] = 16  # When modifying nested objects, both are modified\n",
    "newlist[1] = [13, 14]  # But the elements in the first level are specific to each list\n",
    "\n",
    "print(oldlist)\n",
    "print(newlist)"
   ]
  },
  {
   "cell_type": "markdown",
   "id": "493dcdc7",
   "metadata": {},
   "source": [
    "- **Deep Copy**: Creates a new object and recursively adds the copies of nested objects present in the original elements."
   ]
  },
  {
   "cell_type": "code",
   "execution_count": null,
   "id": "b38f8cb0",
   "metadata": {},
   "outputs": [
    {
     "name": "stdout",
     "output_type": "stream",
     "text": [
      "[[1, 2], [3, 4], [5, 6]]\n",
      "[[1, 2], [13, 14], [5, 16]]\n"
     ]
    }
   ],
   "source": [
    "import copy\n",
    "\n",
    "oldlist = [[1, 2], [3, 4], [5, 6]]\n",
    "newlist = copy.deepcopy(oldlist)\n",
    "\n",
    "newlist[2][1] = 16  # Only newlist is modified\n",
    "newlist[1] = [\n",
    "    13,\n",
    "    14,\n",
    "]  # And the elements in the first level are also specific to each list\n",
    "\n",
    "print(oldlist)\n",
    "print(newlist)"
   ]
  },
  {
   "cell_type": "markdown",
   "id": "d9f4cf6a",
   "metadata": {},
   "source": [
    "## Removing Elements\n",
    "- ``Remove``: Removes first matching element;\n",
    "- ``Pop`` Removes item at index and returns the removed item;\n",
    "- ``Del``: Remove an item from index (can also remove slices or clear the whole list);\n",
    "- ``Clear``: Removes all items."
   ]
  },
  {
   "cell_type": "code",
   "execution_count": null,
   "id": "b8150a5f",
   "metadata": {},
   "outputs": [
    {
     "data": {
      "text/plain": [
       "[1, 3, 4]"
      ]
     },
     "execution_count": 28,
     "metadata": {},
     "output_type": "execute_result"
    }
   ],
   "source": [
    "lst = [1, 2, 3, 4]\n",
    "lst.remove(2)\n",
    "lst"
   ]
  },
  {
   "cell_type": "code",
   "execution_count": null,
   "id": "0d84a36d-cdce-46ea-8772-3ba400a7f80e",
   "metadata": {},
   "outputs": [
    {
     "name": "stdout",
     "output_type": "stream",
     "text": [
      "3\n",
      "[1, 2]\n"
     ]
    }
   ],
   "source": [
    "lst = [1, 2, 3]\n",
    "print(lst.pop())\n",
    "print(lst)"
   ]
  },
  {
   "cell_type": "code",
   "execution_count": null,
   "id": "73c25087-1b82-4f46-bf15-288a2c4f3d98",
   "metadata": {},
   "outputs": [
    {
     "name": "stdout",
     "output_type": "stream",
     "text": [
      "2\n",
      "[1, 3, 4]\n"
     ]
    }
   ],
   "source": [
    "lst = [1, 2, 3, 4]\n",
    "print(lst.pop(1))\n",
    "print(lst)"
   ]
  },
  {
   "cell_type": "code",
   "execution_count": 30,
   "id": "1736dddd",
   "metadata": {},
   "outputs": [
    {
     "name": "stdout",
     "output_type": "stream",
     "text": [
      "[-5, 40, 56, 100, 1.8, 7, 9]\n",
      "[-5, 100, 1.8, 7, 9]\n",
      "[]\n"
     ]
    }
   ],
   "source": [
    "z = [-5, 2, 40, 56, 100, 1.8, 7, 9]\n",
    "del z[1]\n",
    "print(z)\n",
    "del z[1:3]\n",
    "print(z)\n",
    "del z[:]\n",
    "print(z)"
   ]
  },
  {
   "cell_type": "code",
   "execution_count": null,
   "id": "d1f072a9",
   "metadata": {},
   "outputs": [
    {
     "data": {
      "text/plain": [
       "[]"
      ]
     },
     "execution_count": 31,
     "metadata": {},
     "output_type": "execute_result"
    }
   ],
   "source": [
    "z = [1, 2, 3, 4]\n",
    "z.clear()\n",
    "z"
   ]
  },
  {
   "cell_type": "markdown",
   "id": "d955da63",
   "metadata": {},
   "source": [
    "## Concatenation"
   ]
  },
  {
   "cell_type": "code",
   "execution_count": null,
   "id": "72874191",
   "metadata": {},
   "outputs": [
    {
     "data": {
      "text/plain": [
       "[1, 2, 3, 4, 5, 6]"
      ]
     },
     "execution_count": 64,
     "metadata": {},
     "output_type": "execute_result"
    }
   ],
   "source": [
    "# Using a loop and append\n",
    "lst1 = [1, 2, 3]\n",
    "lst2 = [4, 5, 6]\n",
    "\n",
    "for x in lst2:\n",
    "    lst1.append(x)\n",
    "\n",
    "lst1"
   ]
  },
  {
   "cell_type": "code",
   "execution_count": null,
   "id": "458f4c89",
   "metadata": {},
   "outputs": [
    {
     "data": {
      "text/plain": [
       "[1, 2, 3, 4, 5, 6]"
      ]
     },
     "execution_count": 65,
     "metadata": {},
     "output_type": "execute_result"
    }
   ],
   "source": [
    "# Using the + operator\n",
    "lst1 = [1, 2, 3]\n",
    "lst2 = [4, 5, 6]\n",
    "lst1 + lst2"
   ]
  },
  {
   "cell_type": "markdown",
   "id": "01e2cfad",
   "metadata": {},
   "source": [
    "## Stack and Queue"
   ]
  },
  {
   "cell_type": "code",
   "execution_count": null,
   "id": "08e9a388",
   "metadata": {},
   "outputs": [
    {
     "name": "stdout",
     "output_type": "stream",
     "text": [
      "[1, 2, 3]\n",
      "[1, 2, 3, 4]\n",
      "[1, 2, 3]\n"
     ]
    }
   ],
   "source": [
    "# Use lists as stacks with pop and append\n",
    "list1 = [1, 2, 3]\n",
    "print(list1)\n",
    "\n",
    "list1.append(4)\n",
    "print(list1)\n",
    "\n",
    "list1.pop()\n",
    "print(list1)"
   ]
  },
  {
   "cell_type": "code",
   "execution_count": null,
   "id": "10b6c834",
   "metadata": {},
   "outputs": [
    {
     "name": "stdout",
     "output_type": "stream",
     "text": [
      "deque([1, 2, 3])\n",
      "deque([1, 2, 3, 4])\n",
      "deque([2, 3, 4])\n"
     ]
    }
   ],
   "source": [
    "# Use lists as queues using a deque, with popleft and append\n",
    "from collections import deque\n",
    "\n",
    "myqueue = deque([1, 2, 3])\n",
    "print(myqueue)\n",
    "\n",
    "myqueue.append(4)\n",
    "print(myqueue)\n",
    "\n",
    "myqueue.popleft()\n",
    "print(myqueue)"
   ]
  },
  {
   "cell_type": "markdown",
   "id": "9fc1b393",
   "metadata": {},
   "source": [
    "## List Comprehension"
   ]
  },
  {
   "cell_type": "code",
   "execution_count": 70,
   "id": "0232092a",
   "metadata": {},
   "outputs": [
    {
     "data": {
      "text/plain": [
       "[1, 4, 9, 16]"
      ]
     },
     "execution_count": 70,
     "metadata": {},
     "output_type": "execute_result"
    }
   ],
   "source": [
    "x = [1, 2, 3, 4]\n",
    "out = []\n",
    "\n",
    "for num in x:\n",
    "    out.append(num**2)\n",
    "\n",
    "out"
   ]
  },
  {
   "cell_type": "code",
   "execution_count": 71,
   "id": "d79a2b81",
   "metadata": {},
   "outputs": [
    {
     "data": {
      "text/plain": [
       "[1, 4, 9, 16]"
      ]
     },
     "execution_count": 71,
     "metadata": {},
     "output_type": "execute_result"
    }
   ],
   "source": [
    "# The operation of making a list out of another list is so common in python that it developed list comprehension:\n",
    "y = [1, 2, 3, 4]\n",
    "out = [num**2 for num in y]\n",
    "out"
   ]
  },
  {
   "cell_type": "code",
   "execution_count": 72,
   "id": "2240cfda",
   "metadata": {},
   "outputs": [
    {
     "data": {
      "text/plain": [
       "[2, 4]"
      ]
     },
     "execution_count": 72,
     "metadata": {},
     "output_type": "execute_result"
    }
   ],
   "source": [
    "# You can also use list comprehension to filter specific items with if/else ternary\n",
    "y = [1, 2, 3, 4]\n",
    "out = [num for num in y if num % 2 == 0]\n",
    "out"
   ]
  },
  {
   "cell_type": "markdown",
   "id": "613766e4-0ecd-4860-a80e-4ab65ac38a93",
   "metadata": {},
   "source": [
    "## Useful Methods"
   ]
  },
  {
   "cell_type": "code",
   "execution_count": null,
   "id": "c41d7eb0",
   "metadata": {},
   "outputs": [
    {
     "data": {
      "text/plain": [
       "2"
      ]
     },
     "execution_count": 47,
     "metadata": {},
     "output_type": "execute_result"
    }
   ],
   "source": [
    "lst = [10, 20, 30, 40]\n",
    "lst.index(30)  # Gets index of element"
   ]
  },
  {
   "cell_type": "code",
   "execution_count": 48,
   "id": "1bdfc19b",
   "metadata": {},
   "outputs": [
    {
     "data": {
      "text/plain": [
       "4"
      ]
     },
     "execution_count": 48,
     "metadata": {},
     "output_type": "execute_result"
    }
   ],
   "source": [
    "len(lst)"
   ]
  },
  {
   "cell_type": "code",
   "execution_count": 49,
   "id": "30cf6e61",
   "metadata": {},
   "outputs": [
    {
     "data": {
      "text/plain": [
       "40"
      ]
     },
     "execution_count": 49,
     "metadata": {},
     "output_type": "execute_result"
    }
   ],
   "source": [
    "max(lst)"
   ]
  },
  {
   "cell_type": "code",
   "execution_count": 50,
   "id": "78bf2642",
   "metadata": {},
   "outputs": [
    {
     "data": {
      "text/plain": [
       "10"
      ]
     },
     "execution_count": 50,
     "metadata": {},
     "output_type": "execute_result"
    }
   ],
   "source": [
    "min(lst)"
   ]
  },
  {
   "cell_type": "code",
   "execution_count": null,
   "id": "5cd5555d",
   "metadata": {},
   "outputs": [
    {
     "data": {
      "text/plain": [
       "[1, 2, 3]"
      ]
     },
     "execution_count": 53,
     "metadata": {},
     "output_type": "execute_result"
    }
   ],
   "source": [
    "cooltuple = (1, 2, 3)\n",
    "lst = list(cooltuple)  # Convert to list\n",
    "lst"
   ]
  },
  {
   "cell_type": "code",
   "execution_count": null,
   "id": "e48ba642",
   "metadata": {},
   "outputs": [
    {
     "data": {
      "text/plain": [
       "3"
      ]
     },
     "execution_count": 55,
     "metadata": {},
     "output_type": "execute_result"
    }
   ],
   "source": [
    "lst = [1, 2, 1, 1, 4]\n",
    "lst.count(1)  # returns number of occurrences"
   ]
  },
  {
   "cell_type": "code",
   "execution_count": null,
   "id": "10a0b110",
   "metadata": {},
   "outputs": [
    {
     "data": {
      "text/plain": [
       "[1, 1, 1, 2, 4]"
      ]
     },
     "execution_count": 58,
     "metadata": {},
     "output_type": "execute_result"
    }
   ],
   "source": [
    "lst = [1, 2, 1, 1, 4]\n",
    "lst.sort()  # Sorts list in ascending order\n",
    "lst"
   ]
  },
  {
   "cell_type": "code",
   "execution_count": null,
   "id": "c0c06f1b",
   "metadata": {},
   "outputs": [
    {
     "data": {
      "text/plain": [
       "[4, 1, 1, 2, 1]"
      ]
     },
     "execution_count": 62,
     "metadata": {},
     "output_type": "execute_result"
    }
   ],
   "source": [
    "lst = [1, 2, 1, 1, 4]\n",
    "lst.reverse()  # reverses order of elements\n",
    "lst"
   ]
  },
  {
   "cell_type": "code",
   "execution_count": null,
   "id": "9fb7056a",
   "metadata": {},
   "outputs": [
    {
     "name": "stdout",
     "output_type": "stream",
     "text": [
      "True\n",
      "False\n"
     ]
    }
   ],
   "source": [
    "# List membership test\n",
    "lst = [1, 2, 3, 4]\n",
    "print(3 in lst)\n",
    "print(6 in lst)"
   ]
  },
  {
   "cell_type": "markdown",
   "id": "3895475e-3f45-44a7-bb37-8f104719f730",
   "metadata": {},
   "source": [
    "# Dictionaries\n",
    "- Mutable unordered collection of keys-values."
   ]
  },
  {
   "cell_type": "code",
   "execution_count": null,
   "id": "a9a0e0c7-b210-4524-b207-c892068308bc",
   "metadata": {},
   "outputs": [
    {
     "data": {
      "text/plain": [
       "'value'"
      ]
     },
     "execution_count": 43,
     "metadata": {},
     "output_type": "execute_result"
    }
   ],
   "source": [
    "d1 = {\"key1\": \"value\", \"key2\": 123}\n",
    "# Behaves like a hashtable\n",
    "# Holds elements thru key-value pairs\n",
    "\n",
    "d1[\"key1\"]  # Returns value associated with key"
   ]
  },
  {
   "cell_type": "code",
   "execution_count": null,
   "id": "ceab01a4",
   "metadata": {},
   "outputs": [
    {
     "data": {
      "text/plain": [
       "'value'"
      ]
     },
     "execution_count": 44,
     "metadata": {},
     "output_type": "execute_result"
    }
   ],
   "source": [
    "# Accessing elements via GET\n",
    "d1.get(\"key1\")"
   ]
  },
  {
   "cell_type": "code",
   "execution_count": null,
   "id": "842a1eee",
   "metadata": {},
   "outputs": [],
   "source": [
    "# Empty dictionary\n",
    "d1 = {}"
   ]
  },
  {
   "cell_type": "code",
   "execution_count": null,
   "id": "18c65e01-14d6-4f83-9638-609ca0000a11",
   "metadata": {},
   "outputs": [
    {
     "data": {
      "text/plain": [
       "'abcde'"
      ]
     },
     "execution_count": 48,
     "metadata": {},
     "output_type": "execute_result"
    }
   ],
   "source": [
    "# Keys can be any hashable data type (even floating numbers!)\n",
    "# Keys cant be lists or dictionaries\n",
    "d2 = {1.2: \"abcde\"}\n",
    "d2[1.2]"
   ]
  },
  {
   "cell_type": "code",
   "execution_count": 50,
   "id": "160e8f8f-c655-42d9-91e7-fe0be4419606",
   "metadata": {},
   "outputs": [],
   "source": [
    "# Exception if key doesn't exist\n",
    "# d1['unexistingkey']"
   ]
  },
  {
   "cell_type": "markdown",
   "id": "3e162ab6",
   "metadata": {},
   "source": [
    "## Membership Test"
   ]
  },
  {
   "cell_type": "code",
   "execution_count": null,
   "id": "e5e6f643",
   "metadata": {},
   "outputs": [
    {
     "name": "stdout",
     "output_type": "stream",
     "text": [
      "True\n",
      "False\n",
      "False\n",
      "True\n"
     ]
    }
   ],
   "source": [
    "d1 = {\"k1\": 1, \"k2\": 2}\n",
    "print(\"k1\" in d1)\n",
    "print(\"k3\" in d1)\n",
    "print(1 in d1)\n",
    "print(1 in d1.values())"
   ]
  },
  {
   "cell_type": "markdown",
   "id": "74facb9d",
   "metadata": {},
   "source": [
    "## Iterating over elements"
   ]
  },
  {
   "cell_type": "code",
   "execution_count": null,
   "id": "2c0a3ebe",
   "metadata": {},
   "outputs": [
    {
     "name": "stdout",
     "output_type": "stream",
     "text": [
      "k1\n",
      "k2\n"
     ]
    }
   ],
   "source": [
    "d1 = {\"k1\": 1, \"k2\": 2}\n",
    "for a in d1:\n",
    "    print(a)"
   ]
  },
  {
   "cell_type": "code",
   "execution_count": 41,
   "id": "aeb9fc31",
   "metadata": {},
   "outputs": [
    {
     "name": "stdout",
     "output_type": "stream",
     "text": [
      "k1 1\n",
      "k2 2\n"
     ]
    }
   ],
   "source": [
    "d1 = {\"k1\": 1, \"k2\": 2}\n",
    "for a, k in d1.items():\n",
    "    print(a, k)"
   ]
  },
  {
   "cell_type": "markdown",
   "id": "c57b3e24",
   "metadata": {},
   "source": [
    "## Properties of Keys-Values\n",
    "- Values have no restrictions (they are arbitrary python objects);\n",
    "- More than one entry per key is not allowed;\n",
    "- Duplicate keys are not allowed;\n",
    "- Keys are immutable and can be **Strings**, **numbers** or **tuples**."
   ]
  },
  {
   "cell_type": "code",
   "execution_count": null,
   "id": "e5ff0fca-9f08-40b5-b31a-81765e33fff3",
   "metadata": {},
   "outputs": [
    {
     "data": {
      "text/plain": [
       "2"
      ]
     },
     "execution_count": 51,
     "metadata": {},
     "output_type": "execute_result"
    }
   ],
   "source": [
    "# Values can be anything, even lists or dicts\n",
    "d2 = {\"k1\": [1, 2, 3]}\n",
    "d2[\"k1\"][1]"
   ]
  },
  {
   "cell_type": "markdown",
   "id": "6312f860",
   "metadata": {},
   "source": [
    "## Adding and Updating Elements"
   ]
  },
  {
   "cell_type": "code",
   "execution_count": null,
   "id": "0194a6d8",
   "metadata": {},
   "outputs": [
    {
     "name": "stdout",
     "output_type": "stream",
     "text": [
      "{0: 'python'}\n",
      "{0: 'reassign'}\n"
     ]
    }
   ],
   "source": [
    "d3 = {}  # Empty dict\n",
    "d3[0] = \"python\"  # key doesn't exist: value is added\n",
    "print(d3)\n",
    "\n",
    "d3[0] = \"reassign\"  # key exists: value is updated\n",
    "print(d3)"
   ]
  },
  {
   "cell_type": "code",
   "execution_count": 15,
   "id": "e5b9582e",
   "metadata": {},
   "outputs": [
    {
     "data": {
      "text/plain": [
       "{'a': 1, 'c': 'd', 'e': 2}"
      ]
     },
     "execution_count": 15,
     "metadata": {},
     "output_type": "execute_result"
    }
   ],
   "source": [
    "# You can also use the built-in method update. They'll add if it doesnt exist and reassign the existing ones\n",
    "dict1 = {\"a\": \"b\", \"c\": \"d\"}\n",
    "dict1.update({\"a\": 1, \"e\": 2})\n",
    "dict1"
   ]
  },
  {
   "cell_type": "markdown",
   "id": "7198531a",
   "metadata": {},
   "source": [
    "## Removing Elements"
   ]
  },
  {
   "cell_type": "code",
   "execution_count": null,
   "id": "f652c70d",
   "metadata": {},
   "outputs": [
    {
     "name": "stdout",
     "output_type": "stream",
     "text": [
      "{1: 'a', 2: 'b', 3: 'c', 4: 'd'}\n",
      "{2: 'b', 3: 'c', 4: 'd'}\n",
      "c {2: 'b', 4: 'd'}\n",
      "{}\n"
     ]
    }
   ],
   "source": [
    "d4 = {1: \"a\", 2: \"b\", 3: \"c\", 4: \"d\"}\n",
    "print(d4)\n",
    "\n",
    "del d4[1]  # removes item with specified key name\n",
    "print(d4)\n",
    "\n",
    "num = d4.pop(3)  # removes item with specified key name and returns its value\n",
    "print(num, d4)\n",
    "\n",
    "d4.clear()  # emptying dictionary\n",
    "print(d4)\n",
    "\n",
    "del d4  # deleting whole object\n",
    "# print(d4) # error"
   ]
  },
  {
   "cell_type": "code",
   "execution_count": null,
   "id": "d7131336",
   "metadata": {},
   "outputs": [
    {
     "name": "stdout",
     "output_type": "stream",
     "text": [
      "Elements in dictionary: {1: 'python', 2: 'for', 3: 'o9  Education', 'name': 'coding'}\n"
     ]
    }
   ],
   "source": [
    "dict = {1: \"python\", 2: \"for\", 3: \"o9  Education\", \"name\": \"development\"}\n",
    "\n",
    "dict.update({\"name\": \"coding\"})\n",
    "\n",
    "print(\"Elements in dictionary:\", dict)"
   ]
  },
  {
   "cell_type": "code",
   "execution_count": null,
   "id": "bc245088",
   "metadata": {},
   "outputs": [
    {
     "name": "stdout",
     "output_type": "stream",
     "text": [
      "28\n"
     ]
    }
   ],
   "source": [
    "mylist = [1, 7, 5, 6, 4, 5, 2]\n",
    "mylist.remove(2)\n",
    "print(sum(mylist))"
   ]
  },
  {
   "cell_type": "markdown",
   "id": "b86f6f83",
   "metadata": {},
   "source": [
    "## Useful Methods"
   ]
  },
  {
   "cell_type": "code",
   "execution_count": null,
   "id": "5a03ca98-0959-4b7a-b77f-1c6ea7cd3b8b",
   "metadata": {},
   "outputs": [],
   "source": [
    "d = {\"k1\": 1, \"k2\": 2}\n",
    "list(d.keys())"
   ]
  },
  {
   "cell_type": "code",
   "execution_count": null,
   "id": "6e7276c5-b978-4969-9b5b-aaebd732bcf4",
   "metadata": {
    "scrolled": true
   },
   "outputs": [
    {
     "data": {
      "text/plain": [
       "[1, 2]"
      ]
     },
     "execution_count": 54,
     "metadata": {},
     "output_type": "execute_result"
    }
   ],
   "source": [
    "d = {\"k1\": 1, \"k2\": 2}\n",
    "list(d.values())"
   ]
  },
  {
   "cell_type": "code",
   "execution_count": null,
   "id": "88ee3e48-078c-4f95-a784-e82cd912c9b4",
   "metadata": {},
   "outputs": [
    {
     "data": {
      "text/plain": [
       "[('k1', 1), ('k2', 2)]"
      ]
     },
     "execution_count": 55,
     "metadata": {},
     "output_type": "execute_result"
    }
   ],
   "source": [
    "d = {\"k1\": 1, \"k2\": 2}\n",
    "list(d.items())"
   ]
  },
  {
   "cell_type": "markdown",
   "id": "eede8935",
   "metadata": {},
   "source": [
    "- ``setdefault``: similar to get, will assign default value if not already in dictionary;\n",
    "- ``pop item``: removes random key-value from dictionary and returns the dictionary;"
   ]
  },
  {
   "cell_type": "code",
   "execution_count": null,
   "id": "e46245df",
   "metadata": {},
   "outputs": [
    {
     "data": {
      "text/plain": [
       "{'k1': 1, 'k2': 2}"
      ]
     },
     "execution_count": 22,
     "metadata": {},
     "output_type": "execute_result"
    }
   ],
   "source": [
    "d = {\"k1\": 1, \"k2\": 2}\n",
    "t = d.copy()  # shallow copy of dictionary elements\n",
    "t"
   ]
  },
  {
   "cell_type": "code",
   "execution_count": null,
   "id": "57de8de4",
   "metadata": {},
   "outputs": [
    {
     "data": {
      "text/plain": [
       "{1: 3, 2: 3}"
      ]
     },
     "execution_count": 24,
     "metadata": {},
     "output_type": "execute_result"
    }
   ],
   "source": [
    "d = {\"k1\": 1, \"k2\": 2}\n",
    "t = d.fromkeys(\n",
    "    [1, 2], 3\n",
    ")  # creates new dictionary with keys from iterables with value, values in d dont matter\n",
    "t"
   ]
  },
  {
   "cell_type": "code",
   "execution_count": null,
   "id": "f4062114",
   "metadata": {},
   "outputs": [
    {
     "name": "stdout",
     "output_type": "stream",
     "text": [
      "1\n",
      "None\n",
      "1\n",
      "None\n",
      "default4\n",
      "{'k1': 1, 'k2': 2, 'k3': None, 'k4': 'default4'}\n"
     ]
    }
   ],
   "source": [
    "d = {\"k1\": 1, \"k2\": 2}\n",
    "print(\n",
    "    d.setdefault(\"k1\")\n",
    ")  # retrieves values from a key. if key doesn't exit, insert the second value (avoids exceptions)\n",
    "print(d.setdefault(\"k3\"))\n",
    "print(d.setdefault(\"k1\", \"default1\"))\n",
    "print(\n",
    "    d.setdefault(\"k3\", \"default3\")\n",
    ")  # Key-value had already been created, so it's not replaced\n",
    "print(d.setdefault(\"k4\", \"default4\"))  # new key, so it adds default4\n",
    "print(d)"
   ]
  },
  {
   "cell_type": "markdown",
   "id": "36e33743",
   "metadata": {},
   "source": [
    "## Built-in functions\n",
    "- ``len``\n",
    "- ``any``\n",
    "- ``all``\n",
    "- ``sorted``"
   ]
  },
  {
   "cell_type": "markdown",
   "id": "93d8e267",
   "metadata": {},
   "source": [
    "## Dictionary Comprehensions"
   ]
  },
  {
   "cell_type": "code",
   "execution_count": 34,
   "id": "afd3ba65",
   "metadata": {},
   "outputs": [
    {
     "data": {
      "text/plain": [
       "{'k2': 2}"
      ]
     },
     "execution_count": 34,
     "metadata": {},
     "output_type": "execute_result"
    }
   ],
   "source": [
    "inputdict = {\"k1\": 1, \"k2\": 2, \"k3\": 3}\n",
    "outputdict = {key: value for (key, value) in inputdict.items() if (value % 2 == 0)}\n",
    "outputdict"
   ]
  },
  {
   "cell_type": "markdown",
   "id": "0ffca3eb-5988-4a0b-987e-72e80fcb7504",
   "metadata": {},
   "source": [
    "# Booleans"
   ]
  },
  {
   "cell_type": "code",
   "execution_count": 56,
   "id": "c6b7d96c-94a2-4e2e-808d-512112cf24f5",
   "metadata": {},
   "outputs": [],
   "source": [
    "var1 = True\n",
    "var2 = False"
   ]
  },
  {
   "cell_type": "markdown",
   "id": "dc2450f5-a7f9-4112-b2ef-44fd21b0f858",
   "metadata": {},
   "source": [
    "# Tuples\n",
    "- Immutable ordered collection of values;\n",
    "- Faster to iterate than list;\n",
    "- Consumes less memory than list;\n",
    "- Operations in tuple are safe."
   ]
  },
  {
   "cell_type": "code",
   "execution_count": null,
   "id": "c109b30f-af25-431f-b37e-c7fa15955eb6",
   "metadata": {},
   "outputs": [
    {
     "data": {
      "text/plain": [
       "(1, 2, 3)"
      ]
     },
     "execution_count": 151,
     "metadata": {},
     "output_type": "execute_result"
    }
   ],
   "source": [
    "# Creating a tuple\n",
    "t = (1, 2, 3)\n",
    "t"
   ]
  },
  {
   "cell_type": "code",
   "execution_count": 116,
   "id": "a2bba7e5",
   "metadata": {},
   "outputs": [
    {
     "data": {
      "text/plain": [
       "()"
      ]
     },
     "execution_count": 116,
     "metadata": {},
     "output_type": "execute_result"
    }
   ],
   "source": [
    "# Empty tuple\n",
    "t = ()\n",
    "t"
   ]
  },
  {
   "cell_type": "markdown",
   "id": "eac9b429",
   "metadata": {},
   "source": [
    "## Accessing Elements\n",
    "- Very similar to list."
   ]
  },
  {
   "cell_type": "code",
   "execution_count": null,
   "id": "cf937833",
   "metadata": {},
   "outputs": [
    {
     "data": {
      "text/plain": [
       "2"
      ]
     },
     "execution_count": 117,
     "metadata": {},
     "output_type": "execute_result"
    }
   ],
   "source": [
    "t = (1, 2, 3)\n",
    "t[1]  # Indexing"
   ]
  },
  {
   "cell_type": "code",
   "execution_count": null,
   "id": "e0ed3f2d",
   "metadata": {},
   "outputs": [
    {
     "data": {
      "text/plain": [
       "3"
      ]
     },
     "execution_count": 120,
     "metadata": {},
     "output_type": "execute_result"
    }
   ],
   "source": [
    "t = (1, 2, 3)\n",
    "t[-1]  # Negative indexing"
   ]
  },
  {
   "cell_type": "code",
   "execution_count": null,
   "id": "6c54b706",
   "metadata": {},
   "outputs": [
    {
     "name": "stdout",
     "output_type": "stream",
     "text": [
      "(2, 3, 4, 5)\n",
      "(2, 4)\n"
     ]
    }
   ],
   "source": [
    "t = (1, 2, 3, 4, 5, 6, 7, 8)\n",
    "print(t[1:5])  # Slicing happens as lists (Start:Stop:Step)\n",
    "print(t[1:5:2])  # ETC"
   ]
  },
  {
   "cell_type": "code",
   "execution_count": null,
   "id": "126e7a79",
   "metadata": {},
   "outputs": [
    {
     "data": {
      "text/plain": [
       "(1, 2, [5, 4])"
      ]
     },
     "execution_count": 124,
     "metadata": {},
     "output_type": "execute_result"
    }
   ],
   "source": [
    "# You can't update the tuple elements, but you can update nested elements of a mutable item.\n",
    "t = (1, 2, [3, 4])\n",
    "t[2][0] = 5\n",
    "t"
   ]
  },
  {
   "cell_type": "markdown",
   "id": "899acacc",
   "metadata": {},
   "source": [
    "## Nested Tuples"
   ]
  },
  {
   "cell_type": "code",
   "execution_count": 119,
   "id": "261a0672",
   "metadata": {},
   "outputs": [
    {
     "name": "stdout",
     "output_type": "stream",
     "text": [
      "1\n",
      "(3, 4)\n",
      "4\n"
     ]
    }
   ],
   "source": [
    "t = (1, 2, (3, 4))\n",
    "print(t[0])\n",
    "print(t[2])\n",
    "print(t[2][1])"
   ]
  },
  {
   "cell_type": "code",
   "execution_count": null,
   "id": "4ed3f41f-97b6-4050-a955-970247fe9b5a",
   "metadata": {},
   "outputs": [
    {
     "name": "stdout",
     "output_type": "stream",
     "text": [
      "2\n",
      "4\n"
     ]
    }
   ],
   "source": [
    "# Lists can be reassigned or be added new data, tuples are immutable\n",
    "list1 = [1, 2, 3]\n",
    "print(list1[1])\n",
    "list1[1] = 4\n",
    "print(list1[1])"
   ]
  },
  {
   "cell_type": "code",
   "execution_count": null,
   "id": "8712f23e-a170-4c6b-b085-fa14eac3ff15",
   "metadata": {},
   "outputs": [],
   "source": [
    "tup1 = (1, 2, 3)\n",
    "# tup1[1] = 2 # tuples cannot be reassigned!"
   ]
  },
  {
   "cell_type": "code",
   "execution_count": 13,
   "id": "6bfc43dd",
   "metadata": {},
   "outputs": [
    {
     "data": {
      "text/plain": [
       "(1, 2, 3, 4)"
      ]
     },
     "execution_count": 13,
     "metadata": {},
     "output_type": "execute_result"
    }
   ],
   "source": [
    "# But you can concatenate tuples:\n",
    "(1, 2) + (3, 4)"
   ]
  },
  {
   "cell_type": "code",
   "execution_count": null,
   "id": "813417b4",
   "metadata": {},
   "outputs": [
    {
     "name": "stdout",
     "output_type": "stream",
     "text": [
      "2\n",
      "(2, 3)\n"
     ]
    }
   ],
   "source": [
    "# You can access them as lists:\n",
    "tup1 = (1, 2, 3, 4)\n",
    "print(tup1[1])\n",
    "print(tup1[1:3])"
   ]
  },
  {
   "cell_type": "markdown",
   "id": "7f92bade",
   "metadata": {},
   "source": [
    "## Iterating over elements"
   ]
  },
  {
   "cell_type": "code",
   "execution_count": null,
   "id": "1aa05630",
   "metadata": {},
   "outputs": [
    {
     "name": "stdout",
     "output_type": "stream",
     "text": [
      "1\n",
      "2\n",
      "3\n",
      "4\n",
      "5\n"
     ]
    }
   ],
   "source": [
    "t = (1, 2, 3, 4, 5)\n",
    "for x in t:\n",
    "    print(x)"
   ]
  },
  {
   "cell_type": "code",
   "execution_count": null,
   "id": "3e468438",
   "metadata": {},
   "outputs": [
    {
     "name": "stdout",
     "output_type": "stream",
     "text": [
      "0 1\n",
      "1 2\n",
      "2 3\n",
      "3 4\n",
      "4 5\n"
     ]
    }
   ],
   "source": [
    "t = (1, 2, 3, 4, 5)\n",
    "for i, j in enumerate(t):\n",
    "    print(i, j)"
   ]
  },
  {
   "cell_type": "markdown",
   "id": "f89e88e1-19e2-49e6-8664-0c75a073fc3e",
   "metadata": {},
   "source": [
    "## Tuple Unpacking"
   ]
  },
  {
   "cell_type": "code",
   "execution_count": null,
   "id": "084051da-454b-4212-bfb6-6708422b26ed",
   "metadata": {},
   "outputs": [],
   "source": [
    "x = [(1, 2), (3, 4), (5, 6)]  # this is really common"
   ]
  },
  {
   "cell_type": "code",
   "execution_count": null,
   "id": "c50fd662-5013-4616-b7c2-92c33a57953d",
   "metadata": {},
   "outputs": [
    {
     "name": "stdout",
     "output_type": "stream",
     "text": [
      "1\n",
      "3\n",
      "5\n"
     ]
    }
   ],
   "source": [
    "for a, b in x:\n",
    "    print(a)"
   ]
  },
  {
   "cell_type": "markdown",
   "id": "183d3d20",
   "metadata": {},
   "source": [
    "## Concatenation"
   ]
  },
  {
   "cell_type": "code",
   "execution_count": null,
   "id": "0d0bbdfc",
   "metadata": {},
   "outputs": [
    {
     "data": {
      "text/plain": [
       "(1, 2, 3, 4, 5, 6)"
      ]
     },
     "execution_count": 141,
     "metadata": {},
     "output_type": "execute_result"
    }
   ],
   "source": [
    "# + operator\n",
    "(1, 2, 3) + (4, 5, 6)"
   ]
  },
  {
   "cell_type": "code",
   "execution_count": null,
   "id": "d3601e8d",
   "metadata": {},
   "outputs": [
    {
     "data": {
      "text/plain": [
       "(1, 2, 3, 4, 5, 6)"
      ]
     },
     "execution_count": 143,
     "metadata": {},
     "output_type": "execute_result"
    }
   ],
   "source": [
    "# sum()\n",
    "sum(((1, 2, 3), (4, 5, 6)), ())"
   ]
  },
  {
   "cell_type": "markdown",
   "id": "07c635fb",
   "metadata": {},
   "source": [
    "## Repetition"
   ]
  },
  {
   "cell_type": "code",
   "execution_count": null,
   "id": "06591b9f",
   "metadata": {},
   "outputs": [
    {
     "name": "stdout",
     "output_type": "stream",
     "text": [
      "(1, 2, 3, 4, 1, 2, 3, 4)\n"
     ]
    }
   ],
   "source": [
    "t = (1, 2, 3, 4)\n",
    "print(t * 2)"
   ]
  },
  {
   "cell_type": "markdown",
   "id": "7c388a91",
   "metadata": {},
   "source": [
    "## Membership Test"
   ]
  },
  {
   "cell_type": "code",
   "execution_count": null,
   "id": "ae263b9b",
   "metadata": {},
   "outputs": [
    {
     "name": "stdout",
     "output_type": "stream",
     "text": [
      "True\n",
      "False\n"
     ]
    }
   ],
   "source": [
    "t = (1, 2, 3, 4)\n",
    "print(4 in t)\n",
    "print(5 in t)"
   ]
  },
  {
   "cell_type": "markdown",
   "id": "d14e4284",
   "metadata": {},
   "source": [
    "## Useful Methods\n",
    "- Tuples don't have specific built-in methods but python does."
   ]
  },
  {
   "cell_type": "code",
   "execution_count": null,
   "id": "aa6ed495",
   "metadata": {},
   "outputs": [
    {
     "data": {
      "text/plain": [
       "3"
      ]
     },
     "execution_count": 125,
     "metadata": {},
     "output_type": "execute_result"
    }
   ],
   "source": [
    "t = (1, 1, 2, 1, 3)\n",
    "t.count(1)"
   ]
  },
  {
   "cell_type": "code",
   "execution_count": null,
   "id": "595fce5c",
   "metadata": {},
   "outputs": [
    {
     "data": {
      "text/plain": [
       "5"
      ]
     },
     "execution_count": 126,
     "metadata": {},
     "output_type": "execute_result"
    }
   ],
   "source": [
    "t = (1, 1, 2, 1, 3)\n",
    "len(t)"
   ]
  },
  {
   "cell_type": "code",
   "execution_count": null,
   "id": "c413d93f",
   "metadata": {},
   "outputs": [
    {
     "data": {
      "text/plain": [
       "1"
      ]
     },
     "execution_count": 130,
     "metadata": {},
     "output_type": "execute_result"
    }
   ],
   "source": [
    "t = (1, 1, 2, 1, 3)\n",
    "min(t)"
   ]
  },
  {
   "cell_type": "code",
   "execution_count": null,
   "id": "61b27861",
   "metadata": {},
   "outputs": [
    {
     "data": {
      "text/plain": [
       "3"
      ]
     },
     "execution_count": 129,
     "metadata": {},
     "output_type": "execute_result"
    }
   ],
   "source": [
    "t = (1, 1, 2, 1, 3)\n",
    "max(t)"
   ]
  },
  {
   "cell_type": "code",
   "execution_count": null,
   "id": "dbc60af4",
   "metadata": {},
   "outputs": [
    {
     "data": {
      "text/plain": [
       "2"
      ]
     },
     "execution_count": 137,
     "metadata": {},
     "output_type": "execute_result"
    }
   ],
   "source": [
    "t = (1, 1, 2, 1, 3)\n",
    "t.index(2)"
   ]
  },
  {
   "cell_type": "code",
   "execution_count": null,
   "id": "7b963d5d",
   "metadata": {},
   "outputs": [
    {
     "data": {
      "text/plain": [
       "(1, 2, 3)"
      ]
     },
     "execution_count": 136,
     "metadata": {},
     "output_type": "execute_result"
    }
   ],
   "source": [
    "# Convert to tuple\n",
    "lst = [1, 2, 3]\n",
    "tuple(lst)"
   ]
  },
  {
   "cell_type": "markdown",
   "id": "b8042ae8-e204-4d4e-8b5d-3638386e6b95",
   "metadata": {},
   "source": [
    "# Sets\n",
    "- Mutable Unordered Collection;\n",
    "- Doesn't have duplicate values;\n",
    "- No index attached to any element (doesn't support indexing or slicing operations)"
   ]
  },
  {
   "cell_type": "code",
   "execution_count": null,
   "id": "1143e545-8c11-4cae-b60b-80e0f2006920",
   "metadata": {},
   "outputs": [],
   "source": [
    "var = {1, 1, 1, 2, 3}  # Collection of unique elements"
   ]
  },
  {
   "cell_type": "code",
   "execution_count": null,
   "id": "3b2e79be",
   "metadata": {},
   "outputs": [
    {
     "data": {
      "text/plain": [
       "set()"
      ]
     },
     "execution_count": 1,
     "metadata": {},
     "output_type": "execute_result"
    }
   ],
   "source": [
    "set1 = set()  # Creates empty set\n",
    "set1"
   ]
  },
  {
   "cell_type": "code",
   "execution_count": null,
   "id": "003822e8-60e8-4917-a928-409837150c65",
   "metadata": {},
   "outputs": [
    {
     "data": {
      "text/plain": [
       "{1, 2, 3}"
      ]
     },
     "execution_count": 7,
     "metadata": {},
     "output_type": "execute_result"
    }
   ],
   "source": [
    "arr = [1, 2, 2, 3]\n",
    "coolset = set(arr)  # convert to set\n",
    "coolset"
   ]
  },
  {
   "cell_type": "markdown",
   "id": "ec8d3edb",
   "metadata": {},
   "source": [
    "## Membership Test"
   ]
  },
  {
   "cell_type": "code",
   "execution_count": null,
   "id": "90b1d532",
   "metadata": {},
   "outputs": [
    {
     "name": "stdout",
     "output_type": "stream",
     "text": [
      "True\n",
      "False\n",
      "False\n",
      "True\n"
     ]
    }
   ],
   "source": [
    "set1 = {1, 2, 3, 4}\n",
    "\n",
    "print(1 in set1)\n",
    "print(5 in set1)\n",
    "print(1 not in set1)\n",
    "print(5 not in set1)"
   ]
  },
  {
   "cell_type": "markdown",
   "id": "d07d603a",
   "metadata": {},
   "source": [
    "## Accessing elements\n",
    "- You cannot access thru index. You can only access all elements."
   ]
  },
  {
   "cell_type": "code",
   "execution_count": null,
   "id": "71a4a56e",
   "metadata": {},
   "outputs": [],
   "source": [
    "var = {1, 1, 1, 2, 3}\n",
    "print(var)"
   ]
  },
  {
   "cell_type": "code",
   "execution_count": null,
   "id": "9443f171",
   "metadata": {},
   "outputs": [
    {
     "name": "stdout",
     "output_type": "stream",
     "text": [
      "0\n",
      "2\n",
      "4\n",
      "6\n",
      "8\n"
     ]
    }
   ],
   "source": [
    "# you can't access items in a set via the index, but you can always loop in the set:\n",
    "a = {0, 2, 4, 6, 8}\n",
    "for i in a:\n",
    "    print(i)"
   ]
  },
  {
   "cell_type": "markdown",
   "id": "69c75fa2",
   "metadata": {},
   "source": [
    "## Adding and updating elements"
   ]
  },
  {
   "cell_type": "code",
   "execution_count": null,
   "id": "1a88b7b6-e77e-4d99-9439-55cf00f8cb6f",
   "metadata": {},
   "outputs": [
    {
     "data": {
      "text/plain": [
       "{1, 2, 3, 4}"
      ]
     },
     "execution_count": 64,
     "metadata": {},
     "output_type": "execute_result"
    }
   ],
   "source": [
    "var.add(4)  # Add single element\n",
    "var"
   ]
  },
  {
   "cell_type": "code",
   "execution_count": null,
   "id": "80c2de01",
   "metadata": {},
   "outputs": [
    {
     "data": {
      "text/plain": [
       "{1, 2, 3, 5, 6, 7}"
      ]
     },
     "execution_count": 22,
     "metadata": {},
     "output_type": "execute_result"
    }
   ],
   "source": [
    "coolset.update(\n",
    "    [5, 6, 7]\n",
    ")  # Add multiple elements to set. Accepts tuples, lists, strings or other sets.\n",
    "# coolset.add([4,5,6]) # If you use 'add' it'll just add a list\n",
    "coolset"
   ]
  },
  {
   "cell_type": "markdown",
   "id": "6f7f8e23",
   "metadata": {},
   "source": [
    "## Removing Elements"
   ]
  },
  {
   "cell_type": "code",
   "execution_count": null,
   "id": "3d743892",
   "metadata": {},
   "outputs": [
    {
     "data": {
      "text/plain": [
       "{0, 4, 8}"
      ]
     },
     "execution_count": 10,
     "metadata": {},
     "output_type": "execute_result"
    }
   ],
   "source": [
    "# To remove elements, use discard and remove\n",
    "# Discard doesn't throw errors if item is not available\n",
    "# Remove throws errors if item is not available\n",
    "\n",
    "a = {0, 2, 4, 6, 8}\n",
    "a.discard(2)\n",
    "a.remove(6)\n",
    "a"
   ]
  },
  {
   "cell_type": "code",
   "execution_count": null,
   "id": "d3a5d2f4",
   "metadata": {},
   "outputs": [
    {
     "name": "stdout",
     "output_type": "stream",
     "text": [
      "The output is: {2, 5, 7, 9}\n"
     ]
    }
   ],
   "source": [
    "x = {7, 8, 9, 4, 5, 6}\n",
    "\n",
    "y = {2, 4, 6, 8}\n",
    "\n",
    "print(\"The output is:\", x.symmetric_difference(y))"
   ]
  },
  {
   "cell_type": "markdown",
   "id": "86347444",
   "metadata": {},
   "source": [
    "## Useful Set Methods\n",
    "- ``a.union(b)``: returns all elements presents in both sets in a new set;\n",
    "- ``a.intersection(b)``: returns common elements in both sets;\n",
    "- ``a.difference(b)``: shows difference of two or more sets as a new set;\n",
    "- ``a.symmetric_difference(b)``: returns elements present in either x or y but not in both;\n",
    "- ``a.intersection_update(b)``: updates the elements in a set with the intersection of set itself;\n",
    "- ``a.difference_update(b)``: removes all elements of other set from the current set;\n",
    "- ``a = b.copy()``: copies all the elements in a new set;\n",
    "- ``a.isdisjoint(b)``: returns true if two sets have no common elements;\n",
    "- ``a.issubset(b)``: returns true if all elements of a set are present in another set;\n",
    "- ``a.issuperset(b)``: returns true if all elements of a set occupies another set;\n",
    "- ``a.pop()``: removes elements in a set and returns some random elements from the set;\n",
    "- ``a.clear()``: removes all elements in a set."
   ]
  },
  {
   "cell_type": "markdown",
   "id": "827c9150",
   "metadata": {},
   "source": [
    "## Useful Built-in Python methods usable in sets\n",
    "- ``x = len(a)``;\n",
    "- ``x = max(a)``;\n",
    "- ``x = min(a)``;\n",
    "- ``a = sorted(b)``;\n",
    "- ``x = sum(a)``;\n",
    "- ``x = any(a)``: returns true if any has boolean value of true;\n",
    "- ``x = all(a)``: returns true if every element has boolean value of true;"
   ]
  },
  {
   "cell_type": "markdown",
   "id": "77b9bf87",
   "metadata": {},
   "source": [
    "## Frozen Sets\n",
    "- Immutable version of a python set object: Doesnt support any operation of adding, removing or updating the internal elements.\n",
    "- But they do support operations that don't modify their elements like ``intersection``.\n",
    "- Useful as keys in dictionary or elements of another sets."
   ]
  },
  {
   "cell_type": "code",
   "execution_count": null,
   "id": "3fcef1ff",
   "metadata": {},
   "outputs": [
    {
     "name": "stdout",
     "output_type": "stream",
     "text": [
      "frozenset({1, 2, 3})\n",
      "frozenset({1, 2, 3})\n"
     ]
    }
   ],
   "source": [
    "tuple_x = (1, 2, 3)\n",
    "list_x = [4, 5, 6]\n",
    "frozen_tuple = frozenset(tuple_x)\n",
    "frozen_list = frozenset(list_x)\n",
    "\n",
    "print(frozen_tuple)\n",
    "print(frozen_list)"
   ]
  },
  {
   "cell_type": "markdown",
   "id": "4428d8ba",
   "metadata": {},
   "source": [
    "## Set Comprehension"
   ]
  },
  {
   "cell_type": "code",
   "execution_count": 4,
   "id": "a9129993",
   "metadata": {},
   "outputs": [
    {
     "data": {
      "text/plain": [
       "{2, 6, 18, 26, 34}"
      ]
     },
     "execution_count": 4,
     "metadata": {},
     "output_type": "execute_result"
    }
   ],
   "source": [
    "myinput = [1, 8, 3, 14, 13, 17, 6, 8, 9]\n",
    "\n",
    "output = {x * 2 for x in myinput if (x % 2 == 1)}\n",
    "\n",
    "output"
   ]
  },
  {
   "cell_type": "markdown",
   "id": "e3e0584a",
   "metadata": {},
   "source": []
  },
  {
   "cell_type": "code",
   "execution_count": null,
   "id": "dc062fba",
   "metadata": {},
   "outputs": [],
   "source": []
  },
  {
   "cell_type": "code",
   "execution_count": null,
   "id": "4555880e",
   "metadata": {},
   "outputs": [],
   "source": []
  },
  {
   "cell_type": "code",
   "execution_count": null,
   "id": "7fa8cefd",
   "metadata": {},
   "outputs": [],
   "source": []
  },
  {
   "cell_type": "markdown",
   "id": "ef0b0ee5-5379-47d3-a4f5-e8cfe5b7f5f9",
   "metadata": {},
   "source": [
    "# Comparison operators"
   ]
  },
  {
   "cell_type": "code",
   "execution_count": 66,
   "id": "3ed76f15-4863-4e4b-aafb-2a9c76130c9c",
   "metadata": {},
   "outputs": [
    {
     "data": {
      "text/plain": [
       "False"
      ]
     },
     "execution_count": 66,
     "metadata": {},
     "output_type": "execute_result"
    }
   ],
   "source": [
    "1 > 2"
   ]
  },
  {
   "cell_type": "code",
   "execution_count": 67,
   "id": "64371955-9099-4142-a907-905ab48f7b2b",
   "metadata": {},
   "outputs": [
    {
     "data": {
      "text/plain": [
       "True"
      ]
     },
     "execution_count": 67,
     "metadata": {},
     "output_type": "execute_result"
    }
   ],
   "source": [
    "3 >= 3"
   ]
  },
  {
   "cell_type": "code",
   "execution_count": 68,
   "id": "6b800d8a-a463-429a-bb47-3bd1d61e4f05",
   "metadata": {},
   "outputs": [
    {
     "data": {
      "text/plain": [
       "False"
      ]
     },
     "execution_count": 68,
     "metadata": {},
     "output_type": "execute_result"
    }
   ],
   "source": [
    "2 == 4"
   ]
  },
  {
   "cell_type": "code",
   "execution_count": 69,
   "id": "5275f26e-c411-441c-8ff4-589675bf5929",
   "metadata": {},
   "outputs": [
    {
     "data": {
      "text/plain": [
       "True"
      ]
     },
     "execution_count": 69,
     "metadata": {},
     "output_type": "execute_result"
    }
   ],
   "source": [
    "1 != 2"
   ]
  },
  {
   "cell_type": "code",
   "execution_count": null,
   "id": "f34ff044-2a9a-4250-86e8-33ae3712f195",
   "metadata": {},
   "outputs": [
    {
     "data": {
      "text/plain": [
       "True"
      ]
     },
     "execution_count": 70,
     "metadata": {},
     "output_type": "execute_result"
    }
   ],
   "source": [
    "\"hi\" == \"hi\"  # strings are objects, equality compares content"
   ]
  },
  {
   "cell_type": "code",
   "execution_count": null,
   "id": "b8a24b63-92ec-4f75-b991-f235946bcda8",
   "metadata": {},
   "outputs": [
    {
     "data": {
      "text/plain": [
       "True"
      ]
     },
     "execution_count": 71,
     "metadata": {},
     "output_type": "execute_result"
    }
   ],
   "source": [
    "1 < 2 and 3 > 4 or 1 == 1  # order of operations: and comes first"
   ]
  },
  {
   "cell_type": "markdown",
   "id": "b5ac0425-d3e8-41ac-9bd4-c1ddc130ab5b",
   "metadata": {},
   "source": [
    "# Conditional statements"
   ]
  },
  {
   "cell_type": "code",
   "execution_count": null,
   "id": "e241d7c6-529f-48ba-81d2-bada9d636d8a",
   "metadata": {},
   "outputs": [
    {
     "name": "stdout",
     "output_type": "stream",
     "text": [
      "hell yeah\n"
     ]
    }
   ],
   "source": [
    "if False:\n",
    "    print(\"yep\")  # blocks are defined by indentation\n",
    "elif True:\n",
    "    print(\"hell yeah\")\n",
    "elif True:\n",
    "    print(\"hell yeahhhhh\")  # only executes first true function\n",
    "else:\n",
    "    print(\"nah\")"
   ]
  },
  {
   "cell_type": "markdown",
   "id": "9d6d9d70-e1cb-41d7-becc-b616eee73862",
   "metadata": {},
   "source": [
    "# Loops"
   ]
  },
  {
   "cell_type": "markdown",
   "id": "c95d7623",
   "metadata": {},
   "source": [
    "## While Loop"
   ]
  },
  {
   "cell_type": "code",
   "execution_count": null,
   "id": "2c19a23c-52c0-4d4a-b915-e198836478a9",
   "metadata": {},
   "outputs": [
    {
     "name": "stdout",
     "output_type": "stream",
     "text": [
      "i is 1\n",
      "i is 2\n",
      "i is 3\n",
      "i is 4\n",
      "nuh uh\n"
     ]
    }
   ],
   "source": [
    "i = 1\n",
    "\n",
    "while i < 5:\n",
    "    print(\"i is {}\".format(i))\n",
    "    i += 1\n",
    "else:\n",
    "    print(\"nuh uh\")  # executes when condition isn't met"
   ]
  },
  {
   "cell_type": "markdown",
   "id": "bc1802b8",
   "metadata": {},
   "source": [
    "## For Loop"
   ]
  },
  {
   "cell_type": "code",
   "execution_count": null,
   "id": "64e581e2-e921-459d-8141-08eae7a5dffc",
   "metadata": {},
   "outputs": [
    {
     "name": "stdout",
     "output_type": "stream",
     "text": [
      "1\n",
      "2\n",
      "3\n",
      "4\n",
      "5\n"
     ]
    }
   ],
   "source": [
    "seq = [1, 2, 3, 4, 5]\n",
    "\n",
    "for item in seq:\n",
    "    print(item)"
   ]
  },
  {
   "cell_type": "code",
   "execution_count": null,
   "id": "3a768ae7-3a0d-480d-bef3-6d47d53eb55b",
   "metadata": {},
   "outputs": [
    {
     "name": "stdout",
     "output_type": "stream",
     "text": [
      "0\n",
      "1\n",
      "2\n",
      "3\n",
      "4\n"
     ]
    }
   ],
   "source": [
    "for x in range(\n",
    "    5\n",
    "):  # range: generator of numerical values. quick way to execute something some ammount of times\n",
    "    print(x)"
   ]
  },
  {
   "cell_type": "code",
   "execution_count": null,
   "id": "12cccc90",
   "metadata": {},
   "outputs": [
    {
     "name": "stdout",
     "output_type": "stream",
     "text": [
      "1\n",
      "3\n",
      "5\n",
      "7\n",
      "9\n"
     ]
    }
   ],
   "source": [
    "for x in range(1, 10, 2):  # having more steps in range\n",
    "    print(x)"
   ]
  },
  {
   "cell_type": "code",
   "execution_count": null,
   "id": "bbbff257",
   "metadata": {},
   "outputs": [
    {
     "name": "stdout",
     "output_type": "stream",
     "text": [
      "0\n",
      "1\n",
      "2\n",
      "3\n",
      "4\n",
      "finished\n"
     ]
    }
   ],
   "source": [
    "for x in range(5):  # else statement executes after loop ends\n",
    "    print(x)\n",
    "else:\n",
    "    print(\"finished\")"
   ]
  },
  {
   "cell_type": "markdown",
   "id": "b1faba5c",
   "metadata": {},
   "source": [
    "## Break, Continue, Pass"
   ]
  },
  {
   "cell_type": "markdown",
   "id": "2051ddf5",
   "metadata": {},
   "source": [
    "Used for Loop Control."
   ]
  },
  {
   "cell_type": "code",
   "execution_count": null,
   "id": "64072a48",
   "metadata": {},
   "outputs": [
    {
     "name": "stdout",
     "output_type": "stream",
     "text": [
      "P\n",
      "y\n",
      "t\n",
      "h\n"
     ]
    }
   ],
   "source": [
    "for char in \"Python\":\n",
    "    if char == \"o\":\n",
    "        break\n",
    "    print(char)"
   ]
  },
  {
   "cell_type": "code",
   "execution_count": null,
   "id": "271d16ba",
   "metadata": {},
   "outputs": [
    {
     "name": "stdout",
     "output_type": "stream",
     "text": [
      "P\n",
      "y\n",
      "t\n",
      "h\n",
      "n\n"
     ]
    }
   ],
   "source": [
    "for char in \"Python\":\n",
    "    if char == \"o\":\n",
    "        continue\n",
    "    print(char)"
   ]
  },
  {
   "cell_type": "code",
   "execution_count": null,
   "id": "f800aa1f",
   "metadata": {},
   "outputs": [
    {
     "name": "stdout",
     "output_type": "stream",
     "text": [
      "n\n"
     ]
    }
   ],
   "source": [
    "for char in \"Python\":\n",
    "    pass  # null statement that acts as a placeholder. Interpreter performs a no-op.\n",
    "\n",
    "print(char)"
   ]
  },
  {
   "cell_type": "code",
   "execution_count": null,
   "id": "7186f49c",
   "metadata": {},
   "outputs": [
    {
     "name": "stdout",
     "output_type": "stream",
     "text": [
      "2, 1, 0, -1, -2, -3, -4, -5, -6, "
     ]
    }
   ],
   "source": [
    "for num in range(2, -7, -1):\n",
    "    print(num, end=\", \")"
   ]
  },
  {
   "cell_type": "markdown",
   "id": "d8534c9e-e13a-444e-a697-e5a359c77031",
   "metadata": {},
   "source": [
    "# Functions"
   ]
  },
  {
   "cell_type": "code",
   "execution_count": null,
   "id": "b8b9d779-751f-4a6f-b0be-f6c3c787a746",
   "metadata": {},
   "outputs": [
    {
     "name": "stdout",
     "output_type": "stream",
     "text": [
      "Hello Jose\n"
     ]
    }
   ],
   "source": [
    "def my_func(name):  # start with lowercase letters\n",
    "    print(\"Hello \" + name)\n",
    "\n",
    "\n",
    "my_func(\"Jose\")"
   ]
  },
  {
   "cell_type": "code",
   "execution_count": null,
   "id": "decd3dab-fa1d-45c8-a6b3-f45e969e98e0",
   "metadata": {},
   "outputs": [
    {
     "name": "stdout",
     "output_type": "stream",
     "text": [
      "Hello Default name\n"
     ]
    }
   ],
   "source": [
    "def my_func_default(name=\"Default name\"):\n",
    "    print(\"Hello \" + name)\n",
    "\n",
    "\n",
    "my_func_default()"
   ]
  },
  {
   "cell_type": "code",
   "execution_count": null,
   "id": "dc526cca-df81-4202-b5bf-60e78b3a004e",
   "metadata": {},
   "outputs": [
    {
     "data": {
      "text/plain": [
       "<function __main__.my_func_default(name='Default name')>"
      ]
     },
     "execution_count": 84,
     "metadata": {},
     "output_type": "execute_result"
    }
   ],
   "source": [
    "my_func_default  # doesnt execute function, just a default output"
   ]
  },
  {
   "cell_type": "code",
   "execution_count": null,
   "id": "4819ec31-8d2c-42bd-8259-13d7cc8f03eb",
   "metadata": {},
   "outputs": [
    {
     "name": "stdout",
     "output_type": "stream",
     "text": [
      "4\n"
     ]
    }
   ],
   "source": [
    "def square(num):\n",
    "    \"\"\"\n",
    "    This is a documentation string!\n",
    "    can go multiple lines :D\n",
    "    \"\"\"\n",
    "    return num**2\n",
    "\n",
    "\n",
    "print(square(2))"
   ]
  },
  {
   "cell_type": "markdown",
   "id": "122cefda",
   "metadata": {},
   "source": [
    "## Passing as Reference"
   ]
  },
  {
   "cell_type": "markdown",
   "id": "5f2e3d48",
   "metadata": {},
   "source": [
    "- All types in python are passed as reference. But some are not mutable, like numbers or strings, so we cannot change their content;\n",
    "- [Cool Explanation](https://stackoverflow.com/questions/986006/how-do-i-pass-a-variable-by-reference)."
   ]
  },
  {
   "cell_type": "code",
   "execution_count": null,
   "id": "ac68485c",
   "metadata": {},
   "outputs": [
    {
     "name": "stdout",
     "output_type": "stream",
     "text": [
      "3\n"
     ]
    }
   ],
   "source": [
    "# Cannot change the content of a number inside of a function.\n",
    "\n",
    "\n",
    "def modifynum(num):\n",
    "    num = num * 2\n",
    "\n",
    "\n",
    "num1 = 3\n",
    "modifynum(num1)\n",
    "print(num1)"
   ]
  },
  {
   "cell_type": "code",
   "execution_count": null,
   "id": "c81aae4a",
   "metadata": {},
   "outputs": [
    {
     "name": "stdout",
     "output_type": "stream",
     "text": [
      "[10, 20, 30]\n"
     ]
    }
   ],
   "source": [
    "# We can change lists tho!\n",
    "\n",
    "\n",
    "def modifylist(list):\n",
    "    list.append(30)\n",
    "\n",
    "\n",
    "list1 = [10, 20]\n",
    "modifylist(list1)\n",
    "print(list1)"
   ]
  },
  {
   "cell_type": "code",
   "execution_count": null,
   "id": "52fc5d60-f829-4a99-9fb3-5add7765fdae",
   "metadata": {},
   "outputs": [
    {
     "data": {
      "text/plain": [
       "<function __main__.square(num)>"
      ]
     },
     "execution_count": 86,
     "metadata": {},
     "output_type": "execute_result"
    }
   ],
   "source": [
    "square  # Press shift-tab in jupyter notebook to bring up the documentation string"
   ]
  },
  {
   "cell_type": "markdown",
   "id": "55feeaae",
   "metadata": {},
   "source": [
    "## Arguments"
   ]
  },
  {
   "cell_type": "code",
   "execution_count": null,
   "id": "7fff10e3",
   "metadata": {},
   "outputs": [
    {
     "name": "stdout",
     "output_type": "stream",
     "text": [
      "10 7\n",
      "1 2\n"
     ]
    }
   ],
   "source": [
    "# Default Arguments\n",
    "def f1(a, b=7):\n",
    "    print(a, b)\n",
    "\n",
    "\n",
    "f1(10)\n",
    "f1(1, 2)"
   ]
  },
  {
   "cell_type": "code",
   "execution_count": null,
   "id": "0b345d78",
   "metadata": {},
   "outputs": [
    {
     "name": "stdout",
     "output_type": "stream",
     "text": [
      "4 3\n",
      "4 3\n"
     ]
    }
   ],
   "source": [
    "# Named Arguments: You can change the order of passing arguments, values are assigned based on name.\n",
    "def f1(a, b):\n",
    "    print(a, b)\n",
    "\n",
    "\n",
    "f1(a=4, b=3)\n",
    "f1(b=3, a=4)"
   ]
  },
  {
   "cell_type": "code",
   "execution_count": null,
   "id": "45b0910d",
   "metadata": {},
   "outputs": [
    {
     "name": "stdout",
     "output_type": "stream",
     "text": [
      "{'firstname': 'bebe', 'lastname': 'awa'}\n"
     ]
    }
   ],
   "source": [
    "# Arbitrary keyword: variable number of keyword arguments\n",
    "# Argument stored in dictionary format\n",
    "\n",
    "\n",
    "def func(**var):\n",
    "    print(var)\n",
    "\n",
    "\n",
    "func(firstname=\"bebe\", lastname=\"awa\")"
   ]
  },
  {
   "cell_type": "code",
   "execution_count": null,
   "id": "4511fa9f",
   "metadata": {},
   "outputs": [
    {
     "data": {
      "text/plain": [
       "'b'"
      ]
     },
     "execution_count": 65,
     "metadata": {},
     "output_type": "execute_result"
    }
   ],
   "source": [
    "# Required Arguments: If not passed, will throw an error. Values are assigned based on position.\n",
    "\n",
    "\n",
    "def func(a, b):\n",
    "    if a > b:\n",
    "        return a\n",
    "    return b\n",
    "\n",
    "\n",
    "func(\"a\", \"b\")"
   ]
  },
  {
   "cell_type": "code",
   "execution_count": null,
   "id": "292d8380",
   "metadata": {},
   "outputs": [
    {
     "name": "stdout",
     "output_type": "stream",
     "text": [
      "a\n",
      "b\n",
      "c\n"
     ]
    }
   ],
   "source": [
    "# Variable-length Arguments: Number of arguments is more than the defined function arguments\n",
    "\n",
    "\n",
    "def func(a, *b):\n",
    "    print(a)\n",
    "\n",
    "    for i in b:\n",
    "        print(i)\n",
    "\n",
    "\n",
    "func(\"a\", \"b\", \"c\")"
   ]
  },
  {
   "cell_type": "markdown",
   "id": "b453e8de",
   "metadata": {},
   "source": [
    "## Scope\n",
    "\n",
    "- Scope: portion of the program where a variable is recognized\n",
    "- Local: access within the method or block (function variables are local)\n",
    "- Global: defined outside of functions or blocks, accessed throughout the lifetime of the program\n",
    "- Lifetime: period in which the variable exists in-memory"
   ]
  },
  {
   "cell_type": "code",
   "execution_count": null,
   "id": "50e86eae",
   "metadata": {},
   "outputs": [
    {
     "name": "stdout",
     "output_type": "stream",
     "text": [
      "inside func 10\n",
      "outside func 20\n"
     ]
    }
   ],
   "source": [
    "def f1():\n",
    "    x = 10\n",
    "    print(\"inside func\", x)\n",
    "\n",
    "\n",
    "x = 20\n",
    "f1()\n",
    "print(\"outside func\", x)"
   ]
  },
  {
   "cell_type": "markdown",
   "id": "f6166e66-43aa-4d71-935c-7c58521fc783",
   "metadata": {},
   "source": [
    "# Lambda Expressions / Functions\n",
    "\n",
    "- Anonymous functions, defined using the lambda.\n",
    "- Cannot contain multiple expressions, return only one value."
   ]
  },
  {
   "cell_type": "code",
   "execution_count": null,
   "id": "985fed7e",
   "metadata": {},
   "outputs": [
    {
     "data": {
      "text/plain": [
       "3"
      ]
     },
     "execution_count": 72,
     "metadata": {},
     "output_type": "execute_result"
    }
   ],
   "source": [
    "def add(a, b):\n",
    "    return a + b\n",
    "\n",
    "\n",
    "add(1, 2)"
   ]
  },
  {
   "cell_type": "code",
   "execution_count": null,
   "id": "10dcf225",
   "metadata": {},
   "outputs": [
    {
     "data": {
      "text/plain": [
       "3"
      ]
     },
     "execution_count": 71,
     "metadata": {},
     "output_type": "execute_result"
    }
   ],
   "source": [
    "add = lambda a, b: a + b\n",
    "add(1, 2)"
   ]
  },
  {
   "cell_type": "markdown",
   "id": "9adc1ffc-d2c6-4261-9e3f-449d8bdcf703",
   "metadata": {},
   "source": [
    "## Lambda with Map"
   ]
  },
  {
   "cell_type": "code",
   "execution_count": null,
   "id": "f76692ad",
   "metadata": {},
   "outputs": [
    {
     "data": {
      "text/plain": [
       "[24, 21, 3, 6, 27, 21]"
      ]
     },
     "execution_count": 76,
     "metadata": {},
     "output_type": "execute_result"
    }
   ],
   "source": [
    "# map() is used to apply a given function to every item of an iterable,\n",
    "# such as a list or tuple, and returns a map object (which is an iterator).\n",
    "\n",
    "list1 = [8, 7, 1, 2, 9, 7]\n",
    "list2 = list(map(lambda a: a * 3, list1))\n",
    "list2"
   ]
  },
  {
   "cell_type": "code",
   "execution_count": null,
   "id": "88cda8ec-07ab-4372-8b65-48fcac63d533",
   "metadata": {},
   "outputs": [
    {
     "data": {
      "text/plain": [
       "<map at 0x1b66f63ab60>"
      ]
     },
     "execution_count": 77,
     "metadata": {},
     "output_type": "execute_result"
    }
   ],
   "source": [
    "def times2(var):\n",
    "    return var * 2\n",
    "\n",
    "\n",
    "seq = [1, 2, 3, 4, 5]\n",
    "\n",
    "map(times2, seq)"
   ]
  },
  {
   "cell_type": "code",
   "execution_count": 78,
   "id": "a1204c14-7165-432e-9c0c-8b0301d88fd3",
   "metadata": {},
   "outputs": [
    {
     "data": {
      "text/plain": [
       "[2, 4, 6, 8, 10]"
      ]
     },
     "execution_count": 78,
     "metadata": {},
     "output_type": "execute_result"
    }
   ],
   "source": [
    "# To execute the map and cast the result as a list:\n",
    "list(map(times2, seq))"
   ]
  },
  {
   "cell_type": "code",
   "execution_count": null,
   "id": "f987ae65-50f3-40b2-9bb3-46296e1a8775",
   "metadata": {},
   "outputs": [
    {
     "data": {
      "text/plain": [
       "9"
      ]
     },
     "execution_count": 89,
     "metadata": {},
     "output_type": "execute_result"
    }
   ],
   "source": [
    "# Use lambda expressions (anonymous functions) to make it slicker\n",
    "t = lambda var: var * 3\n",
    "t(3)"
   ]
  },
  {
   "cell_type": "code",
   "execution_count": null,
   "id": "0fc24948-1fc9-4d8c-a6fe-78af4fe6dbf5",
   "metadata": {},
   "outputs": [
    {
     "data": {
      "text/plain": [
       "[3, 6, 9, 12, 15]"
      ]
     },
     "execution_count": 90,
     "metadata": {},
     "output_type": "execute_result"
    }
   ],
   "source": [
    "# we dont normally assign it to anything, we just use it directly:\n",
    "list(map(lambda num: num * 3, seq))"
   ]
  },
  {
   "cell_type": "markdown",
   "id": "d84100d4-eadf-4da4-b39e-16a888438155",
   "metadata": {},
   "source": [
    "## Lambda with Filter"
   ]
  },
  {
   "cell_type": "code",
   "execution_count": null,
   "id": "b33c938a",
   "metadata": {},
   "outputs": [
    {
     "data": {
      "text/plain": [
       "[0, 2, 8, 34]"
      ]
     },
     "execution_count": 79,
     "metadata": {},
     "output_type": "execute_result"
    }
   ],
   "source": [
    "# Filter returns iterator where items are filtered through a function\n",
    "\n",
    "fibonacci = [0, 1, 1, 2, 3, 5, 8, 13, 21, 34]\n",
    "even = list(filter(lambda x: x % 2 == 0, fibonacci))\n",
    "even"
   ]
  },
  {
   "cell_type": "code",
   "execution_count": null,
   "id": "3d1d8ee5-6243-4701-bd99-6ac33a81268c",
   "metadata": {},
   "outputs": [
    {
     "data": {
      "text/plain": [
       "[1, 2, 4, 5, 7, 8]"
      ]
     },
     "execution_count": 91,
     "metadata": {},
     "output_type": "execute_result"
    }
   ],
   "source": [
    "seq = [1, 2, 3, 4, 5, 6, 7, 8, 9]\n",
    "list(filter(lambda num: num % 3, seq))  # 0 evaluated as false"
   ]
  },
  {
   "cell_type": "markdown",
   "id": "0814827b",
   "metadata": {},
   "source": [
    "## Lambda with Reduce"
   ]
  },
  {
   "cell_type": "code",
   "execution_count": null,
   "id": "a57f4648",
   "metadata": {},
   "outputs": [
    {
     "data": {
      "text/plain": [
       "197"
      ]
     },
     "execution_count": 80,
     "metadata": {},
     "output_type": "execute_result"
    }
   ],
   "source": [
    "# Reduce applies a particular function to all list elements\n",
    "\n",
    "import functools\n",
    "\n",
    "functools.reduce(lambda x, y: x + y, [26, 71, 67, 33])"
   ]
  },
  {
   "cell_type": "markdown",
   "id": "e57df7ed-e415-4efa-b7a5-8b8e111f958f",
   "metadata": {},
   "source": [
    "# Other stuff"
   ]
  },
  {
   "cell_type": "markdown",
   "id": "288b4a7b",
   "metadata": {},
   "source": [
    "## Decorators\n",
    "- Function that takes a function as argument, and returns a function;\n",
    "- Called before the definition of a function;"
   ]
  },
  {
   "cell_type": "code",
   "execution_count": null,
   "id": "27edffea",
   "metadata": {},
   "outputs": [
    {
     "name": "stdout",
     "output_type": "stream",
     "text": [
      "hello welcome to \n",
      "ohio!\n"
     ]
    }
   ],
   "source": [
    "def outer(func):\n",
    "    def inner():\n",
    "        print(\"hello welcome to \")\n",
    "        func()\n",
    "\n",
    "    return inner\n",
    "\n",
    "\n",
    "@outer\n",
    "def name():\n",
    "    print(\"ohio!\")\n",
    "\n",
    "\n",
    "name()"
   ]
  },
  {
   "cell_type": "markdown",
   "id": "cf41e5b3",
   "metadata": {},
   "source": [
    "## Closure\n",
    "- Inner function is enclosed within the outer function;\n",
    "- Can access variable present in the outer function scope."
   ]
  },
  {
   "cell_type": "code",
   "execution_count": null,
   "id": "3a115b96",
   "metadata": {},
   "outputs": [
    {
     "name": "stdout",
     "output_type": "stream",
     "text": [
      "heyo!\n"
     ]
    }
   ],
   "source": [
    "def outer(text):\n",
    "    def inner():\n",
    "        print(text)  # Can access the variable text\n",
    "\n",
    "    inner()\n",
    "\n",
    "\n",
    "outer(\"heyo!\")"
   ]
  },
  {
   "cell_type": "markdown",
   "id": "d9df5d48",
   "metadata": {},
   "source": [
    "## Generators\n",
    "- Returns a traversal object;\n",
    "- Traverse all the items at once!\n",
    "- Also used to create iterators;\n",
    "- Syntax is similar to list comprehension;\n",
    "- Requires at least one 'yield' object."
   ]
  },
  {
   "cell_type": "code",
   "execution_count": null,
   "id": "2df5d89f",
   "metadata": {},
   "outputs": [
    {
     "data": {
      "text/plain": [
       "<generator object my_generator at 0x000001B66F2B6B00>"
      ]
     },
     "execution_count": 87,
     "metadata": {},
     "output_type": "execute_result"
    }
   ],
   "source": [
    "def my_generator(n):\n",
    "    yield n\n",
    "\n",
    "\n",
    "my_generator(4)"
   ]
  },
  {
   "cell_type": "code",
   "execution_count": null,
   "id": "9b7c5c11",
   "metadata": {},
   "outputs": [
    {
     "name": "stdout",
     "output_type": "stream",
     "text": [
      "4\n"
     ]
    }
   ],
   "source": [
    "def my_generator(n):\n",
    "    yield n\n",
    "\n",
    "\n",
    "for i in my_generator(4):\n",
    "    print(i)"
   ]
  },
  {
   "cell_type": "code",
   "execution_count": null,
   "id": "5374934e",
   "metadata": {},
   "outputs": [
    {
     "name": "stdout",
     "output_type": "stream",
     "text": [
      "1\n",
      "9\n",
      "25\n",
      "49\n",
      "81\n"
     ]
    }
   ],
   "source": [
    "def my_generator(n):\n",
    "    for i in range(1, n, 2):  # Creates an iterator with range\n",
    "        yield i**2\n",
    "\n",
    "\n",
    "for i in my_generator(10):\n",
    "    print(i)"
   ]
  },
  {
   "cell_type": "markdown",
   "id": "ebeb037f",
   "metadata": {},
   "source": []
  },
  {
   "cell_type": "markdown",
   "id": "ecb447b5",
   "metadata": {},
   "source": [
    "## Iterators\n",
    "- Iterate over iterable objects by returning one object at a time;\n",
    "- Initialized with iter()\n",
    "- Used next() for iteration\n"
   ]
  },
  {
   "cell_type": "code",
   "execution_count": null,
   "id": "3dd19406",
   "metadata": {},
   "outputs": [
    {
     "name": "stdout",
     "output_type": "stream",
     "text": [
      "a\n",
      "b\n",
      "c\n"
     ]
    }
   ],
   "source": [
    "myvalue = (\"a\", \"b\", \"c\")\n",
    "myiter = iter(myvalue)\n",
    "\n",
    "print(next(myiter))\n",
    "print(next(myiter))\n",
    "print(next(myiter))"
   ]
  },
  {
   "cell_type": "markdown",
   "id": "0e2d681b",
   "metadata": {},
   "source": [
    "### Generators X Iterators\n",
    "\n",
    "| Generator | Iterator |\n",
    "|-----------|----------|\n",
    "| Implemented using function | Implemented using class|\n",
    "| Uses yield keyword | uses iter and next functions |\n",
    "| Used in loops to generate iterator by returning all values in loop | Iterator or convert other objects into iterators |\n",
    "| All the local variables vefore yield function are stored | Local variables not used |\n",
    "| Every generator is a iterator | Not every iterator is a generator |\n",
    "| Less memory-efficient | More memory-efficient |"
   ]
  },
  {
   "cell_type": "markdown",
   "id": "db82dc6a-008c-4934-a8af-4a42290f3054",
   "metadata": {},
   "source": [
    "## Operators"
   ]
  },
  {
   "cell_type": "markdown",
   "id": "99d06b3b",
   "metadata": {},
   "source": []
  },
  {
   "cell_type": "code",
   "execution_count": null,
   "id": "bcf4829b-9c0a-457d-b6a9-ddb4c57aed27",
   "metadata": {},
   "outputs": [
    {
     "data": {
      "text/plain": [
       "True"
      ]
     },
     "execution_count": 93,
     "metadata": {},
     "output_type": "execute_result"
    }
   ],
   "source": [
    "\"x\" in [\"x\", \"y\", \"z\"]"
   ]
  },
  {
   "cell_type": "markdown",
   "id": "eb700e56-62ae-463d-8cc6-869002a3f325",
   "metadata": {},
   "source": [
    "# Modules and Packages\n",
    "\n",
    "## Modules\n",
    "- File containing python definitions and statements;\n",
    "- ``.py`` suffix;\n",
    "- Useful for breaking down code into small and organized files, and sharing reusable functions."
   ]
  },
  {
   "cell_type": "code",
   "execution_count": null,
   "id": "ec221b75",
   "metadata": {},
   "outputs": [],
   "source": [
    "# First file: addition.py\n",
    "def add(x, y):\n",
    "    return x + y\n",
    "\n",
    "\n",
    "# second file (same folder)\n",
    "import addition\n",
    "\n",
    "print(addition.add(10, 20))  # access functions inside module\n",
    "\n",
    "# you can also import functions directly\n",
    "from addition import add\n",
    "\n",
    "print(add(30, 40))\n",
    "\n",
    "# or import everything\n",
    "from addition import *\n",
    "\n",
    "print(add(30, 40))\n",
    "\n",
    "# You can also use aliases\n",
    "from addition import add as a\n",
    "\n",
    "print(a(30, 40))"
   ]
  },
  {
   "cell_type": "markdown",
   "id": "26b79627",
   "metadata": {},
   "source": [
    "- You can check all built-in modules with the below command;"
   ]
  },
  {
   "cell_type": "code",
   "execution_count": null,
   "id": "fe441467",
   "metadata": {},
   "outputs": [
    {
     "name": "stdout",
     "output_type": "stream",
     "text": [
      "\n",
      "Please wait a moment while I gather a list of all available modules...\n",
      "\n",
      "test_sqlite3: testing with SQLite version 3.42.0\n",
      "IPython             argparse            marshal             sysconfig\n",
      "__future__          array               math                tabnanny\n",
      "__hello__           ast                 matplotlib_inline   tarfile\n",
      "__phello__          asttokens           mimetypes           telnetlib\n",
      "_abc                asyncio             mmap                tempfile\n",
      "_aix_support        atexit              mmapfile            test\n",
      "_ast                audioop             mmsystem            textwrap\n",
      "_asyncio            base64              modulefinder        this\n",
      "_bisect             bdb                 msilib              threading\n",
      "_blake2             binascii            msvcrt              time\n",
      "_bz2                bisect              multiprocessing     timeit\n",
      "_codecs             builtins            nest_asyncio        timer\n",
      "_codecs_cn          bz2                 netbios             tkinter\n",
      "_codecs_hk          cProfile            netrc               token\n",
      "_codecs_iso2022     calendar            nntplib             tokenize\n",
      "_codecs_jp          cgi                 nt                  tomllib\n",
      "_codecs_kr          cgitb               ntpath              tornado\n",
      "_codecs_tw          chunk               ntsecuritycon       trace\n",
      "_collections        cmath               nturl2path          traceback\n",
      "_collections_abc    cmd                 numbers             tracemalloc\n",
      "_compat_pickle      code                odbc                traitlets\n",
      "_compression        codecs              opcode              tty\n",
      "_contextvars        codeop              operator            turtle\n",
      "_csv                collections         optparse            turtledemo\n",
      "_ctypes             colorama            os                  types\n",
      "_ctypes_test        colorsys            packaging           typing\n",
      "_datetime           comm                parso               unicodedata\n",
      "_decimal            commctrl            pathlib             unittest\n",
      "_elementtree        compileall          pdb                 urllib\n",
      "_functools          concurrent          perfmon             uu\n",
      "_hashlib            configparser        pickle              uuid\n",
      "_heapq              contextlib          pickletools         venv\n",
      "_imp                contextvars         pip                 warnings\n",
      "_io                 copy                pipes               wave\n",
      "_json               copyreg             pkgutil             wcwidth\n",
      "_locale             crypt               platform            weakref\n",
      "_lsprof             csv                 platformdirs        webbrowser\n",
      "_lzma               ctypes              plistlib            win2kras\n",
      "_markupbase         curses              poplib              win32api\n",
      "_md5                dataclasses         posixpath           win32clipboard\n",
      "_msi                datetime            pprint              win32com\n",
      "_multibytecodec     dateutil            profile             win32con\n",
      "_multiprocessing    dbm                 prompt_toolkit      win32console\n",
      "_opcode             dde                 pstats              win32cred\n",
      "_operator           debugpy             psutil              win32crypt\n",
      "_osx_support        decimal             pty                 win32cryptcon\n",
      "_overlapped         decorator           pure_eval           win32event\n",
      "_pickle             difflib             py_compile          win32evtlog\n",
      "_py_abc             dis                 pyclbr              win32evtlogutil\n",
      "_pydatetime         doctest             pydoc               win32file\n",
      "_pydecimal          email               pydoc_data          win32gui\n",
      "_pyio               encodings           pyexpat             win32gui_struct\n",
      "_pylong             ensurepip           pygments            win32help\n",
      "_queue              enum                pythoncom           win32inet\n",
      "_random             errno               pywin               win32inetcon\n",
      "_sha1               executing           pywin32_bootstrap   win32job\n",
      "_sha2               faulthandler        pywin32_testutil    win32lz\n",
      "_sha3               filecmp             pywintypes          win32net\n",
      "_signal             fileinput           queue               win32netcon\n",
      "_sitebuiltins       fnmatch             quopri              win32pdh\n",
      "_socket             fractions           random              win32pdhquery\n",
      "_sqlite3            ftplib              rasutil             win32pdhutil\n",
      "_sre                functools           re                  win32pipe\n",
      "_ssl                gc                  regcheck            win32print\n",
      "_stat               genericpath         regutil             win32process\n",
      "_statistics         getopt              reprlib             win32profile\n",
      "_string             getpass             rlcompleter         win32ras\n",
      "_strptime           gettext             runpy               win32rcparser\n",
      "_struct             glob                sched               win32security\n",
      "_symtable           graphlib            secrets             win32service\n",
      "_testbuffer         gzip                select              win32serviceutil\n",
      "_testcapi           hashlib             selectors           win32timezone\n",
      "_testclinic         heapq               servicemanager      win32trace\n",
      "_testconsole        hmac                shelve              win32traceutil\n",
      "_testimportmultiple html                shlex               win32transaction\n",
      "_testinternalcapi   http                shutil              win32ts\n",
      "_testmultiphase     idlelib             signal              win32ui\n",
      "_testsinglephase    imaplib             site                win32uiole\n",
      "_thread             imghdr              six                 win32verstamp\n",
      "_threading_local    importlib           smtplib             win32wnet\n",
      "_tkinter            inspect             sndhdr              winerror\n",
      "_tokenize           io                  socket              winioctlcon\n",
      "_tracemalloc        ipaddress           socketserver        winnt\n",
      "_typing             ipykernel           sqlite3             winperf\n",
      "_uuid               ipykernel_launcher  sre_compile         winreg\n",
      "_warnings           ipython_pygments_lexers sre_constants       winsound\n",
      "_weakref            isapi               sre_parse           winxpgui\n",
      "_weakrefset         itertools           ssl                 winxptheme\n",
      "_win32sysloader     jedi                sspi                wsgiref\n",
      "_win32verstamp_pywin32ctypes json                sspicon             xdrlib\n",
      "_winapi             jupyter             stack_data          xml\n",
      "_winxptheme         jupyter_client      start_pythonwin     xmlrpc\n",
      "_wmi                jupyter_core        stat                xxsubtype\n",
      "_xxinterpchannels   keyword             statistics          zipapp\n",
      "_xxsubinterpreters  lib2to3             string              zipfile\n",
      "_zoneinfo           linecache           stringprep          zipimport\n",
      "abc                 locale              struct              zlib\n",
      "adodbapi            logging             subprocess          zmq\n",
      "afxres              lzma                sunau               zoneinfo\n",
      "aifc                mailbox             symtable            \n",
      "antigravity         mailcap             sys                 \n",
      "\n",
      "Enter any module name to get more help.  Or, type \"modules spam\" to search\n",
      "for modules whose name or summary contain the string \"spam\".\n",
      "\n"
     ]
    }
   ],
   "source": [
    "help(\"modules\")"
   ]
  },
  {
   "cell_type": "markdown",
   "id": "bf9acfcf",
   "metadata": {},
   "source": [
    "### Module Search Path\n",
    "- Built-in modules are searched in folders of ``sys.path``:"
   ]
  },
  {
   "cell_type": "code",
   "execution_count": null,
   "id": "1410f9b4",
   "metadata": {},
   "outputs": [
    {
     "name": "stdout",
     "output_type": "stream",
     "text": [
      "c:\\Users\\pedro.luiz.da.silva\\AppData\\Local\\Programs\\Python\\Python312\\python312.zip\n",
      "c:\\Users\\pedro.luiz.da.silva\\AppData\\Local\\Programs\\Python\\Python312\\DLLs\n",
      "c:\\Users\\pedro.luiz.da.silva\\AppData\\Local\\Programs\\Python\\Python312\\Lib\n",
      "c:\\Users\\pedro.luiz.da.silva\\AppData\\Local\\Programs\\Python\\Python312\n",
      "\n",
      "C:\\Users\\pedro.luiz.da.silva\\AppData\\Roaming\\Python\\Python312\\site-packages\n",
      "C:\\Users\\pedro.luiz.da.silva\\AppData\\Roaming\\Python\\Python312\\site-packages\\win32\n",
      "C:\\Users\\pedro.luiz.da.silva\\AppData\\Roaming\\Python\\Python312\\site-packages\\win32\\lib\n",
      "C:\\Users\\pedro.luiz.da.silva\\AppData\\Roaming\\Python\\Python312\\site-packages\\Pythonwin\n",
      "c:\\Users\\pedro.luiz.da.silva\\AppData\\Local\\Programs\\Python\\Python312\\Lib\\site-packages\n"
     ]
    }
   ],
   "source": [
    "import sys\n",
    "\n",
    "for i in sys.path:\n",
    "    print(i)"
   ]
  },
  {
   "cell_type": "markdown",
   "id": "cd009539",
   "metadata": {},
   "source": [
    "### Reloading Modules\n",
    "- Python interpreter only loads modules once per session (import statements of previously imported modules are ignored);\n",
    "- To force a new import, restart the interpreter or use ``imp.reload``."
   ]
  },
  {
   "cell_type": "code",
   "execution_count": null,
   "id": "9e484641",
   "metadata": {},
   "outputs": [
    {
     "data": {
      "text/plain": [
       "0.05780540239179155"
      ]
     },
     "execution_count": 50,
     "metadata": {},
     "output_type": "execute_result"
    }
   ],
   "source": [
    "import random\n",
    "import imp  # Needs to be installed first\n",
    "\n",
    "imp.reload(random)\n",
    "\n",
    "random.random()"
   ]
  },
  {
   "cell_type": "markdown",
   "id": "34b46aa0",
   "metadata": {},
   "source": [
    "### dir() function\n",
    "- ``dir()`` is a built-in function to find names defined inside a module;\n",
    "- Returns a sorted list of the object's attributes: all the submodules, variables, functions, etc;"
   ]
  },
  {
   "cell_type": "code",
   "execution_count": null,
   "id": "0f015a6e",
   "metadata": {},
   "outputs": [
    {
     "data": {
      "text/plain": [
       "['BPF',\n",
       " 'LOG4',\n",
       " 'NV_MAGICCONST',\n",
       " 'RECIP_BPF',\n",
       " 'Random',\n",
       " 'SG_MAGICCONST',\n",
       " 'SystemRandom',\n",
       " 'TWOPI',\n",
       " '_ONE',\n",
       " '_Sequence',\n",
       " '__all__',\n",
       " '__builtins__',\n",
       " '__cached__',\n",
       " '__doc__',\n",
       " '__file__',\n",
       " '__loader__',\n",
       " '__name__',\n",
       " '__package__',\n",
       " '__spec__',\n",
       " '_accumulate',\n",
       " '_acos',\n",
       " '_bisect',\n",
       " '_ceil',\n",
       " '_cos',\n",
       " '_e',\n",
       " '_exp',\n",
       " '_fabs',\n",
       " '_floor',\n",
       " '_index',\n",
       " '_inst',\n",
       " '_isfinite',\n",
       " '_lgamma',\n",
       " '_log',\n",
       " '_log2',\n",
       " '_os',\n",
       " '_pi',\n",
       " '_random',\n",
       " '_repeat',\n",
       " '_sha512',\n",
       " '_sin',\n",
       " '_sqrt',\n",
       " '_test',\n",
       " '_test_generator',\n",
       " '_urandom',\n",
       " '_warn',\n",
       " 'betavariate',\n",
       " 'binomialvariate',\n",
       " 'choice',\n",
       " 'choices',\n",
       " 'expovariate',\n",
       " 'gammavariate',\n",
       " 'gauss',\n",
       " 'getrandbits',\n",
       " 'getstate',\n",
       " 'lognormvariate',\n",
       " 'normalvariate',\n",
       " 'paretovariate',\n",
       " 'randbytes',\n",
       " 'randint',\n",
       " 'random',\n",
       " 'randrange',\n",
       " 'sample',\n",
       " 'seed',\n",
       " 'setstate',\n",
       " 'shuffle',\n",
       " 'triangular',\n",
       " 'uniform',\n",
       " 'vonmisesvariate',\n",
       " 'weibullvariate']"
      ]
     },
     "execution_count": 64,
     "metadata": {},
     "output_type": "execute_result"
    }
   ],
   "source": [
    "import random\n",
    "\n",
    "dir(random)"
   ]
  },
  {
   "cell_type": "code",
   "execution_count": null,
   "id": "6878e9da",
   "metadata": {},
   "outputs": [
    {
     "name": "stdout",
     "output_type": "stream",
     "text": [
      "random\n",
      "{'__name__': 'random', '__doc__': 'Random variable generators.\\n\\n    bytes\\n    -----\\n           uniform bytes (values between 0 and 255)\\n\\n    integers\\n    --------\\n           uniform within range\\n\\n    sequences\\n    ---------\\n           pick random element\\n           pick random sample\\n           pick weighted random sample\\n           generate random permutation\\n\\n    distributions on the real line:\\n    ------------------------------\\n           uniform\\n           triangular\\n           normal (Gaussian)\\n           lognormal\\n           negative exponential\\n           gamma\\n           beta\\n           pareto\\n           Weibull\\n\\n    distributions on the circle (angles 0 to 2pi)\\n    ---------------------------------------------\\n           circular uniform\\n           von Mises\\n\\n    discrete distributions\\n    ----------------------\\n           binomial\\n\\n\\nGeneral notes on the underlying Mersenne Twister core generator:\\n\\n* The period is 2**19937-1.\\n* It is one of the most extensively tested generators in existence.\\n* The random() method is implemented in C, executes in a single Python step,\\n  and is, therefore, threadsafe.\\n\\n', '__package__': '', '__loader__': <_frozen_importlib_external.SourceFileLoader object at 0x0000015CD4525940>, '__spec__': ModuleSpec(name='random', loader=<_frozen_importlib_external.SourceFileLoader object at 0x0000015CD4525940>, origin='c:\\\\Users\\\\pedro.luiz.da.silva\\\\AppData\\\\Local\\\\Programs\\\\Python\\\\Python312\\\\Lib\\\\random.py'), '__file__': 'c:\\\\Users\\\\pedro.luiz.da.silva\\\\AppData\\\\Local\\\\Programs\\\\Python\\\\Python312\\\\Lib\\\\random.py', '__cached__': 'c:\\\\Users\\\\pedro.luiz.da.silva\\\\AppData\\\\Local\\\\Programs\\\\Python\\\\Python312\\\\Lib\\\\__pycache__\\\\random.cpython-312.pyc', '__builtins__': {'__name__': 'builtins', '__doc__': \"Built-in functions, types, exceptions, and other objects.\\n\\nThis module provides direct access to all 'built-in'\\nidentifiers of Python; for example, builtins.len is\\nthe full name for the built-in function len().\\n\\nThis module is not normally accessed explicitly by most\\napplications, but can be useful in modules that provide\\nobjects with the same name as a built-in value, but in\\nwhich the built-in of that name is also needed.\", '__package__': '', '__loader__': <class '_frozen_importlib.BuiltinImporter'>, '__spec__': ModuleSpec(name='builtins', loader=<class '_frozen_importlib.BuiltinImporter'>, origin='built-in'), '__build_class__': <built-in function __build_class__>, '__import__': <built-in function __import__>, 'abs': <built-in function abs>, 'all': <built-in function all>, 'any': <built-in function any>, 'ascii': <built-in function ascii>, 'bin': <built-in function bin>, 'breakpoint': <built-in function breakpoint>, 'callable': <built-in function callable>, 'chr': <built-in function chr>, 'compile': <built-in function compile>, 'delattr': <built-in function delattr>, 'dir': <built-in function dir>, 'divmod': <built-in function divmod>, 'eval': <built-in function eval>, 'exec': <built-in function exec>, 'format': <built-in function format>, 'getattr': <built-in function getattr>, 'globals': <built-in function globals>, 'hasattr': <built-in function hasattr>, 'hash': <built-in function hash>, 'hex': <built-in function hex>, 'id': <built-in function id>, 'input': <bound method Kernel.raw_input of <ipykernel.ipkernel.IPythonKernel object at 0x0000015CD6B19790>>, 'isinstance': <built-in function isinstance>, 'issubclass': <built-in function issubclass>, 'iter': <built-in function iter>, 'aiter': <built-in function aiter>, 'len': <built-in function len>, 'locals': <built-in function locals>, 'max': <built-in function max>, 'min': <built-in function min>, 'next': <built-in function next>, 'anext': <built-in function anext>, 'oct': <built-in function oct>, 'ord': <built-in function ord>, 'pow': <built-in function pow>, 'print': <built-in function print>, 'repr': <built-in function repr>, 'round': <built-in function round>, 'setattr': <built-in function setattr>, 'sorted': <built-in function sorted>, 'sum': <built-in function sum>, 'vars': <built-in function vars>, 'None': None, 'Ellipsis': Ellipsis, 'NotImplemented': NotImplemented, 'False': False, 'True': True, 'bool': <class 'bool'>, 'memoryview': <class 'memoryview'>, 'bytearray': <class 'bytearray'>, 'bytes': <class 'bytes'>, 'classmethod': <class 'classmethod'>, 'complex': <class 'complex'>, 'dict': <class 'dict'>, 'enumerate': <class 'enumerate'>, 'filter': <class 'filter'>, 'float': <class 'float'>, 'frozenset': <class 'frozenset'>, 'property': <class 'property'>, 'int': <class 'int'>, 'list': <class 'list'>, 'map': <class 'map'>, 'object': <class 'object'>, 'range': <class 'range'>, 'reversed': <class 'reversed'>, 'set': <class 'set'>, 'slice': <class 'slice'>, 'staticmethod': <class 'staticmethod'>, 'str': <class 'str'>, 'super': <class 'super'>, 'tuple': <class 'tuple'>, 'type': <class 'type'>, 'zip': <class 'zip'>, '__debug__': True, 'BaseException': <class 'BaseException'>, 'BaseExceptionGroup': <class 'BaseExceptionGroup'>, 'Exception': <class 'Exception'>, 'GeneratorExit': <class 'GeneratorExit'>, 'KeyboardInterrupt': <class 'KeyboardInterrupt'>, 'SystemExit': <class 'SystemExit'>, 'ArithmeticError': <class 'ArithmeticError'>, 'AssertionError': <class 'AssertionError'>, 'AttributeError': <class 'AttributeError'>, 'BufferError': <class 'BufferError'>, 'EOFError': <class 'EOFError'>, 'ImportError': <class 'ImportError'>, 'LookupError': <class 'LookupError'>, 'MemoryError': <class 'MemoryError'>, 'NameError': <class 'NameError'>, 'OSError': <class 'OSError'>, 'ReferenceError': <class 'ReferenceError'>, 'RuntimeError': <class 'RuntimeError'>, 'StopAsyncIteration': <class 'StopAsyncIteration'>, 'StopIteration': <class 'StopIteration'>, 'SyntaxError': <class 'SyntaxError'>, 'SystemError': <class 'SystemError'>, 'TypeError': <class 'TypeError'>, 'ValueError': <class 'ValueError'>, 'Warning': <class 'Warning'>, 'FloatingPointError': <class 'FloatingPointError'>, 'OverflowError': <class 'OverflowError'>, 'ZeroDivisionError': <class 'ZeroDivisionError'>, 'BytesWarning': <class 'BytesWarning'>, 'DeprecationWarning': <class 'DeprecationWarning'>, 'EncodingWarning': <class 'EncodingWarning'>, 'FutureWarning': <class 'FutureWarning'>, 'ImportWarning': <class 'ImportWarning'>, 'PendingDeprecationWarning': <class 'PendingDeprecationWarning'>, 'ResourceWarning': <class 'ResourceWarning'>, 'RuntimeWarning': <class 'RuntimeWarning'>, 'SyntaxWarning': <class 'SyntaxWarning'>, 'UnicodeWarning': <class 'UnicodeWarning'>, 'UserWarning': <class 'UserWarning'>, 'BlockingIOError': <class 'BlockingIOError'>, 'ChildProcessError': <class 'ChildProcessError'>, 'ConnectionError': <class 'ConnectionError'>, 'FileExistsError': <class 'FileExistsError'>, 'FileNotFoundError': <class 'FileNotFoundError'>, 'InterruptedError': <class 'InterruptedError'>, 'IsADirectoryError': <class 'IsADirectoryError'>, 'NotADirectoryError': <class 'NotADirectoryError'>, 'PermissionError': <class 'PermissionError'>, 'ProcessLookupError': <class 'ProcessLookupError'>, 'TimeoutError': <class 'TimeoutError'>, 'IndentationError': <class 'IndentationError'>, 'IndexError': <class 'IndexError'>, 'KeyError': <class 'KeyError'>, 'ModuleNotFoundError': <class 'ModuleNotFoundError'>, 'NotImplementedError': <class 'NotImplementedError'>, 'RecursionError': <class 'RecursionError'>, 'UnboundLocalError': <class 'UnboundLocalError'>, 'UnicodeError': <class 'UnicodeError'>, 'BrokenPipeError': <class 'BrokenPipeError'>, 'ConnectionAbortedError': <class 'ConnectionAbortedError'>, 'ConnectionRefusedError': <class 'ConnectionRefusedError'>, 'ConnectionResetError': <class 'ConnectionResetError'>, 'TabError': <class 'TabError'>, 'UnicodeDecodeError': <class 'UnicodeDecodeError'>, 'UnicodeEncodeError': <class 'UnicodeEncodeError'>, 'UnicodeTranslateError': <class 'UnicodeTranslateError'>, 'ExceptionGroup': <class 'ExceptionGroup'>, 'EnvironmentError': <class 'OSError'>, 'IOError': <class 'OSError'>, 'WindowsError': <class 'OSError'>, 'open': <built-in function open>, 'copyright': Copyright (c) 2001-2023 Python Software Foundation.\n",
      "All Rights Reserved.\n",
      "\n",
      "Copyright (c) 2000 BeOpen.com.\n",
      "All Rights Reserved.\n",
      "\n",
      "Copyright (c) 1995-2001 Corporation for National Research Initiatives.\n",
      "All Rights Reserved.\n",
      "\n",
      "Copyright (c) 1991-1995 Stichting Mathematisch Centrum, Amsterdam.\n",
      "All Rights Reserved., 'credits':     Thanks to CWI, CNRI, BeOpen.com, Zope Corporation and a cast of thousands\n",
      "    for supporting Python development.  See www.python.org for more information., 'license': Type license() to see the full license text, 'help': Type help() for interactive help, or help(object) for help about object., 'execfile': <function execfile at 0x0000015CD7BD54E0>, 'runfile': <function runfile at 0x0000015CD7D094E0>, '__IPYTHON__': True, 'display': <function display at 0x0000015CD55E6340>, 'get_ipython': <bound method InteractiveShell.get_ipython of <ipykernel.zmqshell.ZMQInteractiveShell object at 0x0000015CD7BC99A0>>}, '_warn': <built-in function warn>, '_log': <built-in function log>, '_exp': <built-in function exp>, '_pi': 3.141592653589793, '_e': 2.718281828459045, '_ceil': <built-in function ceil>, '_sqrt': <built-in function sqrt>, '_acos': <built-in function acos>, '_cos': <built-in function cos>, '_sin': <built-in function sin>, 'TWOPI': 6.283185307179586, '_floor': <built-in function floor>, '_isfinite': <built-in function isfinite>, '_lgamma': <built-in function lgamma>, '_fabs': <built-in function fabs>, '_log2': <built-in function log2>, '_urandom': <built-in function urandom>, '_Sequence': <class 'collections.abc.Sequence'>, '_index': <built-in function index>, '_accumulate': <class 'itertools.accumulate'>, '_repeat': <class 'itertools.repeat'>, '_bisect': <built-in function bisect_right>, '_os': <module 'os' (frozen)>, '_random': <module '_random' (built-in)>, '_sha512': <built-in function openssl_sha512>, '__all__': ['Random', 'SystemRandom', 'betavariate', 'binomialvariate', 'choice', 'choices', 'expovariate', 'gammavariate', 'gauss', 'getrandbits', 'getstate', 'lognormvariate', 'normalvariate', 'paretovariate', 'randbytes', 'randint', 'random', 'randrange', 'sample', 'seed', 'setstate', 'shuffle', 'triangular', 'uniform', 'vonmisesvariate', 'weibullvariate'], 'NV_MAGICCONST': 1.7155277699214135, 'LOG4': 1.3862943611198906, 'SG_MAGICCONST': 2.504077396776274, 'BPF': 53, 'RECIP_BPF': 1.1102230246251565e-16, '_ONE': 1, 'Random': <class 'random.Random'>, 'SystemRandom': <class 'random.SystemRandom'>, '_inst': <random.Random object at 0x0000015CD4359ED0>, 'seed': <bound method Random.seed of <random.Random object at 0x0000015CD4359ED0>>, 'random': <built-in method random of Random object at 0x0000015CD4359ED0>, 'uniform': <bound method Random.uniform of <random.Random object at 0x0000015CD4359ED0>>, 'triangular': <bound method Random.triangular of <random.Random object at 0x0000015CD4359ED0>>, 'randint': <bound method Random.randint of <random.Random object at 0x0000015CD4359ED0>>, 'choice': <bound method Random.choice of <random.Random object at 0x0000015CD4359ED0>>, 'randrange': <bound method Random.randrange of <random.Random object at 0x0000015CD4359ED0>>, 'sample': <bound method Random.sample of <random.Random object at 0x0000015CD4359ED0>>, 'shuffle': <bound method Random.shuffle of <random.Random object at 0x0000015CD4359ED0>>, 'choices': <bound method Random.choices of <random.Random object at 0x0000015CD4359ED0>>, 'normalvariate': <bound method Random.normalvariate of <random.Random object at 0x0000015CD4359ED0>>, 'lognormvariate': <bound method Random.lognormvariate of <random.Random object at 0x0000015CD4359ED0>>, 'expovariate': <bound method Random.expovariate of <random.Random object at 0x0000015CD4359ED0>>, 'vonmisesvariate': <bound method Random.vonmisesvariate of <random.Random object at 0x0000015CD4359ED0>>, 'gammavariate': <bound method Random.gammavariate of <random.Random object at 0x0000015CD4359ED0>>, 'gauss': <bound method Random.gauss of <random.Random object at 0x0000015CD4359ED0>>, 'betavariate': <bound method Random.betavariate of <random.Random object at 0x0000015CD4359ED0>>, 'binomialvariate': <bound method Random.binomialvariate of <random.Random object at 0x0000015CD4359ED0>>, 'paretovariate': <bound method Random.paretovariate of <random.Random object at 0x0000015CD4359ED0>>, 'weibullvariate': <bound method Random.weibullvariate of <random.Random object at 0x0000015CD4359ED0>>, 'getstate': <bound method Random.getstate of <random.Random object at 0x0000015CD4359ED0>>, 'setstate': <bound method Random.setstate of <random.Random object at 0x0000015CD4359ED0>>, 'getrandbits': <built-in method getrandbits of Random object at 0x0000015CD4359ED0>, 'randbytes': <bound method Random.randbytes of <random.Random object at 0x0000015CD4359ED0>>, '_test_generator': <function _test_generator at 0x0000015CD44D68E0>, '_test': <function _test at 0x0000015CD45554E0>}\n"
     ]
    }
   ],
   "source": [
    "import random\n",
    "\n",
    "print(random.__name__)  # checking some of their attributes\n",
    "print(random.__dict__)"
   ]
  },
  {
   "cell_type": "code",
   "execution_count": null,
   "id": "d3b2c097",
   "metadata": {},
   "outputs": [
    {
     "data": {
      "text/plain": [
       "['In',\n",
       " 'Out',\n",
       " '_',\n",
       " '_10',\n",
       " '_12',\n",
       " '_13',\n",
       " '_14',\n",
       " '_15',\n",
       " '_21',\n",
       " '_22',\n",
       " '_24',\n",
       " '_3',\n",
       " '_33',\n",
       " '_34',\n",
       " '_4',\n",
       " '_43',\n",
       " '_44',\n",
       " '_5',\n",
       " '_50',\n",
       " '_6',\n",
       " '_7',\n",
       " '__',\n",
       " '___',\n",
       " '__builtin__',\n",
       " '__builtins__',\n",
       " '__doc__',\n",
       " '__loader__',\n",
       " '__name__',\n",
       " '__package__',\n",
       " '__spec__',\n",
       " '__vsc_ipynb_file__',\n",
       " '_dh',\n",
       " '_i',\n",
       " '_i1',\n",
       " '_i10',\n",
       " '_i11',\n",
       " '_i12',\n",
       " '_i13',\n",
       " '_i14',\n",
       " '_i15',\n",
       " '_i16',\n",
       " '_i17',\n",
       " '_i18',\n",
       " '_i19',\n",
       " '_i2',\n",
       " '_i20',\n",
       " '_i21',\n",
       " '_i22',\n",
       " '_i23',\n",
       " '_i24',\n",
       " '_i25',\n",
       " '_i26',\n",
       " '_i27',\n",
       " '_i28',\n",
       " '_i29',\n",
       " '_i3',\n",
       " '_i30',\n",
       " '_i31',\n",
       " '_i32',\n",
       " '_i33',\n",
       " '_i34',\n",
       " '_i35',\n",
       " '_i36',\n",
       " '_i37',\n",
       " '_i38',\n",
       " '_i39',\n",
       " '_i4',\n",
       " '_i40',\n",
       " '_i41',\n",
       " '_i42',\n",
       " '_i43',\n",
       " '_i44',\n",
       " '_i45',\n",
       " '_i46',\n",
       " '_i47',\n",
       " '_i48',\n",
       " '_i49',\n",
       " '_i5',\n",
       " '_i50',\n",
       " '_i51',\n",
       " '_i52',\n",
       " '_i6',\n",
       " '_i7',\n",
       " '_i8',\n",
       " '_i9',\n",
       " '_ih',\n",
       " '_ii',\n",
       " '_iii',\n",
       " '_oh',\n",
       " 'a',\n",
       " 'arr',\n",
       " 'coolset',\n",
       " 'd',\n",
       " 'd1',\n",
       " 'dict',\n",
       " 'dict1',\n",
       " 'exit',\n",
       " 'frozen_list',\n",
       " 'frozen_tuple',\n",
       " 'get_ipython',\n",
       " 'i',\n",
       " 'inputdict',\n",
       " 'k',\n",
       " 'list_x',\n",
       " 'myinput',\n",
       " 'num',\n",
       " 'open',\n",
       " 'output',\n",
       " 'outputdict',\n",
       " 'quit',\n",
       " 'random',\n",
       " 'set1',\n",
       " 'sys',\n",
       " 't',\n",
       " 'tuple_x',\n",
       " 'x',\n",
       " 'y']"
      ]
     },
     "execution_count": 52,
     "metadata": {},
     "output_type": "execute_result"
    }
   ],
   "source": [
    "dir()  # If no argument is given, it returns all available functions, methods, properties, attributes and names of the local scope."
   ]
  },
  {
   "cell_type": "markdown",
   "id": "686158f4",
   "metadata": {},
   "source": [
    "## Packages\n",
    "- Way of structuring python's modules namespace;\n",
    "- Provides a hierarchical directory structure;\n",
    "- ``x.y``: submoduled x in a package y."
   ]
  },
  {
   "cell_type": "code",
   "execution_count": null,
   "id": "0737651b",
   "metadata": {},
   "outputs": [],
   "source": [
    "# Import modules from packages\n",
    "from mydemo.messages import bye\n",
    "\n",
    "# Import modules from subdirectories\n",
    "from subfolder.mydemo.messages import bye"
   ]
  },
  {
   "cell_type": "markdown",
   "id": "cdebc6dd",
   "metadata": {},
   "source": [
    "## Packages X Modules\n",
    "\n",
    "|Packages|Modules|\n",
    "|-|-|\n",
    "|Holds sub-packages and modules|Any file containing python code|\n",
    "|Must hold the ``__init__.py`` file|Doesn't hold the ``__init__.py`` file|\n",
    "|You can't import every package with an wildcard ``*``|You can import everything from a module with ``*``|"
   ]
  },
  {
   "cell_type": "markdown",
   "id": "e96e8e8f",
   "metadata": {},
   "source": [
    "# File Handling\n",
    "\n",
    "- ``open``: Makes the file ready for reading or writing;\n",
    "- Returns a file object (handle).\n",
    "- [File modes](https://www.geeksforgeeks.org/file-mode-in-python/);\n"
   ]
  },
  {
   "cell_type": "code",
   "execution_count": null,
   "id": "3c2cd5aa",
   "metadata": {},
   "outputs": [
    {
     "name": "stdout",
     "output_type": "stream",
     "text": [
      "<_io.TextIOWrapper name='helperFiles/randomfile.txt' mode='r' encoding='utf-8'>\n"
     ]
    }
   ],
   "source": []
  },
  {
   "cell_type": "markdown",
   "id": "0121b742",
   "metadata": {},
   "source": [
    "## Reading"
   ]
  },
  {
   "cell_type": "code",
   "execution_count": null,
   "id": "e3357756",
   "metadata": {},
   "outputs": [
    {
     "name": "stdout",
     "output_type": "stream",
     "text": [
      "Overwriting everything!\n",
      "Appending to the end!\n",
      "Appending to the end!\n",
      "Appending to the end!\n",
      "awooga! new lines!\n"
     ]
    }
   ],
   "source": [
    "file_open = open(\"helperFiles/randomfile.txt\", mode=\"r\", encoding=\"utf-8\")\n",
    "print(file_open.read())  # Reading as a string\n",
    "file_open.close()"
   ]
  },
  {
   "cell_type": "code",
   "execution_count": null,
   "id": "26656cb9",
   "metadata": {},
   "outputs": [
    {
     "name": "stdout",
     "output_type": "stream",
     "text": [
      "['Overwriting everything!\\n', 'Appending to the end!\\n', 'Appending to the end!\\n', 'Appending to the end!\\n', 'awooga! new lines!']\n"
     ]
    }
   ],
   "source": [
    "file_open = open(\"helperFiles/randomfile.txt\", mode=\"r\", encoding=\"utf-8\")\n",
    "print(file_open.readlines())  # Reading as a list\n",
    "file_open.close()"
   ]
  },
  {
   "cell_type": "code",
   "execution_count": null,
   "id": "7b1a6f12",
   "metadata": {},
   "outputs": [
    {
     "name": "stdout",
     "output_type": "stream",
     "text": [
      "Overw\n"
     ]
    }
   ],
   "source": [
    "file_open = open(\"helperFiles/randomfile.txt\", mode=\"r\", encoding=\"utf-8\")\n",
    "print(file_open.read(5))  # read specified length of characters\n",
    "file_open.close()"
   ]
  },
  {
   "cell_type": "markdown",
   "id": "aee74cbb",
   "metadata": {},
   "source": [
    "## Closing"
   ]
  },
  {
   "cell_type": "code",
   "execution_count": null,
   "id": "b7d643e7",
   "metadata": {},
   "outputs": [],
   "source": [
    "file_open.close()  # Closes and prevents reading or writing from that handler."
   ]
  },
  {
   "cell_type": "markdown",
   "id": "4367c63c",
   "metadata": {},
   "source": [
    "## Writing"
   ]
  },
  {
   "cell_type": "code",
   "execution_count": 76,
   "id": "11d920ec",
   "metadata": {},
   "outputs": [
    {
     "data": {
      "text/plain": [
       "['Overwriting everything!\\n']"
      ]
     },
     "execution_count": 76,
     "metadata": {},
     "output_type": "execute_result"
    }
   ],
   "source": [
    "file_open = open(\"helperFiles/randomfile.txt\", mode=\"w\", encoding=\"utf-8\")\n",
    "\n",
    "print(\"Overwriting everything!\", file=file_open)\n",
    "\n",
    "file_open.close()\n",
    "\n",
    "file_open = open(\"helperFiles/randomfile.txt\", mode=\"r\", encoding=\"utf-8\")\n",
    "\n",
    "file_open.readlines()"
   ]
  },
  {
   "cell_type": "code",
   "execution_count": 79,
   "id": "33bbdafb",
   "metadata": {},
   "outputs": [
    {
     "data": {
      "text/plain": [
       "['Overwriting everything!\\n',\n",
       " 'Appending to the end!\\n',\n",
       " 'Appending to the end!\\n',\n",
       " 'Appending to the end!\\n']"
      ]
     },
     "execution_count": 79,
     "metadata": {},
     "output_type": "execute_result"
    }
   ],
   "source": [
    "file_open = open(\"helperFiles/randomfile.txt\", mode=\"a\", encoding=\"utf-8\")\n",
    "\n",
    "print(\"Appending to the end!\", file=file_open)\n",
    "\n",
    "file_open.close()\n",
    "\n",
    "file_open = open(\"helperFiles/randomfile.txt\", mode=\"r\", encoding=\"utf-8\")\n",
    "\n",
    "file_open.readlines()"
   ]
  },
  {
   "cell_type": "markdown",
   "id": "ba752695",
   "metadata": {},
   "source": [
    "- Writelines takes lines as a list:"
   ]
  },
  {
   "cell_type": "code",
   "execution_count": null,
   "id": "8044ebee",
   "metadata": {},
   "outputs": [],
   "source": [
    "file_open = open(\n",
    "    \"helperFiles/randomfile.txt\", mode=\"w\", encoding=\"utf-8\"\n",
    ")  # 'a' mode would just append\n",
    "\n",
    "file_open.writelines([\"awooga! new lines!\"])\n",
    "\n",
    "file_open.close()\n",
    "\n",
    "file_open = open(\"helperFiles/randomfile.txt\", mode=\"r\", encoding=\"utf-8\")\n",
    "\n",
    "print(file_open.readlines())\n",
    "\n",
    "file_open.close()"
   ]
  },
  {
   "cell_type": "markdown",
   "id": "93f65707",
   "metadata": {},
   "source": [
    "## With Statement\n",
    "- Introduced in python 2.5 for manipulating files;\n",
    "- No need to write the close function."
   ]
  },
  {
   "cell_type": "code",
   "execution_count": null,
   "id": "c57b9ae4",
   "metadata": {},
   "outputs": [
    {
     "name": "stdout",
     "output_type": "stream",
     "text": [
      "['helloletswrite a file!']\n"
     ]
    }
   ],
   "source": [
    "file_lines = [\"hello\\n\", \"lets\\n\", \"write a file!\"]\n",
    "\n",
    "with open(\"helperFiles/randomfile.txt\", \"w\") as f1:\n",
    "    f1.writelines(file_lines)\n",
    "\n",
    "file_open = open(\"helperFiles/randomfile.txt\", mode=\"r\", encoding=\"utf-8\")\n",
    "print(file_open.readlines())\n",
    "file_open.close()"
   ]
  },
  {
   "cell_type": "code",
   "execution_count": null,
   "id": "87f4de99",
   "metadata": {},
   "outputs": [],
   "source": []
  }
 ],
 "metadata": {
  "kernelspec": {
   "display_name": "Python 3",
   "language": "python",
   "name": "python3"
  },
  "language_info": {
   "codemirror_mode": {
    "name": "ipython",
    "version": 3
   },
   "file_extension": ".py",
   "mimetype": "text/x-python",
   "name": "python",
   "nbconvert_exporter": "python",
   "pygments_lexer": "ipython3",
   "version": "3.12.0"
  }
 },
 "nbformat": 4,
 "nbformat_minor": 5
}
